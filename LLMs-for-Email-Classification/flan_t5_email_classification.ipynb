{
  "cells": [
    {
      "cell_type": "code",
      "execution_count": null,
      "metadata": {
        "colab": {
          "base_uri": "https://localhost:8080/"
        },
        "id": "ji-J7fcgfULz",
        "outputId": "085c5f86-a5ad-440f-9300-4e192db36913"
      },
      "outputs": [
        {
          "name": "stdout",
          "output_type": "stream",
          "text": [
            "Requirement already satisfied: evaluate in /usr/local/lib/python3.10/dist-packages (0.4.2)\n",
            "Requirement already satisfied: datasets>=2.0.0 in /usr/local/lib/python3.10/dist-packages (from evaluate) (2.20.0)\n",
            "Requirement already satisfied: numpy>=1.17 in /usr/local/lib/python3.10/dist-packages (from evaluate) (1.26.4)\n",
            "Requirement already satisfied: dill in /usr/local/lib/python3.10/dist-packages (from evaluate) (0.3.8)\n",
            "Requirement already satisfied: pandas in /usr/local/lib/python3.10/dist-packages (from evaluate) (2.1.4)\n",
            "Requirement already satisfied: requests>=2.19.0 in /usr/local/lib/python3.10/dist-packages (from evaluate) (2.32.3)\n",
            "Requirement already satisfied: tqdm>=4.62.1 in /usr/local/lib/python3.10/dist-packages (from evaluate) (4.66.5)\n",
            "Requirement already satisfied: xxhash in /usr/local/lib/python3.10/dist-packages (from evaluate) (3.4.1)\n",
            "Requirement already satisfied: multiprocess in /usr/local/lib/python3.10/dist-packages (from evaluate) (0.70.16)\n",
            "Requirement already satisfied: fsspec>=2021.05.0 in /usr/local/lib/python3.10/dist-packages (from fsspec[http]>=2021.05.0->evaluate) (2024.5.0)\n",
            "Requirement already satisfied: huggingface-hub>=0.7.0 in /usr/local/lib/python3.10/dist-packages (from evaluate) (0.23.5)\n",
            "Requirement already satisfied: packaging in /usr/local/lib/python3.10/dist-packages (from evaluate) (24.1)\n",
            "Requirement already satisfied: filelock in /usr/local/lib/python3.10/dist-packages (from datasets>=2.0.0->evaluate) (3.15.4)\n",
            "Requirement already satisfied: pyarrow>=15.0.0 in /usr/local/lib/python3.10/dist-packages (from datasets>=2.0.0->evaluate) (17.0.0)\n",
            "Requirement already satisfied: pyarrow-hotfix in /usr/local/lib/python3.10/dist-packages (from datasets>=2.0.0->evaluate) (0.6)\n",
            "Requirement already satisfied: aiohttp in /usr/local/lib/python3.10/dist-packages (from datasets>=2.0.0->evaluate) (3.10.1)\n",
            "Requirement already satisfied: pyyaml>=5.1 in /usr/local/lib/python3.10/dist-packages (from datasets>=2.0.0->evaluate) (6.0.1)\n",
            "Requirement already satisfied: typing-extensions>=3.7.4.3 in /usr/local/lib/python3.10/dist-packages (from huggingface-hub>=0.7.0->evaluate) (4.12.2)\n",
            "Requirement already satisfied: charset-normalizer<4,>=2 in /usr/local/lib/python3.10/dist-packages (from requests>=2.19.0->evaluate) (3.3.2)\n",
            "Requirement already satisfied: idna<4,>=2.5 in /usr/local/lib/python3.10/dist-packages (from requests>=2.19.0->evaluate) (3.7)\n",
            "Requirement already satisfied: urllib3<3,>=1.21.1 in /usr/local/lib/python3.10/dist-packages (from requests>=2.19.0->evaluate) (2.0.7)\n",
            "Requirement already satisfied: certifi>=2017.4.17 in /usr/local/lib/python3.10/dist-packages (from requests>=2.19.0->evaluate) (2024.7.4)\n",
            "Requirement already satisfied: python-dateutil>=2.8.2 in /usr/local/lib/python3.10/dist-packages (from pandas->evaluate) (2.8.2)\n",
            "Requirement already satisfied: pytz>=2020.1 in /usr/local/lib/python3.10/dist-packages (from pandas->evaluate) (2024.1)\n",
            "Requirement already satisfied: tzdata>=2022.1 in /usr/local/lib/python3.10/dist-packages (from pandas->evaluate) (2024.1)\n",
            "Requirement already satisfied: aiohappyeyeballs>=2.3.0 in /usr/local/lib/python3.10/dist-packages (from aiohttp->datasets>=2.0.0->evaluate) (2.3.4)\n",
            "Requirement already satisfied: aiosignal>=1.1.2 in /usr/local/lib/python3.10/dist-packages (from aiohttp->datasets>=2.0.0->evaluate) (1.3.1)\n",
            "Requirement already satisfied: attrs>=17.3.0 in /usr/local/lib/python3.10/dist-packages (from aiohttp->datasets>=2.0.0->evaluate) (24.1.0)\n",
            "Requirement already satisfied: frozenlist>=1.1.1 in /usr/local/lib/python3.10/dist-packages (from aiohttp->datasets>=2.0.0->evaluate) (1.4.1)\n",
            "Requirement already satisfied: multidict<7.0,>=4.5 in /usr/local/lib/python3.10/dist-packages (from aiohttp->datasets>=2.0.0->evaluate) (6.0.5)\n",
            "Requirement already satisfied: yarl<2.0,>=1.0 in /usr/local/lib/python3.10/dist-packages (from aiohttp->datasets>=2.0.0->evaluate) (1.9.4)\n",
            "Requirement already satisfied: async-timeout<5.0,>=4.0 in /usr/local/lib/python3.10/dist-packages (from aiohttp->datasets>=2.0.0->evaluate) (4.0.3)\n",
            "Requirement already satisfied: six>=1.5 in /usr/local/lib/python3.10/dist-packages (from python-dateutil>=2.8.2->pandas->evaluate) (1.16.0)\n"
          ]
        }
      ],
      "source": [
        "!pip install evaluate"
      ]
    },
    {
      "cell_type": "markdown",
      "metadata": {
        "id": "puplflcVee4h"
      },
      "source": [
        "Import libraries"
      ]
    },
    {
      "cell_type": "code",
      "execution_count": null,
      "metadata": {
        "id": "jfdzWDAqnktu"
      },
      "outputs": [],
      "source": [
        "import os\n",
        "from typing import List, Tuple\n",
        "import nltk\n",
        "import torch\n",
        "from sklearn.metrics import classification_report, accuracy_score, precision_recall_fscore_support\n",
        "import evaluate\n",
        "import numpy as np\n",
        "import datasets\n",
        "from datasets import load_dataset, Dataset, concatenate_datasets\n",
        "from nltk.tokenize import sent_tokenize\n",
        "from transformers import (\n",
        "    Seq2SeqTrainer,\n",
        "    Seq2SeqTrainingArguments,\n",
        "    AutoModelForSeq2SeqLM,\n",
        "    AutoTokenizer,\n",
        "    Trainer,\n",
        "    TrainingArguments,\n",
        "    pipeline,\n",
        "    DataCollatorForSeq2Seq,\n",
        ")\n",
        "import pandas as pd\n",
        "from sklearn.model_selection import train_test_split\n",
        "from sklearn.utils import shuffle"
      ]
    },
    {
      "cell_type": "markdown",
      "metadata": {
        "id": "XmOFLKNYee4j"
      },
      "source": [
        "- Read train data"
      ]
    },
    {
      "cell_type": "code",
      "execution_count": null,
      "metadata": {
        "id": "tb1hONGbpVwN"
      },
      "outputs": [],
      "source": [
        "def read_files(directory, label):\n",
        "    texts = []\n",
        "    labels = []\n",
        "    for filename in os.listdir(directory):\n",
        "        if filename.endswith(\".txt\"):\n",
        "            with open(os.path.join(directory, filename), 'r', encoding='utf-8') as file:\n",
        "                texts.append(file.read())\n",
        "                labels.append(label)\n",
        "    return texts, labels"
      ]
    },
    {
      "cell_type": "code",
      "execution_count": null,
      "metadata": {
        "id": "hqFP3L-9pXrM"
      },
      "outputs": [],
      "source": [
        "spam_texts, spam_labels = read_files(\"TrainData/spam/\", \"spam\")\n",
        "notspam_texts, notspam_labels = read_files(\"TrainData/notspam/\", \"notspam\")\n",
        "all_texts = spam_texts + notspam_texts\n",
        "all_labels = spam_labels + notspam_labels\n",
        "df = pd.DataFrame({'text': all_texts, 'label': all_labels})"
      ]
    },
    {
      "cell_type": "code",
      "execution_count": null,
      "metadata": {
        "colab": {
          "base_uri": "https://localhost:8080/",
          "height": 206
        },
        "id": "ITja8lqDq38e",
        "outputId": "a14867a9-a543-4f35-ba59-60827d0d7784"
      },
      "outputs": [
        {
          "data": {
            "application/vnd.google.colaboratory.intrinsic+json": {
              "summary": "{\n  \"name\": \"df\",\n  \"rows\": 211,\n  \"fields\": [\n    {\n      \"column\": \"text\",\n      \"properties\": {\n        \"dtype\": \"string\",\n        \"num_unique_values\": 210,\n        \"samples\": [\n          \"Subject: gent conference\\n\\n\\\" listserv \\\" international conference 1992 second circular : february 1992 literature analysis discourse special attention multicultural context tuesday 8 september - friday 11 september 1992 gent university , belgium writing reading literature , oral literary traditions , dialogic text , non-literary narratives , discourse theory , literature social practice , etc . , etc . , etc . keynote speakers : david birch ( murdoch , australia ) martin montgomery ( strathclyde , scotland ) elinor ochs ( los angeles , usa ) statement pala ' s aims pala 's principal aim is encourage cooperation between scholars teachers interested language / literary studies . interests pala members are wide , is reflected papers given pala conferences . interests members include : stylistics , literary theory , teaching language literature , critical linguistics , pragmatics , discours analysis , textual understanding , rhetoric , narratology , semiotic approaches text performance , sociolinguistics , cultural studies , post-structuralist theory ; short , theme has relevance study teaching language literature role society . 1992 conference theme highlight currently expanding field discours studies , 1992 conference has core theme ' literature analysis discourse , special attention multicultural context ' . papers covering interests wide processes writing reading literature , analysis dialogic text , oral literary traditions , relationship between literary non-literary discourse , discourse theory literary communication social practice been proposed , those dealing specifically writing reading literature multilingual / multicultural context . 1992 conference venue gent university is city type ; is campus , university buildings are dotted around town . conference sessions place hoveniersberg , overlooking bovenschelde one quiet parts town . programme conference sessions start morning wednesday full three days . is envisaged most participants arrive register tuesday evening . our provisional programme looks : tuedsday 8 sept 15 . 00 onwards : registration wednesday 9 sept 08 . 30 - 09 . 30 : late registration 09 . 45 : opening conference 10 . 00 - 18 . 00 : conference sessions 18 . 30 : pre-booked dinner 20 . 15 : drinks reception thursday 10 sept 08 . 30 - 18 . 00 : conference sessions 18 . 30 : pala agm 20 . 00 : pre-booked dinner friday 11 sept 08 . 30 - 17 . 00 : conference sessions 17 . 15 : wind-up session evening : activities arranged continuous coffee , tea , etc . throughout conference sessions . accommodation rooms vermeylen student hall residence , couple hundred metres conference centre , are available participants . is possible book rooms several nights either side conference dates . price registration form includes breakfast . unfortunately , double rooms are available . prefer stay hotel , recommend arcade hotel ( nederkouter , 9000 gent ; tel . 32-91 - 25 . 07 . 07 ) , is 10 minutes ' walk conference centre . alternatively , contact gent tourist office ( meersstraat 138 , 9000 gent ; tel . 32-91 - 25 . 35 . 55 ) . food breakfast served overpoort , university eating complex next door vermeylen . lunch supper is available conference participants , are snacks throughout day . single ' conference dinner ' , easier participants meet each , are arranging dinners both wednesday thursday evenings university restaurant . pre-booked . staying gent gent ( population around 230 , 000 ) is historic flemish city , first europe declare itself independent feudal control . has plethora medieval vistas bridges is thus entitled compete bruges amsterdam title ' venice north ' . is busy industrial city commercial administrative centre east flanders . first language is flemish / dutch ( depending one 's sociolinguistic viewpoint ) nearly every-body both english french least degree fluency . are numerous restaurants , cafes pubs near conference area ( including two vegetarian restaurants ) , many stay open small hours . prices are cheap northern european standards . those wishing combine conference visit gent surrounding area , train less hour bruges , brussels , antwerp belgian coast . even ardennes paris within few hours . registration / queries attend conference , fill registration form return , payment , 1st . confirmation registration details arrangements sent third circular those registered , enquiries , contact jim o'driscoll stef slembrouck seminarie voor engelse taalkunde , universiteit gent , rozier 44 , b-9000 gent , belgium ( tel : 32-91 - 64 . 37 . 88 / 89 / 90 ; fax : 32-91 - 64 . 41 . 95 ; e-mail pala92 @ engllang . rug . ac . ) . * * * * * * * * * * * * * * * * * * * * * * * * * * * * * * * * * * * * * * * * * * * * * * * * * * * * * * * * * * * * pala 92 gent university registration form surname _ _ _ _ _ _ _ _ _ _ _ _ _ _ _ _ _ _ _ _ _ _ _ _ _ _ _ _ _ _ _ _ _ _ _ _ _ _ _ _ first name ( s ) _ _ _ _ _ _ _ _ _ _ _ _ _ _ _ _ _ _ _ _ _ _ _ _ _ _ _ _ _ _ _ _ _ _ _ _ _ _ address _ _ _ _ _ _ _ _ _ _ _ _ _ _ _ _ _ _ _ _ _ _ _ _ _ _ _ _ _ _ _ _ _ _ _ _ _ _ _ _ _ _ _ _ _ _ _ _ _ _ _ _ _ _ _ _ _ _ _ _ _ _ _ _ _ _ _ _ _ _ _ _ _ _ _ _ _ _ _ _ _ _ affiliation _ _ _ _ _ _ _ _ _ _ _ _ _ _ _ _ _ _ _ _ _ _ _ _ _ _ _ _ _ _ _ _ _ _ _ _ _ _ _ _ participate conference enclose eurocheque ( arranged direct transfer pala account belgium ) cover : ( tick appropriate ) pala member conference fee ( bf 1000 ) _ _ _ _ _ _ non-member conference fee ( bf 2000 ) _ _ _ _ _ _ student conference fee ( bf 600 ) _ _ _ _ _ _ dinner 9th september ( bf 500 ) _ _ _ _ _ _ dinner 10th september ( bf 500 ) _ _ _ _ _ _ accommodation tue 8th september ( bf 525 ) _ _ _ _ _ _ accommodation wed 9th september ( bf 525 ) _ _ _ _ _ _ accommodation thu 10th september ( bf 525 ) _ _ _ _ _ _ accommodation fri 11th september ( bf 525 ) _ _ _ _ _ _ accommodation ( specify ) ( bf ) _ _ _ _ _ _ fee international money transfer cheque eurocheques * ( bf 300 ) _ _ _ _ _ _ therefore enclose ( transferred ) total bf _ _ _ _ _ _ lacto-vegetarian / vegan food dinner ( s ) booked _ _ _ _ _ signature _ _ _ _ _ _ _ _ _ _ _ _ _ _ _ _ please return pala conference 1992 , seminarie voor engelse taalkunde , universiteit gent , rozier 44 , b-9000 gent , belgium ( pala9 @ engllang . rug . ac . ) . final date registration is 1st 1992 . _ _ _ _ _ _ _ _ _ _ _ _ _ _ _ _ _ _ _ _ _ * . note payments must made belgian francs . cheques made payable ' pala conference 1992 ' . single eurocheque must bf 7 , 000 . international money transfers sent via ' swift ' , quoting our bank 's swift number ( bbru bb 900 ) our account number : bbl 390-0959358 - 83 . problems either method payment , please contact organizers .\\n\",\n          \"Subject: job advert - rf computational linguistics\\n\\n( please forward additional interested parties ) university brighton information technology research institute research fellow - computational linguistics ( fixed term 3 years ) # 19 , 137 per annum post is concerned development techniques enhancing representational structure large-scale lexicons . work involve surveying collecting existing lexical resources , rapid prototyping enhancement techniques , testing evaluation through construction pilot applications , refinement techniques usable tools . phd computational linguistics closely related area , experience lexical representation programming skills , including familiarity prolog either pop11 lisp , are essential . familiarity lexical representation language datr , lexical formalisms , is highly desirable . experience large-scale lexicon development acquisition , developing tools language engineering advantage . ref : it916 informal discussion post , please telephone dr . roger evans , deputy head information technology research institute , ( 01273 ) 642900 , email roger . evans @ itri . bton . ac . uk . further details application form contact personnel department , university brighton , brighton , bn2 4at , 24 hour answerphone : ( 01273 ) 642849 quoting appropriate reference number . need further information , ring ( 01273 ) 642837 . closing date : 25th november 1994 information post project found itri ftp server ( ftp . itri . bton . ac . uk ) following files : pub / itri / posts / it916-seal - advert message pub / itri / posts / it916-seal - jobdesc job description post pub / itri / posts / it916-seal - project project description note , however , applications made forms available above address .\\n\",\n          \"Subject: zellig harris\\n\\nthursday night , 21 , zellig harris died sleep after pleasant working day . was 88 years old . was born 1904 byelorussia . am told chose name zellig sabbettai family immigrated united states was four . semantics happiness steadfastness were mind . certainly were keynotes life . guess parents chose name harris . died , was finishing book politics had been planning most life . 1992 publication book _ theory language information _ ( oxford ) , had wrapped life 's work language , least being . seems felt liberty unfinished business . understand paul mattick , jr . , was harris 's friend neighbor many years york , book describes capitalism socialism . is surely conventional either capitalism socialism , harris was anarchist . oxford was interested publishing , had talked cambridge . is memorial planned , beyond something private family . however , is discussion beginning public meeting scientific content . hope festschrift haj ross called lsa meetings years ago might being . harris described himself methodologist rather linguist . misleading . always said work was part linguistics is institutionally defined , linguists interested work , though interested language . nonetheless , was surely linguist most operational definitions one might . had done extensive fieldwork variety language . was doing final revision 1992 oxford book , undertook test theory language against every language had control , 44 languages . spent months reading grammars morning night , evaluating whether theory had reasonable account found . was clear scientific conclusions were warranted , particular notice check is given book , wanted feel reasonably secure conclusions were idiosyncratic english , french , german , korean , few languages had been primary bases development . was pleased results . contributions field were numerous weighty . founded first linguistics department u . s . introduced algebraic representations abstract mathematical treatment become much norms field is difficult appreciate much did over kicking screaming protests peers . invented x - bar notation immediate constituent analysis , though course name , cope known weakness ic analysis head-of relation . developed ways accomodate discontinuous morphemes grammatical analysis . charted difficulties experienced bloch others phonology , saying contrast rather phonetic identity is basis setting phonemes , ghost has risen haunt generative phonology once . invented string analysis complement ( rival ) immediate constituent analysis . complementarity respect head-of problem is basis joshi 's tree - adjoining grammars ( tags ) . invented transformational analysis context developing discourse analysis information content texts . contributions await recognition exploitation field linguistics institutionalized today , fields . obvious examples include sublanguage analysis sublanguage grammar , operator grammar based word dependency , discourse analysis information content , theory information account central aspect semantics . example , string grammar natural extension transformational grammar is basis successful work naomi sager others nyu information formatting sublanguage texts , applied mainly medical informatics . stephen johnson has implemented system representing information content texts , based operator grammar . successes sort are little noticed within linguistics . is characteristic harris was vanity self importance . knew work was lasting importance , treated , was guru empire builder seeking followers , accept role being projected onto . those students sought entree linguistics social institution academia were bound disappointed . however , scarcely blamed disappointment . did provide entree , nor did pretend , hearing actively discouraged students imagined work further ambitions field . once , role ta john fought , prepared lecture harris 's approach syntax semantics . were setting lecture hall , encountered harris , blurted \\\" ' m lecture theory john 's class . \\\" ( john , characteristic wry humor , asked wanted anything back . ) harris bemusedly questioned whether anyone interested was doing . nonetheless , gave public lecture \\\" two structures language : report paraphrase \\\" 1969 1970 , large auditorium ( was furness building ) was filled capacity , critique john corcoran , published later volume _ transformationelle analyse _ edited senta ploetz , was attended . broad attendance acclaim work easily been , had chosen . is simply where ambitions lay . clue basis choice against fame influence perhaps found advice student starting first teaching position , many years ago . n't invite anybody over dinner , said , n't accept invitations . involved social life academic , won't able work done . work came first . harris was always intensely loyal man friends family . consequences , combined laissez-faire anarchism , were always happy . friend close colleague many years , henry hiz , was much concerned building formal linguistics program institution . disparity character devastating students . studied harris 1966 through 1970 . was undergraduate much , did matter . had sink-or - swim approach attributed sapir ( darnell 1990 ) , except seminars were course focussed theory rather data , , athabaskan . seminar start talking was working . started , was work resulted 1968 book , _ mathematical structures language _ ( wiley ) . process was lecture monologue , continuing conversation students , trying alternatives , posing working problems mathematical characterization language . after while , intensive reading outside , one began catch participate . recall telling end one seminar meeting first try disprove theory . troubled bit . worked problem modern greek thought might troublesome approach . ( had lived greece couple years , spoke language , worked informant project . ) results turned actually corroborate point had intended challenge , merely thanked data greek . two later , had proposal analyze definitions dictionary extract semantic primitives form componential analysis , much martha evens others done . although notion semantic features seems inimical concept method work , said ( is exact quote ) \\\" others tried failed , are welcome try . \\\" offer refutation sometimes heard view harris was dictatorial . ran conflicts matters hiz , never harris . heard asked why never retorted attacks work . did matter . did expect methods results understood taken everyone field linguistics . maybe attitude differed 1940s , wrote structural restatements manuscript eventually published _ methods structural linguistics _ . ( btw , title was said \\\" descriptive \\\" publisher substituted buzzword \\\" structural . \\\" recall saying , amusedly , \\\" n't remember whether asked . \\\" ) maybe expectations field changed after chomsky 's followers began making bad guy . n't , based writings testimony were students . never heard comment commonplace attribution chomsky discovery transformational grammar \\\" transformational revolution . \\\" is passage _ state art _ ( 1968 ) hockett attributes harris \\\" nothing , long silence , after 1957 , \\\" showing ignorance things string analysis , might excused , even ignoring 1965 paper transformational theory prominently published _ language _ . showed passage harris , shrugged . did matter . particular , never saw evidence harris opposed blocked chomsky 's ambitions . experience been entirely character . example , was harris proposed chomsky speak stead 1962 international congress . similar canard regarding bernard bloch has recently been laid rest editorial language . one must alert social psychology leads rewrite history avatar is depicted embattled hero . , old indian friend once told one cannot point finger without having three fingers same hand pointing back , hasten add is picture intend paint here harris . accomplished intended quite , thank much , seems been quite happy process . point is precisely seemed embattled attacks uncomprehending misconstruals work . uncomprehending misconstruals abound . frawley 's review _ grammar english mathematical principles _ ( gemp ) is example . identifies harris 's operator grammar predicate calculus , though harris is pains delineate critical differences between language ( fortiori operator grammar ) language-like mathematical systems , including predicate calculus . frawley comprehensive grammar attempt 1960s generative grammar 1980 , is unable step generativist paradigm understand harris 's work own terms . another review ( eric wheeler , 1984 _ computers humanities _ ) asserted harris 's grammar was unable account certain familiar semantic problems - - middle voice , semantics vs . seek , quantifier scope examples \\\" someone was opposed everyone . \\\" review ( _ computational linguistics _ 1984 ) showed harris did fact account each problems book . michael kac , review harris 's selected writings , asked \\\" why bother ? \\\" indeed , within generativist paradigm must plausible question . is setting aside paradigmatic blinkers one , having writings one place , consistent self coherent harris 's program has been over years . transformational grammar was revolutionary break part continuous evolution . mention one misconception harris 's work , is fundamental is commonplace . probably greeted disbelief discovery procedures were aim . ( jim mccawley 's witticism harris discovery procedures collection traditionally circulated really reverses roles teller butt joke . ) is hard linguists mistaken belief . discovery procedures are abiding fixture linguistics institutionally defined . _ methods _ was published , linguists sought aid fieldwork writing linguistic descriptions . , discovery procedures are institutionalized whipping boy . has colored perceptions harris 's intentions results . harris , was certainly interest value redundancy one level linguistic representation used practical determine boundaries objects next , was corroborative byproduct , aim . \\\" constructional procedure \\\" described 1955 paper phoneme morpheme was implemented fortran early 1960s proven work , ralph grishman has had preliminary success implementing programs discover word classes rules sublanguage grammar sublanguage texts . general harris did discovery procedures were feasible . particular , told thought grammatical analysis done solely corpus asking informants , one had control language oneself . one had work over data tease pattern wrestle coherent form , lengthy demanding process , probably most us experience . much popularized image feeding corpus , turning crank , having grammar reel end . introduction _ methods structural linguistics _ , harris states clearly methods are discovery procedures . accepts one uses many means proposals describing is going language - - hunches , guesses , heuristic rules thumb , typological generalizations , proposed universals , comparison related languages earlier stages language , , art science ( rather , art engineering ) . harris was acutely aware danger swamping one 's control language growing familiarity marginal examples . language is after social institution , continuously change is constantly recreated crucible . aim methods was substitute informal ways coming possible analyses , verify , given result , whether result had valid relation data language . those actually read book , many said ( fact said ) \\\" did n't really mean . \\\" nothing else , harris was always careful exactly meant . concern verification arises deeper concern becomes explicit harris 's later work . is critical point linguistics . science , is standpoint external science domain metascience . particular , practitioners physics , chemistry , even mathematics , rely \\\" background vernacular \\\" language ensure communication shared meanings ultimately validate relation conclusions , however reached , observations are based . science language . harris recognized accepted is vantage point outside language describe language . , observably , each language contains own metalanguage . ' ll repeat , is key understanding harris was , is easy overlook importance . is vantage point outside language describe language . contrast , generativist theory postulates universal metalanguage , external language , is part one 's biological endowment . ( personally biologicist , neophrenologist doctrine mental organs credible , issue rests opinion facts yet determined . ) stance seems perfectly consonant argument made stephen anderson \\\" why phonology is n't natural . \\\" one cannot derive linguistic structure findings study bearing metascience relation linguistics . harris was interested language carry transmit information , is thread underlies really remarkable consistency work over 50 years . intuitively , differences form correlate differences meaning , correlation is messy inconsistent observed data language ( , body writings phonemic transcriptions , including whatever utterances investigator ad hoc search examples ) . harris found was messy , inconsistent stream words product two concurrent systems : system word dependencies correlates perceptions subject-matter domain science subfield , system reductions changes word shapes ( often zero ) , motivated part issues redundancy efficiency part historically contingent social convention . reductions introduce degeneracies ambiguity paraphrase , otherwise obscure correlation form meaning , without destroying correlation . given structure ( differences form ) correlates meaning , is critical importance machinery description import structure extraneous found language . harris 's endeavor was always , , determine \\\" least grammar , \\\" description required absolute minimum primitive objects relations . additional objects relations description introduce extrinsic structure obscures informational structure language . basis telling critique various theories language . harris chose critique . asked once certain aspects generativist theory , comment , evidence mild amusement , did seem over-structured . teacher , sapir , harris had interest problems international communication international auxiliary language . ( paper appeared 1962 volume avoiding world war iii . remember wwiii , everyone ? ) sapir bloomfield had particular long standing interest international cooperation communication science . culminated _ form information science : analysis immunology sublanguage _ ( michael gottfried , tom ryckman , others , 1989 , john benjamins ) . book describes grammar sublanguage immunology during specific period development field , based discourse analysis sublanguage texts period adequate making explicit information structures arbitrary texts sublanguage . analysis shows structure sublanguage changed concurrently change immunologists ' perceptions domain science . difference informational structure correlates difference meaning . informational structures are clearly represented binary array resulting discourse analysis are still present actual form source texts written albeit obscured under reductions word shape , motivated considerations informational efficiency avoidance redundancy , dictated conventions language human social institution . harris arranged life enhance autonomy work . understand kibbutz israel is wealthy one , members assets income , turn supports needs . believe kibbutz purchased apartment building charles street . until retirement , held endowed chair penn , benjamin franklin professorship linguistics . was principal investigator long series grants nsf , nimh , agencies whose committees referees found work continuing value . throughout life was involved scientists science . wife was physicist university jerusalem , had been albert einstein 's assistant princeton . brother was immunologist ( is author work analyzed 1989 book ) . felt rough tumble polemic attack retort was inappropriate science , participate . too distraction work . after one bampton lectures columbia 1986 , young member audience approached asked had another lifetime before . mentioned poetry , especially longer works 19th century poets browning . mentioned music . mentioned sign language . had long productive life . had brought life 's work successful culmination . completion book politics , imagine death coming , chess playing knight seventh seal , saying \\\" ok , ' m ready . \\\" was privilege learn . is abiding inspiration . bruce nevin bn @ bbn . com\\n\"\n        ],\n        \"semantic_type\": \"\",\n        \"description\": \"\"\n      }\n    },\n    {\n      \"column\": \"label\",\n      \"properties\": {\n        \"dtype\": \"category\",\n        \"num_unique_values\": 2,\n        \"samples\": [\n          \"notspam\",\n          \"spam\"\n        ],\n        \"semantic_type\": \"\",\n        \"description\": \"\"\n      }\n    }\n  ]\n}",
              "type": "dataframe",
              "variable_name": "df"
            },
            "text/html": [
              "\n",
              "  <div id=\"df-7ce8662c-378f-404f-9d35-2ef410894da9\" class=\"colab-df-container\">\n",
              "    <div>\n",
              "<style scoped>\n",
              "    .dataframe tbody tr th:only-of-type {\n",
              "        vertical-align: middle;\n",
              "    }\n",
              "\n",
              "    .dataframe tbody tr th {\n",
              "        vertical-align: top;\n",
              "    }\n",
              "\n",
              "    .dataframe thead th {\n",
              "        text-align: right;\n",
              "    }\n",
              "</style>\n",
              "<table border=\"1\" class=\"dataframe\">\n",
              "  <thead>\n",
              "    <tr style=\"text-align: right;\">\n",
              "      <th></th>\n",
              "      <th>text</th>\n",
              "      <th>label</th>\n",
              "    </tr>\n",
              "  </thead>\n",
              "  <tbody>\n",
              "    <tr>\n",
              "      <th>0</th>\n",
              "      <td>Subject: great part-time summer job !\\n\\n* * *...</td>\n",
              "      <td>spam</td>\n",
              "    </tr>\n",
              "    <tr>\n",
              "      <th>1</th>\n",
              "      <td>Subject: advertsing ? legal ! ! offer smtp ! !...</td>\n",
              "      <td>spam</td>\n",
              "    </tr>\n",
              "    <tr>\n",
              "      <th>2</th>\n",
              "      <td>Subject: lists software worldwide\\n\\norder for...</td>\n",
              "      <td>spam</td>\n",
              "    </tr>\n",
              "    <tr>\n",
              "      <th>3</th>\n",
              "      <td>Subject: free trial membership\\n\\nlatest adult...</td>\n",
              "      <td>spam</td>\n",
              "    </tr>\n",
              "    <tr>\n",
              "      <th>4</th>\n",
              "      <td>Subject: auto insurance rates too high ?\\n\\nde...</td>\n",
              "      <td>spam</td>\n",
              "    </tr>\n",
              "  </tbody>\n",
              "</table>\n",
              "</div>\n",
              "    <div class=\"colab-df-buttons\">\n",
              "\n",
              "  <div class=\"colab-df-container\">\n",
              "    <button class=\"colab-df-convert\" onclick=\"convertToInteractive('df-7ce8662c-378f-404f-9d35-2ef410894da9')\"\n",
              "            title=\"Convert this dataframe to an interactive table.\"\n",
              "            style=\"display:none;\">\n",
              "\n",
              "  <svg xmlns=\"http://www.w3.org/2000/svg\" height=\"24px\" viewBox=\"0 -960 960 960\">\n",
              "    <path d=\"M120-120v-720h720v720H120Zm60-500h600v-160H180v160Zm220 220h160v-160H400v160Zm0 220h160v-160H400v160ZM180-400h160v-160H180v160Zm440 0h160v-160H620v160ZM180-180h160v-160H180v160Zm440 0h160v-160H620v160Z\"/>\n",
              "  </svg>\n",
              "    </button>\n",
              "\n",
              "  <style>\n",
              "    .colab-df-container {\n",
              "      display:flex;\n",
              "      gap: 12px;\n",
              "    }\n",
              "\n",
              "    .colab-df-convert {\n",
              "      background-color: #E8F0FE;\n",
              "      border: none;\n",
              "      border-radius: 50%;\n",
              "      cursor: pointer;\n",
              "      display: none;\n",
              "      fill: #1967D2;\n",
              "      height: 32px;\n",
              "      padding: 0 0 0 0;\n",
              "      width: 32px;\n",
              "    }\n",
              "\n",
              "    .colab-df-convert:hover {\n",
              "      background-color: #E2EBFA;\n",
              "      box-shadow: 0px 1px 2px rgba(60, 64, 67, 0.3), 0px 1px 3px 1px rgba(60, 64, 67, 0.15);\n",
              "      fill: #174EA6;\n",
              "    }\n",
              "\n",
              "    .colab-df-buttons div {\n",
              "      margin-bottom: 4px;\n",
              "    }\n",
              "\n",
              "    [theme=dark] .colab-df-convert {\n",
              "      background-color: #3B4455;\n",
              "      fill: #D2E3FC;\n",
              "    }\n",
              "\n",
              "    [theme=dark] .colab-df-convert:hover {\n",
              "      background-color: #434B5C;\n",
              "      box-shadow: 0px 1px 3px 1px rgba(0, 0, 0, 0.15);\n",
              "      filter: drop-shadow(0px 1px 2px rgba(0, 0, 0, 0.3));\n",
              "      fill: #FFFFFF;\n",
              "    }\n",
              "  </style>\n",
              "\n",
              "    <script>\n",
              "      const buttonEl =\n",
              "        document.querySelector('#df-7ce8662c-378f-404f-9d35-2ef410894da9 button.colab-df-convert');\n",
              "      buttonEl.style.display =\n",
              "        google.colab.kernel.accessAllowed ? 'block' : 'none';\n",
              "\n",
              "      async function convertToInteractive(key) {\n",
              "        const element = document.querySelector('#df-7ce8662c-378f-404f-9d35-2ef410894da9');\n",
              "        const dataTable =\n",
              "          await google.colab.kernel.invokeFunction('convertToInteractive',\n",
              "                                                    [key], {});\n",
              "        if (!dataTable) return;\n",
              "\n",
              "        const docLinkHtml = 'Like what you see? Visit the ' +\n",
              "          '<a target=\"_blank\" href=https://colab.research.google.com/notebooks/data_table.ipynb>data table notebook</a>'\n",
              "          + ' to learn more about interactive tables.';\n",
              "        element.innerHTML = '';\n",
              "        dataTable['output_type'] = 'display_data';\n",
              "        await google.colab.output.renderOutput(dataTable, element);\n",
              "        const docLink = document.createElement('div');\n",
              "        docLink.innerHTML = docLinkHtml;\n",
              "        element.appendChild(docLink);\n",
              "      }\n",
              "    </script>\n",
              "  </div>\n",
              "\n",
              "\n",
              "<div id=\"df-b76ea8b9-26c5-4cf8-99c4-25709af14a3a\">\n",
              "  <button class=\"colab-df-quickchart\" onclick=\"quickchart('df-b76ea8b9-26c5-4cf8-99c4-25709af14a3a')\"\n",
              "            title=\"Suggest charts\"\n",
              "            style=\"display:none;\">\n",
              "\n",
              "<svg xmlns=\"http://www.w3.org/2000/svg\" height=\"24px\"viewBox=\"0 0 24 24\"\n",
              "     width=\"24px\">\n",
              "    <g>\n",
              "        <path d=\"M19 3H5c-1.1 0-2 .9-2 2v14c0 1.1.9 2 2 2h14c1.1 0 2-.9 2-2V5c0-1.1-.9-2-2-2zM9 17H7v-7h2v7zm4 0h-2V7h2v10zm4 0h-2v-4h2v4z\"/>\n",
              "    </g>\n",
              "</svg>\n",
              "  </button>\n",
              "\n",
              "<style>\n",
              "  .colab-df-quickchart {\n",
              "      --bg-color: #E8F0FE;\n",
              "      --fill-color: #1967D2;\n",
              "      --hover-bg-color: #E2EBFA;\n",
              "      --hover-fill-color: #174EA6;\n",
              "      --disabled-fill-color: #AAA;\n",
              "      --disabled-bg-color: #DDD;\n",
              "  }\n",
              "\n",
              "  [theme=dark] .colab-df-quickchart {\n",
              "      --bg-color: #3B4455;\n",
              "      --fill-color: #D2E3FC;\n",
              "      --hover-bg-color: #434B5C;\n",
              "      --hover-fill-color: #FFFFFF;\n",
              "      --disabled-bg-color: #3B4455;\n",
              "      --disabled-fill-color: #666;\n",
              "  }\n",
              "\n",
              "  .colab-df-quickchart {\n",
              "    background-color: var(--bg-color);\n",
              "    border: none;\n",
              "    border-radius: 50%;\n",
              "    cursor: pointer;\n",
              "    display: none;\n",
              "    fill: var(--fill-color);\n",
              "    height: 32px;\n",
              "    padding: 0;\n",
              "    width: 32px;\n",
              "  }\n",
              "\n",
              "  .colab-df-quickchart:hover {\n",
              "    background-color: var(--hover-bg-color);\n",
              "    box-shadow: 0 1px 2px rgba(60, 64, 67, 0.3), 0 1px 3px 1px rgba(60, 64, 67, 0.15);\n",
              "    fill: var(--button-hover-fill-color);\n",
              "  }\n",
              "\n",
              "  .colab-df-quickchart-complete:disabled,\n",
              "  .colab-df-quickchart-complete:disabled:hover {\n",
              "    background-color: var(--disabled-bg-color);\n",
              "    fill: var(--disabled-fill-color);\n",
              "    box-shadow: none;\n",
              "  }\n",
              "\n",
              "  .colab-df-spinner {\n",
              "    border: 2px solid var(--fill-color);\n",
              "    border-color: transparent;\n",
              "    border-bottom-color: var(--fill-color);\n",
              "    animation:\n",
              "      spin 1s steps(1) infinite;\n",
              "  }\n",
              "\n",
              "  @keyframes spin {\n",
              "    0% {\n",
              "      border-color: transparent;\n",
              "      border-bottom-color: var(--fill-color);\n",
              "      border-left-color: var(--fill-color);\n",
              "    }\n",
              "    20% {\n",
              "      border-color: transparent;\n",
              "      border-left-color: var(--fill-color);\n",
              "      border-top-color: var(--fill-color);\n",
              "    }\n",
              "    30% {\n",
              "      border-color: transparent;\n",
              "      border-left-color: var(--fill-color);\n",
              "      border-top-color: var(--fill-color);\n",
              "      border-right-color: var(--fill-color);\n",
              "    }\n",
              "    40% {\n",
              "      border-color: transparent;\n",
              "      border-right-color: var(--fill-color);\n",
              "      border-top-color: var(--fill-color);\n",
              "    }\n",
              "    60% {\n",
              "      border-color: transparent;\n",
              "      border-right-color: var(--fill-color);\n",
              "    }\n",
              "    80% {\n",
              "      border-color: transparent;\n",
              "      border-right-color: var(--fill-color);\n",
              "      border-bottom-color: var(--fill-color);\n",
              "    }\n",
              "    90% {\n",
              "      border-color: transparent;\n",
              "      border-bottom-color: var(--fill-color);\n",
              "    }\n",
              "  }\n",
              "</style>\n",
              "\n",
              "  <script>\n",
              "    async function quickchart(key) {\n",
              "      const quickchartButtonEl =\n",
              "        document.querySelector('#' + key + ' button');\n",
              "      quickchartButtonEl.disabled = true;  // To prevent multiple clicks.\n",
              "      quickchartButtonEl.classList.add('colab-df-spinner');\n",
              "      try {\n",
              "        const charts = await google.colab.kernel.invokeFunction(\n",
              "            'suggestCharts', [key], {});\n",
              "      } catch (error) {\n",
              "        console.error('Error during call to suggestCharts:', error);\n",
              "      }\n",
              "      quickchartButtonEl.classList.remove('colab-df-spinner');\n",
              "      quickchartButtonEl.classList.add('colab-df-quickchart-complete');\n",
              "    }\n",
              "    (() => {\n",
              "      let quickchartButtonEl =\n",
              "        document.querySelector('#df-b76ea8b9-26c5-4cf8-99c4-25709af14a3a button');\n",
              "      quickchartButtonEl.style.display =\n",
              "        google.colab.kernel.accessAllowed ? 'block' : 'none';\n",
              "    })();\n",
              "  </script>\n",
              "</div>\n",
              "\n",
              "    </div>\n",
              "  </div>\n"
            ],
            "text/plain": [
              "                                                text label\n",
              "0  Subject: great part-time summer job !\\n\\n* * *...  spam\n",
              "1  Subject: advertsing ? legal ! ! offer smtp ! !...  spam\n",
              "2  Subject: lists software worldwide\\n\\norder for...  spam\n",
              "3  Subject: free trial membership\\n\\nlatest adult...  spam\n",
              "4  Subject: auto insurance rates too high ?\\n\\nde...  spam"
            ]
          },
          "execution_count": 40,
          "metadata": {},
          "output_type": "execute_result"
        }
      ],
      "source": [
        "df.head()"
      ]
    },
    {
      "cell_type": "markdown",
      "metadata": {
        "id": "L9K275DNee4k"
      },
      "source": [
        "- Shuffle data"
      ]
    },
    {
      "cell_type": "code",
      "execution_count": null,
      "metadata": {
        "id": "0JEWUEebqQkl"
      },
      "outputs": [],
      "source": [
        "df = shuffle(df, random_state=42).reset_index(drop=True)"
      ]
    },
    {
      "cell_type": "code",
      "execution_count": null,
      "metadata": {
        "colab": {
          "base_uri": "https://localhost:8080/",
          "height": 206
        },
        "id": "47ibhtCCqIBu",
        "outputId": "e07d188e-c097-4afd-b61d-96636a815bfa"
      },
      "outputs": [
        {
          "data": {
            "application/vnd.google.colaboratory.intrinsic+json": {
              "summary": "{\n  \"name\": \"df\",\n  \"rows\": 211,\n  \"fields\": [\n    {\n      \"column\": \"text\",\n      \"properties\": {\n        \"dtype\": \"string\",\n        \"num_unique_values\": 210,\n        \"samples\": [\n          \"Subject: \\\" rain \\\" = \\\" falling \\\" + \\\" water \\\" ?\\n\\nam trying collect typological evidence support etymology turkic jagmur \\\" rain \\\" analysing jag - \\\" fall \\\" + * - mur \\\" water \\\" , second element being attested manchu - tungus , korean , japanese , possibly mongolic . does anyone similar examples outside altaic ? sasha vovin avvovin @ miamiu . acs . muohio . edu\\n\",\n          \"Subject: data , judgments thereon , teaching linguistics\\n\\nlinguist 5-1247 , benji wald said > once heard syntactician suggest introductory syntax > classes certain theories . . . taught were > true , without attending known fallacies theories . > students foundation learning > syntactic arguments . fallacies exposed > advanced courses . ( making syntactic arguments > change too ? guess whoever does n't advanced syn - > tax classes hell , assume theories syntax . > > semi-anecdote relevant maybe syntactician > was insisting introductory classes challenge > grammaticality judgments used data illustrative analysis > ( sound familiar ? ) . otherwise lesson taught . > 's form discipline might hard unlearn hard > teacher resist taking advantage advanced > courses - - syntax teachers care comment ? ( > n't ' ll \\\" thought ! \\\" ) suppose ' m taking benji 's gage , though want understood ' m much sympathy has . remember little over 10 years ago was taking course lexical phonology , got argument prof . insisted one co - rollaries theory was ' ' is inherently plural , explained non-existence overt plural ' peoples ' . insisted word ' peoples ' certainly does exist therefore theo - retical claim does n't was ipso facto falsified . ( cf . rev . vii 9 : ' great multitude one number , every nation , tribes * peoples * languages ' . , presumably ' ' passage means something ' ethnic group ' , is therefore precisely equivalent ' ' meaning ' many persons ' , ' set human beings ' . note one common meaning ' universe ' is ' set existing things ' , imply word ' universes ' ought exist either , does . one thing , is variant usage ' universe ' makes roughly synonymous ' galaxy ' ' group galaxies ' , course are many . is freely used talking ' parallel universes ' , etc . ) > paedagogical point view is perfectly legitimate linguistics teacher , ' here 's bunch strings , attendant grammaticality judgments . generalizations draw data ? ' save ourselves threat protest student happens fluent language under discussion against gram - maticality judgment invoking notion ' idiolect ' claiming ' judgments are accurate reflection one particular individu - al 's own linguistic behaviour . deduce internalized grammar individual ? ' , course , assumes linguists are concerned is language psychological / cognitive phenomenon , believe is legitimate . are , opinion legitimately , concerned language social phenomenon . case language is ( simply ) property individual mind community , ' gram - maticality judgments ' different communal level individual level . teachers need honest our stu - dents , means allowing ourselves luxury certain type level judgment one occasion different one another , much possible each making clear our students level ' re working . addressing broader issues following joseph stemberger 's posting linguist 5-1163 , need clear difference between ' grammaticality ' ' acceptability ' judg - ments . introductory lecture , prepared course yet had opportunity teach , attempt explain given string ( e . g . , ' 3 is angry ' ' toothbrush is pregnant ' ) perfectly grammatical semantically pragmatically anomalous , might rejected reason , while another string ( e . g . , ' tooth - brush am orange ' ' are rabbit garden ' ) fully - terpretable therefore semantically anomalous nevertheless violate certain constraints grammar . inclined reject claim , georgia green occasionally put ( facetiously ) class elsewhere , ' rules grammar must include rules arithmetic real-world knowledge ' . thus , son were , ' moon is made green cheese ' might challenge * content * statement , * con - struction * . dr . steven schaufele 712 west washington urbana , il 61801 217-344 - 8240 fcosws @ prairienet . org * * * * o syntagmata linguarum liberemini humanarum ! * * * * * * nihil vestris privari nisi obicibus potestis ! * * *\\n\",\n          \"Subject: human subjects\\n\\nnumber months ago raised issue dealing human subjects committees , since our department was being ( perceived ) hassled our own committee . received numerous responses , since forwarded lsa social issues ( something ) committee . responses varied shocked outrage anyone over our ( collective ) shoulders shocked outrage consider doing research without asking permission . primary hassle , was reflected again recent posting subject , is linguistic research normally involves using tape recorder . federal guidelines require ( am told ) special , complex class review data is being taped . our case , involves full committee review , takes two three weeks , rather ` expedited ' review , takes few days . are still negotiating whether class projects need cleared class class ( hope ) instead , student student . given students normally least half semester discover want , require additional two three weeks permission , much linguistic classroom research halted . greatly interested hearing list been able persuade human subjects committees issue kind ` blanket ' permission certain kinds research . suggested possibility were told nobody 's research was privileged , { sociology , psychology anthropology . . . } had through process , did . case , result attempting law abiding , almost lost informant , whose data had recorded illegally . asked recite nursery rhymes , requested permission . shortly afterwards , left town , never seen again . sigh . . . suggestions getting expedited reviews , blanket permissions , speeded ways being permitted tape record linguistic data without supreme court approval appreciated . geoff nathan < ga3662 @ siucvmb . siu . edu > southern illinois university carbondale\\n\"\n        ],\n        \"semantic_type\": \"\",\n        \"description\": \"\"\n      }\n    },\n    {\n      \"column\": \"label\",\n      \"properties\": {\n        \"dtype\": \"category\",\n        \"num_unique_values\": 2,\n        \"samples\": [\n          \"spam\",\n          \"notspam\"\n        ],\n        \"semantic_type\": \"\",\n        \"description\": \"\"\n      }\n    }\n  ]\n}",
              "type": "dataframe",
              "variable_name": "df"
            },
            "text/html": [
              "\n",
              "  <div id=\"df-050c7e72-cf71-4c09-b4c0-76952a22361e\" class=\"colab-df-container\">\n",
              "    <div>\n",
              "<style scoped>\n",
              "    .dataframe tbody tr th:only-of-type {\n",
              "        vertical-align: middle;\n",
              "    }\n",
              "\n",
              "    .dataframe tbody tr th {\n",
              "        vertical-align: top;\n",
              "    }\n",
              "\n",
              "    .dataframe thead th {\n",
              "        text-align: right;\n",
              "    }\n",
              "</style>\n",
              "<table border=\"1\" class=\"dataframe\">\n",
              "  <thead>\n",
              "    <tr style=\"text-align: right;\">\n",
              "      <th></th>\n",
              "      <th>text</th>\n",
              "      <th>label</th>\n",
              "    </tr>\n",
              "  </thead>\n",
              "  <tbody>\n",
              "    <tr>\n",
              "      <th>0</th>\n",
              "      <td>Subject: gent conference\\n\\n\" listserv \" inter...</td>\n",
              "      <td>notspam</td>\n",
              "    </tr>\n",
              "    <tr>\n",
              "      <th>1</th>\n",
              "      <td>Subject: psycholinguistics postdoc\\n\\npostdoct...</td>\n",
              "      <td>notspam</td>\n",
              "    </tr>\n",
              "    <tr>\n",
              "      <th>2</th>\n",
              "      <td>Subject: q : fundamental frequency software\\n\\...</td>\n",
              "      <td>notspam</td>\n",
              "    </tr>\n",
              "    <tr>\n",
              "      <th>3</th>\n",
              "      <td>Subject: re : 3 . 427 innateness\\n\\njoe stembe...</td>\n",
              "      <td>notspam</td>\n",
              "    </tr>\n",
              "    <tr>\n",
              "      <th>4</th>\n",
              "      <td>Subject: syntax textbooks - - summary\\n\\nweek ...</td>\n",
              "      <td>notspam</td>\n",
              "    </tr>\n",
              "  </tbody>\n",
              "</table>\n",
              "</div>\n",
              "    <div class=\"colab-df-buttons\">\n",
              "\n",
              "  <div class=\"colab-df-container\">\n",
              "    <button class=\"colab-df-convert\" onclick=\"convertToInteractive('df-050c7e72-cf71-4c09-b4c0-76952a22361e')\"\n",
              "            title=\"Convert this dataframe to an interactive table.\"\n",
              "            style=\"display:none;\">\n",
              "\n",
              "  <svg xmlns=\"http://www.w3.org/2000/svg\" height=\"24px\" viewBox=\"0 -960 960 960\">\n",
              "    <path d=\"M120-120v-720h720v720H120Zm60-500h600v-160H180v160Zm220 220h160v-160H400v160Zm0 220h160v-160H400v160ZM180-400h160v-160H180v160Zm440 0h160v-160H620v160ZM180-180h160v-160H180v160Zm440 0h160v-160H620v160Z\"/>\n",
              "  </svg>\n",
              "    </button>\n",
              "\n",
              "  <style>\n",
              "    .colab-df-container {\n",
              "      display:flex;\n",
              "      gap: 12px;\n",
              "    }\n",
              "\n",
              "    .colab-df-convert {\n",
              "      background-color: #E8F0FE;\n",
              "      border: none;\n",
              "      border-radius: 50%;\n",
              "      cursor: pointer;\n",
              "      display: none;\n",
              "      fill: #1967D2;\n",
              "      height: 32px;\n",
              "      padding: 0 0 0 0;\n",
              "      width: 32px;\n",
              "    }\n",
              "\n",
              "    .colab-df-convert:hover {\n",
              "      background-color: #E2EBFA;\n",
              "      box-shadow: 0px 1px 2px rgba(60, 64, 67, 0.3), 0px 1px 3px 1px rgba(60, 64, 67, 0.15);\n",
              "      fill: #174EA6;\n",
              "    }\n",
              "\n",
              "    .colab-df-buttons div {\n",
              "      margin-bottom: 4px;\n",
              "    }\n",
              "\n",
              "    [theme=dark] .colab-df-convert {\n",
              "      background-color: #3B4455;\n",
              "      fill: #D2E3FC;\n",
              "    }\n",
              "\n",
              "    [theme=dark] .colab-df-convert:hover {\n",
              "      background-color: #434B5C;\n",
              "      box-shadow: 0px 1px 3px 1px rgba(0, 0, 0, 0.15);\n",
              "      filter: drop-shadow(0px 1px 2px rgba(0, 0, 0, 0.3));\n",
              "      fill: #FFFFFF;\n",
              "    }\n",
              "  </style>\n",
              "\n",
              "    <script>\n",
              "      const buttonEl =\n",
              "        document.querySelector('#df-050c7e72-cf71-4c09-b4c0-76952a22361e button.colab-df-convert');\n",
              "      buttonEl.style.display =\n",
              "        google.colab.kernel.accessAllowed ? 'block' : 'none';\n",
              "\n",
              "      async function convertToInteractive(key) {\n",
              "        const element = document.querySelector('#df-050c7e72-cf71-4c09-b4c0-76952a22361e');\n",
              "        const dataTable =\n",
              "          await google.colab.kernel.invokeFunction('convertToInteractive',\n",
              "                                                    [key], {});\n",
              "        if (!dataTable) return;\n",
              "\n",
              "        const docLinkHtml = 'Like what you see? Visit the ' +\n",
              "          '<a target=\"_blank\" href=https://colab.research.google.com/notebooks/data_table.ipynb>data table notebook</a>'\n",
              "          + ' to learn more about interactive tables.';\n",
              "        element.innerHTML = '';\n",
              "        dataTable['output_type'] = 'display_data';\n",
              "        await google.colab.output.renderOutput(dataTable, element);\n",
              "        const docLink = document.createElement('div');\n",
              "        docLink.innerHTML = docLinkHtml;\n",
              "        element.appendChild(docLink);\n",
              "      }\n",
              "    </script>\n",
              "  </div>\n",
              "\n",
              "\n",
              "<div id=\"df-0cfbdecd-f183-45bb-877e-71deb7e1b263\">\n",
              "  <button class=\"colab-df-quickchart\" onclick=\"quickchart('df-0cfbdecd-f183-45bb-877e-71deb7e1b263')\"\n",
              "            title=\"Suggest charts\"\n",
              "            style=\"display:none;\">\n",
              "\n",
              "<svg xmlns=\"http://www.w3.org/2000/svg\" height=\"24px\"viewBox=\"0 0 24 24\"\n",
              "     width=\"24px\">\n",
              "    <g>\n",
              "        <path d=\"M19 3H5c-1.1 0-2 .9-2 2v14c0 1.1.9 2 2 2h14c1.1 0 2-.9 2-2V5c0-1.1-.9-2-2-2zM9 17H7v-7h2v7zm4 0h-2V7h2v10zm4 0h-2v-4h2v4z\"/>\n",
              "    </g>\n",
              "</svg>\n",
              "  </button>\n",
              "\n",
              "<style>\n",
              "  .colab-df-quickchart {\n",
              "      --bg-color: #E8F0FE;\n",
              "      --fill-color: #1967D2;\n",
              "      --hover-bg-color: #E2EBFA;\n",
              "      --hover-fill-color: #174EA6;\n",
              "      --disabled-fill-color: #AAA;\n",
              "      --disabled-bg-color: #DDD;\n",
              "  }\n",
              "\n",
              "  [theme=dark] .colab-df-quickchart {\n",
              "      --bg-color: #3B4455;\n",
              "      --fill-color: #D2E3FC;\n",
              "      --hover-bg-color: #434B5C;\n",
              "      --hover-fill-color: #FFFFFF;\n",
              "      --disabled-bg-color: #3B4455;\n",
              "      --disabled-fill-color: #666;\n",
              "  }\n",
              "\n",
              "  .colab-df-quickchart {\n",
              "    background-color: var(--bg-color);\n",
              "    border: none;\n",
              "    border-radius: 50%;\n",
              "    cursor: pointer;\n",
              "    display: none;\n",
              "    fill: var(--fill-color);\n",
              "    height: 32px;\n",
              "    padding: 0;\n",
              "    width: 32px;\n",
              "  }\n",
              "\n",
              "  .colab-df-quickchart:hover {\n",
              "    background-color: var(--hover-bg-color);\n",
              "    box-shadow: 0 1px 2px rgba(60, 64, 67, 0.3), 0 1px 3px 1px rgba(60, 64, 67, 0.15);\n",
              "    fill: var(--button-hover-fill-color);\n",
              "  }\n",
              "\n",
              "  .colab-df-quickchart-complete:disabled,\n",
              "  .colab-df-quickchart-complete:disabled:hover {\n",
              "    background-color: var(--disabled-bg-color);\n",
              "    fill: var(--disabled-fill-color);\n",
              "    box-shadow: none;\n",
              "  }\n",
              "\n",
              "  .colab-df-spinner {\n",
              "    border: 2px solid var(--fill-color);\n",
              "    border-color: transparent;\n",
              "    border-bottom-color: var(--fill-color);\n",
              "    animation:\n",
              "      spin 1s steps(1) infinite;\n",
              "  }\n",
              "\n",
              "  @keyframes spin {\n",
              "    0% {\n",
              "      border-color: transparent;\n",
              "      border-bottom-color: var(--fill-color);\n",
              "      border-left-color: var(--fill-color);\n",
              "    }\n",
              "    20% {\n",
              "      border-color: transparent;\n",
              "      border-left-color: var(--fill-color);\n",
              "      border-top-color: var(--fill-color);\n",
              "    }\n",
              "    30% {\n",
              "      border-color: transparent;\n",
              "      border-left-color: var(--fill-color);\n",
              "      border-top-color: var(--fill-color);\n",
              "      border-right-color: var(--fill-color);\n",
              "    }\n",
              "    40% {\n",
              "      border-color: transparent;\n",
              "      border-right-color: var(--fill-color);\n",
              "      border-top-color: var(--fill-color);\n",
              "    }\n",
              "    60% {\n",
              "      border-color: transparent;\n",
              "      border-right-color: var(--fill-color);\n",
              "    }\n",
              "    80% {\n",
              "      border-color: transparent;\n",
              "      border-right-color: var(--fill-color);\n",
              "      border-bottom-color: var(--fill-color);\n",
              "    }\n",
              "    90% {\n",
              "      border-color: transparent;\n",
              "      border-bottom-color: var(--fill-color);\n",
              "    }\n",
              "  }\n",
              "</style>\n",
              "\n",
              "  <script>\n",
              "    async function quickchart(key) {\n",
              "      const quickchartButtonEl =\n",
              "        document.querySelector('#' + key + ' button');\n",
              "      quickchartButtonEl.disabled = true;  // To prevent multiple clicks.\n",
              "      quickchartButtonEl.classList.add('colab-df-spinner');\n",
              "      try {\n",
              "        const charts = await google.colab.kernel.invokeFunction(\n",
              "            'suggestCharts', [key], {});\n",
              "      } catch (error) {\n",
              "        console.error('Error during call to suggestCharts:', error);\n",
              "      }\n",
              "      quickchartButtonEl.classList.remove('colab-df-spinner');\n",
              "      quickchartButtonEl.classList.add('colab-df-quickchart-complete');\n",
              "    }\n",
              "    (() => {\n",
              "      let quickchartButtonEl =\n",
              "        document.querySelector('#df-0cfbdecd-f183-45bb-877e-71deb7e1b263 button');\n",
              "      quickchartButtonEl.style.display =\n",
              "        google.colab.kernel.accessAllowed ? 'block' : 'none';\n",
              "    })();\n",
              "  </script>\n",
              "</div>\n",
              "\n",
              "    </div>\n",
              "  </div>\n"
            ],
            "text/plain": [
              "                                                text    label\n",
              "0  Subject: gent conference\\n\\n\" listserv \" inter...  notspam\n",
              "1  Subject: psycholinguistics postdoc\\n\\npostdoct...  notspam\n",
              "2  Subject: q : fundamental frequency software\\n\\...  notspam\n",
              "3  Subject: re : 3 . 427 innateness\\n\\njoe stembe...  notspam\n",
              "4  Subject: syntax textbooks - - summary\\n\\nweek ...  notspam"
            ]
          },
          "execution_count": 42,
          "metadata": {},
          "output_type": "execute_result"
        }
      ],
      "source": [
        "df.head()"
      ]
    },
    {
      "cell_type": "code",
      "execution_count": null,
      "metadata": {
        "id": "v6ZWFZM8r7yu"
      },
      "outputs": [],
      "source": [
        "train_df, val_df = train_test_split(df, test_size=0.2, random_state=43)"
      ]
    },
    {
      "cell_type": "markdown",
      "metadata": {
        "id": "yC4I23WMee4k"
      },
      "source": [
        "- Check counts label"
      ]
    },
    {
      "cell_type": "code",
      "execution_count": null,
      "metadata": {
        "colab": {
          "base_uri": "https://localhost:8080/"
        },
        "id": "6MYkg2o7r-Qt",
        "outputId": "dc6a371f-44ef-42d7-e8d3-fd8d47a26dfd"
      },
      "outputs": [
        {
          "name": "stdout",
          "output_type": "stream",
          "text": [
            "label\n",
            "notspam    151\n",
            "spam        17\n",
            "Name: count, dtype: int64\n",
            "label\n",
            "notspam    42\n",
            "spam        1\n",
            "Name: count, dtype: int64\n"
          ]
        }
      ],
      "source": [
        "print(\"train_df\", train_df['label'].value_counts())\n",
        "print(\"val_df\", val_df['label'].value_counts())"
      ]
    },
    {
      "cell_type": "markdown",
      "metadata": {
        "id": "vJ_XsMGHee4k"
      },
      "source": [
        "- Convert dataframe to dataset"
      ]
    },
    {
      "cell_type": "code",
      "execution_count": null,
      "metadata": {
        "id": "-jmx35aptAMt"
      },
      "outputs": [],
      "source": [
        "train_dataset = Dataset.from_pandas(train_df)\n",
        "val_dataset= Dataset.from_pandas(val_df)\n",
        "dataset = Dataset.from_pandas(df)"
      ]
    },
    {
      "cell_type": "markdown",
      "metadata": {
        "id": "R381X-Bree4l"
      },
      "source": [
        "# Load Model From Hugging Face Hub"
      ]
    },
    {
      "cell_type": "code",
      "execution_count": null,
      "metadata": {
        "id": "cEoGqEsSuzjd"
      },
      "outputs": [],
      "source": [
        "MODEL_ID = \"google/flan-t5-base\"\n",
        "tokenizer = AutoTokenizer.from_pretrained(MODEL_ID)\n",
        "model = AutoModelForSeq2SeqLM.from_pretrained(MODEL_ID)"
      ]
    },
    {
      "cell_type": "code",
      "execution_count": null,
      "metadata": {
        "colab": {
          "base_uri": "https://localhost:8080/",
          "height": 35
        },
        "id": "yggkt9sdvaJk",
        "outputId": "7d9b867b-7468-401e-bc65-5922aacf88a1"
      },
      "outputs": [
        {
          "data": {
            "application/vnd.google.colaboratory.intrinsic+json": {
              "type": "string"
            },
            "text/plain": [
              "'flan-t5-base-text-classification'"
            ]
          },
          "execution_count": 47,
          "metadata": {},
          "output_type": "execute_result"
        }
      ],
      "source": [
        "REPOSITORY_ID = f\"{MODEL_ID.split('/')[1]}-text-classification\"\n",
        "REPOSITORY_ID"
      ]
    },
    {
      "cell_type": "code",
      "execution_count": null,
      "metadata": {
        "colab": {
          "base_uri": "https://localhost:8080/"
        },
        "id": "0X9PuMZevluN",
        "outputId": "e6ec010b-a455-4adb-a2eb-c7e7e522ab25"
      },
      "outputs": [
        {
          "name": "stderr",
          "output_type": "stream",
          "text": [
            "[nltk_data] Downloading package punkt to /root/nltk_data...\n",
            "[nltk_data]   Package punkt is already up-to-date!\n"
          ]
        },
        {
          "data": {
            "text/plain": [
              "True"
            ]
          },
          "execution_count": 48,
          "metadata": {},
          "output_type": "execute_result"
        }
      ],
      "source": [
        "import nltk\n",
        "nltk.download('punkt')"
      ]
    },
    {
      "cell_type": "code",
      "execution_count": null,
      "metadata": {
        "id": "q-oiUvhVvpAE"
      },
      "outputs": [],
      "source": [
        "training_args = Seq2SeqTrainingArguments(\n",
        "    output_dir=REPOSITORY_ID,\n",
        "    per_device_train_batch_size=8,\n",
        "    per_device_eval_batch_size=8,\n",
        "    predict_with_generate=True,\n",
        "    fp16=False,     # Overflows with fp16\n",
        "    learning_rate=1e-3,\n",
        "    num_train_epochs=3,\n",
        "    logging_dir=f\"{REPOSITORY_ID}/logs\",    # logging & evaluation strategies\n",
        "    logging_strategy=\"epoch\",\n",
        "    eval_strategy=\"epoch\",\n",
        "    save_strategy=\"epoch\",\n",
        "    save_total_limit=2,\n",
        "    load_best_model_at_end=True,\n",
        ")"
      ]
    },
    {
      "cell_type": "code",
      "execution_count": null,
      "metadata": {
        "id": "1xq_drFqv0F8"
      },
      "outputs": [],
      "source": [
        "def preprocess_function(examples):\n",
        "    inputs = [f\"Classify as spam or notspam: {text}\" for text in examples[\"text\"]]\n",
        "    targets = examples[\"label\"]\n",
        "    model_inputs = tokenizer(inputs, max_length=512, truncation=True, padding=\"max_length\")\n",
        "\n",
        "    with tokenizer.as_target_tokenizer():\n",
        "        labels = tokenizer(targets, max_length=8, truncation=True, padding=\"max_length\")\n",
        "\n",
        "    model_inputs[\"labels\"] = labels[\"input_ids\"]\n",
        "    return model_inputs"
      ]
    },
    {
      "cell_type": "code",
      "execution_count": null,
      "metadata": {
        "id": "7ssDcAAGv2SD"
      },
      "outputs": [],
      "source": [
        "def postprocess_text(preds: List[str], labels: List[str]) -> Tuple[List[str], List[str]]:\n",
        "    \"\"\" helper function to postprocess text\"\"\"\n",
        "    preds = [pred.strip() for pred in preds]\n",
        "    labels = [label.strip() for label in labels]\n",
        "\n",
        "    # rougeLSum expects newline after each sentence\n",
        "    preds = [\"\\n\".join(sent_tokenize(pred)) for pred in preds]\n",
        "    labels = [\"\\n\".join(sent_tokenize(label)) for label in labels]\n",
        "\n",
        "    return preds, labels"
      ]
    },
    {
      "cell_type": "code",
      "execution_count": null,
      "metadata": {
        "id": "5gYCfhXwv5f0"
      },
      "outputs": [],
      "source": [
        "def compute_metrics(eval_pred):\n",
        "    predictions, labels = eval_pred\n",
        "    decoded_preds = tokenizer.batch_decode(predictions, skip_special_tokens=True)\n",
        "    decoded_labels = tokenizer.batch_decode(labels, skip_special_tokens=True)\n",
        "\n",
        "    # Calculate accuracy\n",
        "    accuracy = accuracy_score(decoded_labels, decoded_preds)\n",
        "\n",
        "    # Calculate precision, recall, and F1 score\n",
        "    precision, recall, f1, _ = precision_recall_fscore_support(decoded_labels, decoded_preds, average='weighted')\n",
        "\n",
        "    return {\n",
        "        \"accuracy\": accuracy,\n",
        "        \"precision\": precision,\n",
        "        \"recall\": recall,\n",
        "        \"f1\": f1\n",
        "    }"
      ]
    },
    {
      "cell_type": "code",
      "execution_count": null,
      "metadata": {
        "colab": {
          "base_uri": "https://localhost:8080/",
          "height": 136,
          "referenced_widgets": [
            "d4a4471b817743a99c2b95e45efdf776",
            "9bb43d2cd4054134b3f45163d46a6804",
            "e5e26a14479340149266da5170914ea3",
            "0a1f5d9b8807499bb08db6ebda7a5c21",
            "1dd0188c57b54390aba941848b7a5c0b",
            "dd975231156a4c308a20fe1452833fdd",
            "a1cd7a12dd3c4938884531ac07754cb1",
            "dab22b9363cd4cce8ebc737f02f7af65",
            "f5b5b102074344049ccfa3f61f4279f6",
            "e238b9a06db84ba7b347e7dd8e8b6678",
            "e8081755e80e4631bee8465139d06e1c",
            "f8dcf13bdf274e8a9bbc2109488b561a",
            "3a1cf2859554457f98054ecfcf1bbf1f",
            "457d26dbad364ec2b656b73d5fcca87d",
            "b838fbc47ecb482aa830e76b11b78564",
            "be977537bd754e66aafa623be86a3ad5",
            "dde795696ee54025bd4ae2af8f2f9769",
            "e0c4012f963b4acbab236d0fd9636c29",
            "fabb6de6e80c4e1e979b3befd7008af7",
            "5e196d4e73a94b8fb3c278be88be74d1",
            "4d8e9b2950154c59a757397be979b9e7",
            "2c4c2361493749839755be94da84d2af"
          ]
        },
        "id": "bzKfMacBv95c",
        "outputId": "75ad0779-929b-4b8e-a4a4-d9f4653f07bb"
      },
      "outputs": [
        {
          "data": {
            "application/vnd.jupyter.widget-view+json": {
              "model_id": "d4a4471b817743a99c2b95e45efdf776",
              "version_major": 2,
              "version_minor": 0
            },
            "text/plain": [
              "Map:   0%|          | 0/168 [00:00<?, ? examples/s]"
            ]
          },
          "metadata": {},
          "output_type": "display_data"
        },
        {
          "name": "stderr",
          "output_type": "stream",
          "text": [
            "/usr/local/lib/python3.10/dist-packages/transformers/tokenization_utils_base.py:4016: UserWarning: `as_target_tokenizer` is deprecated and will be removed in v5 of Transformers. You can tokenize your labels by using the argument `text_target` of the regular `__call__` method (either in the same call as your input texts if you use the same keyword arguments, or in a separate call.\n",
            "  warnings.warn(\n"
          ]
        },
        {
          "data": {
            "application/vnd.jupyter.widget-view+json": {
              "model_id": "f8dcf13bdf274e8a9bbc2109488b561a",
              "version_major": 2,
              "version_minor": 0
            },
            "text/plain": [
              "Map:   0%|          | 0/43 [00:00<?, ? examples/s]"
            ]
          },
          "metadata": {},
          "output_type": "display_data"
        }
      ],
      "source": [
        "# Apply preprocessing\n",
        "train_dataset = train_dataset.map(preprocess_function, batched=True, remove_columns=train_dataset.column_names)\n",
        "val_dataset = val_dataset.map(preprocess_function, batched=True, remove_columns=val_dataset.column_names)"
      ]
    },
    {
      "cell_type": "code",
      "execution_count": null,
      "metadata": {
        "id": "nDAG7kMBwezU"
      },
      "outputs": [],
      "source": [
        "# we want to ignore tokenizer pad token in the loss\n",
        "label_pad_token_id = -100\n",
        "# Data collator\n",
        "data_collator = DataCollatorForSeq2Seq(\n",
        "    tokenizer,\n",
        "    model=model,\n",
        "    label_pad_token_id=label_pad_token_id,\n",
        "    pad_to_multiple_of=8\n",
        ")"
      ]
    },
    {
      "cell_type": "code",
      "execution_count": null,
      "metadata": {
        "id": "tMpojVe6woS0"
      },
      "outputs": [],
      "source": [
        "# Create Trainer instance\n",
        "trainer = Seq2SeqTrainer(\n",
        "    model=model,\n",
        "    args=training_args,\n",
        "    data_collator=data_collator,\n",
        "    train_dataset=train_dataset,\n",
        "    eval_dataset=val_dataset,\n",
        "    compute_metrics=compute_metrics,\n",
        ")"
      ]
    },
    {
      "cell_type": "markdown",
      "metadata": {
        "id": "WJeoT5wJee4m"
      },
      "source": [
        "# Fine_tuning Flan-T5"
      ]
    },
    {
      "cell_type": "code",
      "execution_count": null,
      "metadata": {
        "colab": {
          "base_uri": "https://localhost:8080/",
          "height": 412
        },
        "id": "TEbfVcfowwvE",
        "outputId": "353de65e-3508-45a9-a2a8-5bfc75c46549"
      },
      "outputs": [
        {
          "data": {
            "text/html": [
              "\n",
              "    <div>\n",
              "      \n",
              "      <progress value='84' max='84' style='width:300px; height:20px; vertical-align: middle;'></progress>\n",
              "      [84/84 04:28, Epoch 4/4]\n",
              "    </div>\n",
              "    <table border=\"1\" class=\"dataframe\">\n",
              "  <thead>\n",
              " <tr style=\"text-align: left;\">\n",
              "      <th>Epoch</th>\n",
              "      <th>Training Loss</th>\n",
              "      <th>Validation Loss</th>\n",
              "      <th>Accuracy</th>\n",
              "      <th>Precision</th>\n",
              "      <th>Recall</th>\n",
              "      <th>F1</th>\n",
              "    </tr>\n",
              "  </thead>\n",
              "  <tbody>\n",
              "    <tr>\n",
              "      <td>1</td>\n",
              "      <td>4.052500</td>\n",
              "      <td>0.017617</td>\n",
              "      <td>0.976744</td>\n",
              "      <td>0.954029</td>\n",
              "      <td>0.976744</td>\n",
              "      <td>0.965253</td>\n",
              "    </tr>\n",
              "    <tr>\n",
              "      <td>2</td>\n",
              "      <td>0.040000</td>\n",
              "      <td>0.000693</td>\n",
              "      <td>1.000000</td>\n",
              "      <td>1.000000</td>\n",
              "      <td>1.000000</td>\n",
              "      <td>1.000000</td>\n",
              "    </tr>\n",
              "    <tr>\n",
              "      <td>3</td>\n",
              "      <td>0.003300</td>\n",
              "      <td>0.000087</td>\n",
              "      <td>1.000000</td>\n",
              "      <td>1.000000</td>\n",
              "      <td>1.000000</td>\n",
              "      <td>1.000000</td>\n",
              "    </tr>\n",
              "    <tr>\n",
              "      <td>4</td>\n",
              "      <td>0.002000</td>\n",
              "      <td>0.000015</td>\n",
              "      <td>1.000000</td>\n",
              "      <td>1.000000</td>\n",
              "      <td>1.000000</td>\n",
              "      <td>1.000000</td>\n",
              "    </tr>\n",
              "  </tbody>\n",
              "</table><p>"
            ],
            "text/plain": [
              "<IPython.core.display.HTML object>"
            ]
          },
          "metadata": {},
          "output_type": "display_data"
        },
        {
          "name": "stderr",
          "output_type": "stream",
          "text": [
            "/usr/local/lib/python3.10/dist-packages/transformers/generation/utils.py:1249: UserWarning: Using the model-agnostic default `max_length` (=20) to control the generation length. We recommend setting `max_new_tokens` to control the maximum length of the generation.\n",
            "  warnings.warn(\n",
            "/usr/local/lib/python3.10/dist-packages/sklearn/metrics/_classification.py:1471: UndefinedMetricWarning: Precision and F-score are ill-defined and being set to 0.0 in labels with no predicted samples. Use `zero_division` parameter to control this behavior.\n",
            "  _warn_prf(average, modifier, msg_start, len(result))\n",
            "/usr/local/lib/python3.10/dist-packages/transformers/generation/utils.py:1249: UserWarning: Using the model-agnostic default `max_length` (=20) to control the generation length. We recommend setting `max_new_tokens` to control the maximum length of the generation.\n",
            "  warnings.warn(\n",
            "/usr/local/lib/python3.10/dist-packages/transformers/generation/utils.py:1249: UserWarning: Using the model-agnostic default `max_length` (=20) to control the generation length. We recommend setting `max_new_tokens` to control the maximum length of the generation.\n",
            "  warnings.warn(\n",
            "/usr/local/lib/python3.10/dist-packages/transformers/generation/utils.py:1249: UserWarning: Using the model-agnostic default `max_length` (=20) to control the generation length. We recommend setting `max_new_tokens` to control the maximum length of the generation.\n",
            "  warnings.warn(\n",
            "There were missing keys in the checkpoint model loaded: ['encoder.embed_tokens.weight', 'decoder.embed_tokens.weight'].\n"
          ]
        }
      ],
      "source": [
        "train_results = trainer.train()"
      ]
    },
    {
      "cell_type": "markdown",
      "metadata": {
        "id": "4KP5WZuMee4m"
      },
      "source": [
        "# Save model after fine_tuning"
      ]
    },
    {
      "cell_type": "code",
      "execution_count": null,
      "metadata": {
        "colab": {
          "base_uri": "https://localhost:8080/"
        },
        "id": "k2i6hexZee4m",
        "outputId": "ff58b487-c1ff-4609-d4fb-97c90b80257d"
      },
      "outputs": [
        {
          "data": {
            "text/plain": [
              "('/content/drive/MyDrive/flan_t5_model_fine_tuned/tokenizer_config.json',\n",
              " '/content/drive/MyDrive/flan_t5_model_fine_tuned/special_tokens_map.json',\n",
              " '/content/drive/MyDrive/flan_t5_model_fine_tuned/spiece.model',\n",
              " '/content/drive/MyDrive/flan_t5_model_fine_tuned/added_tokens.json',\n",
              " '/content/drive/MyDrive/flan_t5_model_fine_tuned/tokenizer.json')"
            ]
          },
          "execution_count": 57,
          "metadata": {},
          "output_type": "execute_result"
        }
      ],
      "source": [
        "save_directory = \"flan_t5_model_fine_tuned\"\n",
        "model.save_pretrained(save_directory)\n",
        "tokenizer.save_pretrained(save_directory)"
      ]
    },
    {
      "cell_type": "markdown",
      "metadata": {
        "id": "amLkLFPIee4m"
      },
      "source": [
        "# Load fine-tuned-flan-t5-model"
      ]
    },
    {
      "cell_type": "code",
      "execution_count": null,
      "metadata": {
        "id": "hzpV2LT9ee4m"
      },
      "outputs": [],
      "source": [
        "model = AutoModelForSeq2SeqLM.from_pretrained(save_directory)\n",
        "tokenizer = AutoTokenizer.from_pretrained(save_directory)"
      ]
    },
    {
      "cell_type": "markdown",
      "metadata": {
        "id": "888dq0Duf5kr"
      },
      "source": [
        "# Evaluate the model"
      ]
    },
    {
      "cell_type": "code",
      "execution_count": null,
      "metadata": {
        "colab": {
          "base_uri": "https://localhost:8080/",
          "height": 332
        },
        "id": "1S05_Kae8zu0",
        "outputId": "74560d6e-a4ff-4914-928c-08371a8904ac"
      },
      "outputs": [
        {
          "name": "stderr",
          "output_type": "stream",
          "text": [
            "/usr/local/lib/python3.10/dist-packages/transformers/generation/utils.py:1249: UserWarning: Using the model-agnostic default `max_length` (=20) to control the generation length. We recommend setting `max_new_tokens` to control the maximum length of the generation.\n",
            "  warnings.warn(\n"
          ]
        },
        {
          "data": {
            "text/html": [],
            "text/plain": [
              "<IPython.core.display.HTML object>"
            ]
          },
          "metadata": {},
          "output_type": "display_data"
        },
        {
          "name": "stdout",
          "output_type": "stream",
          "text": [
            "Accuracy: 1.0000\n",
            "Precision: 1.0000\n",
            "Recall: 1.0000\n",
            "F1 Score: 1.0000\n"
          ]
        },
        {
          "name": "stderr",
          "output_type": "stream",
          "text": [
            "/usr/local/lib/python3.10/dist-packages/transformers/generation/utils.py:1249: UserWarning: Using the model-agnostic default `max_length` (=20) to control the generation length. We recommend setting `max_new_tokens` to control the maximum length of the generation.\n",
            "  warnings.warn(\n"
          ]
        },
        {
          "name": "stdout",
          "output_type": "stream",
          "text": [
            "              precision    recall  f1-score   support\n",
            "\n",
            "     notspam       1.00      1.00      1.00        42\n",
            "        spam       1.00      1.00      1.00         1\n",
            "\n",
            "    accuracy                           1.00        43\n",
            "   macro avg       1.00      1.00      1.00        43\n",
            "weighted avg       1.00      1.00      1.00        43\n",
            "\n"
          ]
        }
      ],
      "source": [
        "# Evaluate the model\n",
        "eval_results = trainer.evaluate()\n",
        "\n",
        "# Print the evaluation metrics\n",
        "print(f\"Accuracy: {eval_results['eval_accuracy']:.4f}\")\n",
        "print(f\"Precision: {eval_results['eval_precision']:.4f}\")\n",
        "print(f\"Recall: {eval_results['eval_recall']:.4f}\")\n",
        "print(f\"F1 Score: {eval_results['eval_f1']:.4f}\")\n",
        "\n",
        "# Generate detailed classification report\n",
        "predictions1, labels1, _1 = trainer.predict(val_dataset)\n",
        "decoded_preds1 = tokenizer.batch_decode(predictions1, skip_special_tokens=True)\n",
        "decoded_labels1 = tokenizer.batch_decode(labels1, skip_special_tokens=True)\n",
        "\n",
        "report1 = classification_report(decoded_labels1, decoded_preds1, target_names=['notspam', 'spam'])\n",
        "print(report1)"
      ]
    },
    {
      "cell_type": "markdown",
      "metadata": {
        "id": "c9oCJVR0ee4o"
      },
      "source": [
        "# Predict label for TestData_nolabel"
      ]
    },
    {
      "cell_type": "markdown",
      "metadata": {
        "id": "W5IWeKJImJnx"
      },
      "source": [
        "Read all files from TestData_nolabel folder and predict each text"
      ]
    },
    {
      "cell_type": "code",
      "execution_count": null,
      "metadata": {
        "id": "ryICV2Xqocbx"
      },
      "outputs": [],
      "source": [
        "def classify(text_to_classify: str) -> str:\n",
        "    \"\"\"Classify a text using the model.\"\"\"\n",
        "    # Determine the device (GPU if available, otherwise CPU)\n",
        "    device = torch.device('cuda' if torch.cuda.is_available() else 'cpu')\n",
        "\n",
        "    # Encode the input text and move inputs to the appropriate device\n",
        "    inputs = tokenizer.encode_plus(text_to_classify, padding='max_length', max_length=512, return_tensors='pt')\n",
        "    inputs = {key: value.to(device) for key, value in inputs.items()}\n",
        "\n",
        "    # Move the model to the same device\n",
        "    model.to(device)\n",
        "\n",
        "    # Generate the output using the model\n",
        "    outputs = model.generate(inputs['input_ids'], attention_mask=inputs['attention_mask'], max_length=5)\n",
        "\n",
        "    # Decode the generated output and classify\n",
        "    prediction = tokenizer.decode(outputs[0], skip_special_tokens=True)\n",
        "    if prediction.lower() == \"spam\":\n",
        "        return \"spam\"\n",
        "    else:\n",
        "        return \"notspam\"\n",
        "\n",
        "def predict_test_files(directory: str) ->str:\n",
        "    rs = \"\"\n",
        "    for i in range(0, 78):\n",
        "        filename = os.path.join(directory, f\"{i}_unknown.txt\")\n",
        "        with open(filename, \"r\", encoding='utf-8') as f:\n",
        "            rs += f\"{i}_unknown.txt\" + \",\" + classify(f.read())+\"\\n\"\n",
        "\n",
        "    return rs\n",
        "result_predict = predict_test_files(\"TestData_nolabel\")"
      ]
    },
    {
      "cell_type": "code",
      "execution_count": null,
      "metadata": {
        "colab": {
          "base_uri": "https://localhost:8080/"
        },
        "id": "WP_CnGHUpnQo",
        "outputId": "8b2a3229-1085-4f8b-fd42-8aba2bdceac0"
      },
      "outputs": [
        {
          "name": "stdout",
          "output_type": "stream",
          "text": [
            "0_unknown.txt,notspam\n",
            "1_unknown.txt,notspam\n",
            "2_unknown.txt,notspam\n",
            "3_unknown.txt,notspam\n",
            "4_unknown.txt,notspam\n",
            "5_unknown.txt,notspam\n",
            "6_unknown.txt,notspam\n",
            "7_unknown.txt,notspam\n",
            "8_unknown.txt,notspam\n",
            "9_unknown.txt,notspam\n",
            "10_unknown.txt,notspam\n",
            "11_unknown.txt,notspam\n",
            "12_unknown.txt,notspam\n",
            "13_unknown.txt,notspam\n",
            "14_unknown.txt,notspam\n",
            "15_unknown.txt,notspam\n",
            "16_unknown.txt,notspam\n",
            "17_unknown.txt,notspam\n",
            "18_unknown.txt,notspam\n",
            "19_unknown.txt,notspam\n",
            "20_unknown.txt,notspam\n",
            "21_unknown.txt,notspam\n",
            "22_unknown.txt,notspam\n",
            "23_unknown.txt,notspam\n",
            "24_unknown.txt,notspam\n",
            "25_unknown.txt,notspam\n",
            "26_unknown.txt,notspam\n",
            "27_unknown.txt,notspam\n",
            "28_unknown.txt,notspam\n",
            "29_unknown.txt,notspam\n",
            "30_unknown.txt,notspam\n",
            "31_unknown.txt,notspam\n",
            "32_unknown.txt,notspam\n",
            "33_unknown.txt,notspam\n",
            "34_unknown.txt,notspam\n",
            "35_unknown.txt,notspam\n",
            "36_unknown.txt,notspam\n",
            "37_unknown.txt,notspam\n",
            "38_unknown.txt,notspam\n",
            "39_unknown.txt,notspam\n",
            "40_unknown.txt,notspam\n",
            "41_unknown.txt,notspam\n",
            "42_unknown.txt,notspam\n",
            "43_unknown.txt,notspam\n",
            "44_unknown.txt,notspam\n",
            "45_unknown.txt,notspam\n",
            "46_unknown.txt,notspam\n",
            "47_unknown.txt,notspam\n",
            "48_unknown.txt,spam\n",
            "49_unknown.txt,spam\n",
            "50_unknown.txt,spam\n",
            "51_unknown.txt,spam\n",
            "52_unknown.txt,spam\n",
            "53_unknown.txt,spam\n",
            "54_unknown.txt,spam\n",
            "55_unknown.txt,spam\n",
            "56_unknown.txt,spam\n",
            "57_unknown.txt,spam\n",
            "58_unknown.txt,spam\n",
            "59_unknown.txt,spam\n",
            "60_unknown.txt,spam\n",
            "61_unknown.txt,spam\n",
            "62_unknown.txt,spam\n",
            "63_unknown.txt,spam\n",
            "64_unknown.txt,spam\n",
            "65_unknown.txt,spam\n",
            "66_unknown.txt,spam\n",
            "67_unknown.txt,spam\n",
            "68_unknown.txt,spam\n",
            "69_unknown.txt,spam\n",
            "70_unknown.txt,spam\n",
            "71_unknown.txt,spam\n",
            "72_unknown.txt,spam\n",
            "73_unknown.txt,spam\n",
            "74_unknown.txt,spam\n",
            "75_unknown.txt,spam\n",
            "76_unknown.txt,spam\n",
            "77_unknown.txt,spam\n",
            "\n"
          ]
        }
      ],
      "source": [
        "print(result_predict)"
      ]
    },
    {
      "cell_type": "code",
      "execution_count": null,
      "metadata": {
        "id": "01Eqgvp-q3Do"
      },
      "outputs": [],
      "source": [
        "file1 = open(\"predict_label.txt\", \"a\")\n",
        "file1.write(result_predict)\n",
        "file1.close()"
      ]
    }
  ],
  "metadata": {
    "accelerator": "GPU",
    "colab": {
      "gpuType": "T4",
      "provenance": []
    },
    "kernelspec": {
      "display_name": "Python 3",
      "name": "python3"
    },
    "language_info": {
      "codemirror_mode": {
        "name": "ipython",
        "version": 3
      },
      "file_extension": ".py",
      "mimetype": "text/x-python",
      "name": "python",
      "nbconvert_exporter": "python",
      "pygments_lexer": "ipython3",
      "version": "3.10.13"
    },
    "widgets": {
      "application/vnd.jupyter.widget-state+json": {
        "03d8f24c6f8b4051ab19917e2ab55f0b": {
          "model_module": "@jupyter-widgets/base",
          "model_module_version": "1.2.0",
          "model_name": "LayoutModel",
          "state": {
            "_model_module": "@jupyter-widgets/base",
            "_model_module_version": "1.2.0",
            "_model_name": "LayoutModel",
            "_view_count": null,
            "_view_module": "@jupyter-widgets/base",
            "_view_module_version": "1.2.0",
            "_view_name": "LayoutView",
            "align_content": null,
            "align_items": null,
            "align_self": null,
            "border": null,
            "bottom": null,
            "display": null,
            "flex": null,
            "flex_flow": null,
            "grid_area": null,
            "grid_auto_columns": null,
            "grid_auto_flow": null,
            "grid_auto_rows": null,
            "grid_column": null,
            "grid_gap": null,
            "grid_row": null,
            "grid_template_areas": null,
            "grid_template_columns": null,
            "grid_template_rows": null,
            "height": null,
            "justify_content": null,
            "justify_items": null,
            "left": null,
            "margin": null,
            "max_height": null,
            "max_width": null,
            "min_height": null,
            "min_width": null,
            "object_fit": null,
            "object_position": null,
            "order": null,
            "overflow": null,
            "overflow_x": null,
            "overflow_y": null,
            "padding": null,
            "right": null,
            "top": null,
            "visibility": null,
            "width": null
          }
        },
        "0a1f5d9b8807499bb08db6ebda7a5c21": {
          "model_module": "@jupyter-widgets/controls",
          "model_module_version": "1.5.0",
          "model_name": "HTMLModel",
          "state": {
            "_dom_classes": [],
            "_model_module": "@jupyter-widgets/controls",
            "_model_module_version": "1.5.0",
            "_model_name": "HTMLModel",
            "_view_count": null,
            "_view_module": "@jupyter-widgets/controls",
            "_view_module_version": "1.5.0",
            "_view_name": "HTMLView",
            "description": "",
            "description_tooltip": null,
            "layout": "IPY_MODEL_e238b9a06db84ba7b347e7dd8e8b6678",
            "placeholder": "​",
            "style": "IPY_MODEL_e8081755e80e4631bee8465139d06e1c",
            "value": " 168/168 [00:00&lt;00:00, 279.31 examples/s]"
          }
        },
        "1dd0188c57b54390aba941848b7a5c0b": {
          "model_module": "@jupyter-widgets/base",
          "model_module_version": "1.2.0",
          "model_name": "LayoutModel",
          "state": {
            "_model_module": "@jupyter-widgets/base",
            "_model_module_version": "1.2.0",
            "_model_name": "LayoutModel",
            "_view_count": null,
            "_view_module": "@jupyter-widgets/base",
            "_view_module_version": "1.2.0",
            "_view_name": "LayoutView",
            "align_content": null,
            "align_items": null,
            "align_self": null,
            "border": null,
            "bottom": null,
            "display": null,
            "flex": null,
            "flex_flow": null,
            "grid_area": null,
            "grid_auto_columns": null,
            "grid_auto_flow": null,
            "grid_auto_rows": null,
            "grid_column": null,
            "grid_gap": null,
            "grid_row": null,
            "grid_template_areas": null,
            "grid_template_columns": null,
            "grid_template_rows": null,
            "height": null,
            "justify_content": null,
            "justify_items": null,
            "left": null,
            "margin": null,
            "max_height": null,
            "max_width": null,
            "min_height": null,
            "min_width": null,
            "object_fit": null,
            "object_position": null,
            "order": null,
            "overflow": null,
            "overflow_x": null,
            "overflow_y": null,
            "padding": null,
            "right": null,
            "top": null,
            "visibility": null,
            "width": null
          }
        },
        "2c4c2361493749839755be94da84d2af": {
          "model_module": "@jupyter-widgets/controls",
          "model_module_version": "1.5.0",
          "model_name": "DescriptionStyleModel",
          "state": {
            "_model_module": "@jupyter-widgets/controls",
            "_model_module_version": "1.5.0",
            "_model_name": "DescriptionStyleModel",
            "_view_count": null,
            "_view_module": "@jupyter-widgets/base",
            "_view_module_version": "1.2.0",
            "_view_name": "StyleView",
            "description_width": ""
          }
        },
        "3a1cf2859554457f98054ecfcf1bbf1f": {
          "model_module": "@jupyter-widgets/controls",
          "model_module_version": "1.5.0",
          "model_name": "HTMLModel",
          "state": {
            "_dom_classes": [],
            "_model_module": "@jupyter-widgets/controls",
            "_model_module_version": "1.5.0",
            "_model_name": "HTMLModel",
            "_view_count": null,
            "_view_module": "@jupyter-widgets/controls",
            "_view_module_version": "1.5.0",
            "_view_name": "HTMLView",
            "description": "",
            "description_tooltip": null,
            "layout": "IPY_MODEL_dde795696ee54025bd4ae2af8f2f9769",
            "placeholder": "​",
            "style": "IPY_MODEL_e0c4012f963b4acbab236d0fd9636c29",
            "value": "Map: 100%"
          }
        },
        "3e0b4574ade6402da3bd9331e7f0485e": {
          "model_module": "@jupyter-widgets/controls",
          "model_module_version": "1.5.0",
          "model_name": "HBoxModel",
          "state": {
            "_dom_classes": [],
            "_model_module": "@jupyter-widgets/controls",
            "_model_module_version": "1.5.0",
            "_model_name": "HBoxModel",
            "_view_count": null,
            "_view_module": "@jupyter-widgets/controls",
            "_view_module_version": "1.5.0",
            "_view_name": "HBoxView",
            "box_style": "",
            "children": [
              "IPY_MODEL_52f7924b40ad44ffba30f6a0c6954663",
              "IPY_MODEL_b79b6431e35f4fdbab300d94191cc3ea",
              "IPY_MODEL_bbe0ffc7c8ef41e8b8fa1769fea952b5"
            ],
            "layout": "IPY_MODEL_be426e3a869c4a4a94606595b2b0fcc5"
          }
        },
        "457d26dbad364ec2b656b73d5fcca87d": {
          "model_module": "@jupyter-widgets/controls",
          "model_module_version": "1.5.0",
          "model_name": "FloatProgressModel",
          "state": {
            "_dom_classes": [],
            "_model_module": "@jupyter-widgets/controls",
            "_model_module_version": "1.5.0",
            "_model_name": "FloatProgressModel",
            "_view_count": null,
            "_view_module": "@jupyter-widgets/controls",
            "_view_module_version": "1.5.0",
            "_view_name": "ProgressView",
            "bar_style": "success",
            "description": "",
            "description_tooltip": null,
            "layout": "IPY_MODEL_fabb6de6e80c4e1e979b3befd7008af7",
            "max": 43,
            "min": 0,
            "orientation": "horizontal",
            "style": "IPY_MODEL_5e196d4e73a94b8fb3c278be88be74d1",
            "value": 43
          }
        },
        "4d8e9b2950154c59a757397be979b9e7": {
          "model_module": "@jupyter-widgets/base",
          "model_module_version": "1.2.0",
          "model_name": "LayoutModel",
          "state": {
            "_model_module": "@jupyter-widgets/base",
            "_model_module_version": "1.2.0",
            "_model_name": "LayoutModel",
            "_view_count": null,
            "_view_module": "@jupyter-widgets/base",
            "_view_module_version": "1.2.0",
            "_view_name": "LayoutView",
            "align_content": null,
            "align_items": null,
            "align_self": null,
            "border": null,
            "bottom": null,
            "display": null,
            "flex": null,
            "flex_flow": null,
            "grid_area": null,
            "grid_auto_columns": null,
            "grid_auto_flow": null,
            "grid_auto_rows": null,
            "grid_column": null,
            "grid_gap": null,
            "grid_row": null,
            "grid_template_areas": null,
            "grid_template_columns": null,
            "grid_template_rows": null,
            "height": null,
            "justify_content": null,
            "justify_items": null,
            "left": null,
            "margin": null,
            "max_height": null,
            "max_width": null,
            "min_height": null,
            "min_width": null,
            "object_fit": null,
            "object_position": null,
            "order": null,
            "overflow": null,
            "overflow_x": null,
            "overflow_y": null,
            "padding": null,
            "right": null,
            "top": null,
            "visibility": null,
            "width": null
          }
        },
        "52f7924b40ad44ffba30f6a0c6954663": {
          "model_module": "@jupyter-widgets/controls",
          "model_module_version": "1.5.0",
          "model_name": "HTMLModel",
          "state": {
            "_dom_classes": [],
            "_model_module": "@jupyter-widgets/controls",
            "_model_module_version": "1.5.0",
            "_model_name": "HTMLModel",
            "_view_count": null,
            "_view_module": "@jupyter-widgets/controls",
            "_view_module_version": "1.5.0",
            "_view_name": "HTMLView",
            "description": "",
            "description_tooltip": null,
            "layout": "IPY_MODEL_dcd406b002d94a0caa22e19240d2dfd4",
            "placeholder": "​",
            "style": "IPY_MODEL_e74c034f42e545bcb8810c7abd46a8c0",
            "value": "Map: 100%"
          }
        },
        "5e196d4e73a94b8fb3c278be88be74d1": {
          "model_module": "@jupyter-widgets/controls",
          "model_module_version": "1.5.0",
          "model_name": "ProgressStyleModel",
          "state": {
            "_model_module": "@jupyter-widgets/controls",
            "_model_module_version": "1.5.0",
            "_model_name": "ProgressStyleModel",
            "_view_count": null,
            "_view_module": "@jupyter-widgets/base",
            "_view_module_version": "1.2.0",
            "_view_name": "StyleView",
            "bar_color": null,
            "description_width": ""
          }
        },
        "7db35fc6d85f464aba5f59d6f767adaf": {
          "model_module": "@jupyter-widgets/base",
          "model_module_version": "1.2.0",
          "model_name": "LayoutModel",
          "state": {
            "_model_module": "@jupyter-widgets/base",
            "_model_module_version": "1.2.0",
            "_model_name": "LayoutModel",
            "_view_count": null,
            "_view_module": "@jupyter-widgets/base",
            "_view_module_version": "1.2.0",
            "_view_name": "LayoutView",
            "align_content": null,
            "align_items": null,
            "align_self": null,
            "border": null,
            "bottom": null,
            "display": null,
            "flex": null,
            "flex_flow": null,
            "grid_area": null,
            "grid_auto_columns": null,
            "grid_auto_flow": null,
            "grid_auto_rows": null,
            "grid_column": null,
            "grid_gap": null,
            "grid_row": null,
            "grid_template_areas": null,
            "grid_template_columns": null,
            "grid_template_rows": null,
            "height": null,
            "justify_content": null,
            "justify_items": null,
            "left": null,
            "margin": null,
            "max_height": null,
            "max_width": null,
            "min_height": null,
            "min_width": null,
            "object_fit": null,
            "object_position": null,
            "order": null,
            "overflow": null,
            "overflow_x": null,
            "overflow_y": null,
            "padding": null,
            "right": null,
            "top": null,
            "visibility": null,
            "width": null
          }
        },
        "9bb43d2cd4054134b3f45163d46a6804": {
          "model_module": "@jupyter-widgets/controls",
          "model_module_version": "1.5.0",
          "model_name": "HTMLModel",
          "state": {
            "_dom_classes": [],
            "_model_module": "@jupyter-widgets/controls",
            "_model_module_version": "1.5.0",
            "_model_name": "HTMLModel",
            "_view_count": null,
            "_view_module": "@jupyter-widgets/controls",
            "_view_module_version": "1.5.0",
            "_view_name": "HTMLView",
            "description": "",
            "description_tooltip": null,
            "layout": "IPY_MODEL_dd975231156a4c308a20fe1452833fdd",
            "placeholder": "​",
            "style": "IPY_MODEL_a1cd7a12dd3c4938884531ac07754cb1",
            "value": "Map: 100%"
          }
        },
        "a1cd7a12dd3c4938884531ac07754cb1": {
          "model_module": "@jupyter-widgets/controls",
          "model_module_version": "1.5.0",
          "model_name": "DescriptionStyleModel",
          "state": {
            "_model_module": "@jupyter-widgets/controls",
            "_model_module_version": "1.5.0",
            "_model_name": "DescriptionStyleModel",
            "_view_count": null,
            "_view_module": "@jupyter-widgets/base",
            "_view_module_version": "1.2.0",
            "_view_name": "StyleView",
            "description_width": ""
          }
        },
        "b79b6431e35f4fdbab300d94191cc3ea": {
          "model_module": "@jupyter-widgets/controls",
          "model_module_version": "1.5.0",
          "model_name": "FloatProgressModel",
          "state": {
            "_dom_classes": [],
            "_model_module": "@jupyter-widgets/controls",
            "_model_module_version": "1.5.0",
            "_model_name": "FloatProgressModel",
            "_view_count": null,
            "_view_module": "@jupyter-widgets/controls",
            "_view_module_version": "1.5.0",
            "_view_name": "ProgressView",
            "bar_style": "success",
            "description": "",
            "description_tooltip": null,
            "layout": "IPY_MODEL_7db35fc6d85f464aba5f59d6f767adaf",
            "max": 859,
            "min": 0,
            "orientation": "horizontal",
            "style": "IPY_MODEL_cf029e4aacc74238a86467c696fa4019",
            "value": 859
          }
        },
        "b838fbc47ecb482aa830e76b11b78564": {
          "model_module": "@jupyter-widgets/controls",
          "model_module_version": "1.5.0",
          "model_name": "HTMLModel",
          "state": {
            "_dom_classes": [],
            "_model_module": "@jupyter-widgets/controls",
            "_model_module_version": "1.5.0",
            "_model_name": "HTMLModel",
            "_view_count": null,
            "_view_module": "@jupyter-widgets/controls",
            "_view_module_version": "1.5.0",
            "_view_name": "HTMLView",
            "description": "",
            "description_tooltip": null,
            "layout": "IPY_MODEL_4d8e9b2950154c59a757397be979b9e7",
            "placeholder": "​",
            "style": "IPY_MODEL_2c4c2361493749839755be94da84d2af",
            "value": " 43/43 [00:00&lt;00:00, 206.42 examples/s]"
          }
        },
        "bbe0ffc7c8ef41e8b8fa1769fea952b5": {
          "model_module": "@jupyter-widgets/controls",
          "model_module_version": "1.5.0",
          "model_name": "HTMLModel",
          "state": {
            "_dom_classes": [],
            "_model_module": "@jupyter-widgets/controls",
            "_model_module_version": "1.5.0",
            "_model_name": "HTMLModel",
            "_view_count": null,
            "_view_module": "@jupyter-widgets/controls",
            "_view_module_version": "1.5.0",
            "_view_name": "HTMLView",
            "description": "",
            "description_tooltip": null,
            "layout": "IPY_MODEL_03d8f24c6f8b4051ab19917e2ab55f0b",
            "placeholder": "​",
            "style": "IPY_MODEL_c8d0ddd000974988b35f561b6f7fd611",
            "value": " 859/859 [00:01&lt;00:00, 818.57 examples/s]"
          }
        },
        "be426e3a869c4a4a94606595b2b0fcc5": {
          "model_module": "@jupyter-widgets/base",
          "model_module_version": "1.2.0",
          "model_name": "LayoutModel",
          "state": {
            "_model_module": "@jupyter-widgets/base",
            "_model_module_version": "1.2.0",
            "_model_name": "LayoutModel",
            "_view_count": null,
            "_view_module": "@jupyter-widgets/base",
            "_view_module_version": "1.2.0",
            "_view_name": "LayoutView",
            "align_content": null,
            "align_items": null,
            "align_self": null,
            "border": null,
            "bottom": null,
            "display": null,
            "flex": null,
            "flex_flow": null,
            "grid_area": null,
            "grid_auto_columns": null,
            "grid_auto_flow": null,
            "grid_auto_rows": null,
            "grid_column": null,
            "grid_gap": null,
            "grid_row": null,
            "grid_template_areas": null,
            "grid_template_columns": null,
            "grid_template_rows": null,
            "height": null,
            "justify_content": null,
            "justify_items": null,
            "left": null,
            "margin": null,
            "max_height": null,
            "max_width": null,
            "min_height": null,
            "min_width": null,
            "object_fit": null,
            "object_position": null,
            "order": null,
            "overflow": null,
            "overflow_x": null,
            "overflow_y": null,
            "padding": null,
            "right": null,
            "top": null,
            "visibility": null,
            "width": null
          }
        },
        "be977537bd754e66aafa623be86a3ad5": {
          "model_module": "@jupyter-widgets/base",
          "model_module_version": "1.2.0",
          "model_name": "LayoutModel",
          "state": {
            "_model_module": "@jupyter-widgets/base",
            "_model_module_version": "1.2.0",
            "_model_name": "LayoutModel",
            "_view_count": null,
            "_view_module": "@jupyter-widgets/base",
            "_view_module_version": "1.2.0",
            "_view_name": "LayoutView",
            "align_content": null,
            "align_items": null,
            "align_self": null,
            "border": null,
            "bottom": null,
            "display": null,
            "flex": null,
            "flex_flow": null,
            "grid_area": null,
            "grid_auto_columns": null,
            "grid_auto_flow": null,
            "grid_auto_rows": null,
            "grid_column": null,
            "grid_gap": null,
            "grid_row": null,
            "grid_template_areas": null,
            "grid_template_columns": null,
            "grid_template_rows": null,
            "height": null,
            "justify_content": null,
            "justify_items": null,
            "left": null,
            "margin": null,
            "max_height": null,
            "max_width": null,
            "min_height": null,
            "min_width": null,
            "object_fit": null,
            "object_position": null,
            "order": null,
            "overflow": null,
            "overflow_x": null,
            "overflow_y": null,
            "padding": null,
            "right": null,
            "top": null,
            "visibility": null,
            "width": null
          }
        },
        "c8d0ddd000974988b35f561b6f7fd611": {
          "model_module": "@jupyter-widgets/controls",
          "model_module_version": "1.5.0",
          "model_name": "DescriptionStyleModel",
          "state": {
            "_model_module": "@jupyter-widgets/controls",
            "_model_module_version": "1.5.0",
            "_model_name": "DescriptionStyleModel",
            "_view_count": null,
            "_view_module": "@jupyter-widgets/base",
            "_view_module_version": "1.2.0",
            "_view_name": "StyleView",
            "description_width": ""
          }
        },
        "cf029e4aacc74238a86467c696fa4019": {
          "model_module": "@jupyter-widgets/controls",
          "model_module_version": "1.5.0",
          "model_name": "ProgressStyleModel",
          "state": {
            "_model_module": "@jupyter-widgets/controls",
            "_model_module_version": "1.5.0",
            "_model_name": "ProgressStyleModel",
            "_view_count": null,
            "_view_module": "@jupyter-widgets/base",
            "_view_module_version": "1.2.0",
            "_view_name": "StyleView",
            "bar_color": null,
            "description_width": ""
          }
        },
        "d4a4471b817743a99c2b95e45efdf776": {
          "model_module": "@jupyter-widgets/controls",
          "model_module_version": "1.5.0",
          "model_name": "HBoxModel",
          "state": {
            "_dom_classes": [],
            "_model_module": "@jupyter-widgets/controls",
            "_model_module_version": "1.5.0",
            "_model_name": "HBoxModel",
            "_view_count": null,
            "_view_module": "@jupyter-widgets/controls",
            "_view_module_version": "1.5.0",
            "_view_name": "HBoxView",
            "box_style": "",
            "children": [
              "IPY_MODEL_9bb43d2cd4054134b3f45163d46a6804",
              "IPY_MODEL_e5e26a14479340149266da5170914ea3",
              "IPY_MODEL_0a1f5d9b8807499bb08db6ebda7a5c21"
            ],
            "layout": "IPY_MODEL_1dd0188c57b54390aba941848b7a5c0b"
          }
        },
        "dab22b9363cd4cce8ebc737f02f7af65": {
          "model_module": "@jupyter-widgets/base",
          "model_module_version": "1.2.0",
          "model_name": "LayoutModel",
          "state": {
            "_model_module": "@jupyter-widgets/base",
            "_model_module_version": "1.2.0",
            "_model_name": "LayoutModel",
            "_view_count": null,
            "_view_module": "@jupyter-widgets/base",
            "_view_module_version": "1.2.0",
            "_view_name": "LayoutView",
            "align_content": null,
            "align_items": null,
            "align_self": null,
            "border": null,
            "bottom": null,
            "display": null,
            "flex": null,
            "flex_flow": null,
            "grid_area": null,
            "grid_auto_columns": null,
            "grid_auto_flow": null,
            "grid_auto_rows": null,
            "grid_column": null,
            "grid_gap": null,
            "grid_row": null,
            "grid_template_areas": null,
            "grid_template_columns": null,
            "grid_template_rows": null,
            "height": null,
            "justify_content": null,
            "justify_items": null,
            "left": null,
            "margin": null,
            "max_height": null,
            "max_width": null,
            "min_height": null,
            "min_width": null,
            "object_fit": null,
            "object_position": null,
            "order": null,
            "overflow": null,
            "overflow_x": null,
            "overflow_y": null,
            "padding": null,
            "right": null,
            "top": null,
            "visibility": null,
            "width": null
          }
        },
        "dcd406b002d94a0caa22e19240d2dfd4": {
          "model_module": "@jupyter-widgets/base",
          "model_module_version": "1.2.0",
          "model_name": "LayoutModel",
          "state": {
            "_model_module": "@jupyter-widgets/base",
            "_model_module_version": "1.2.0",
            "_model_name": "LayoutModel",
            "_view_count": null,
            "_view_module": "@jupyter-widgets/base",
            "_view_module_version": "1.2.0",
            "_view_name": "LayoutView",
            "align_content": null,
            "align_items": null,
            "align_self": null,
            "border": null,
            "bottom": null,
            "display": null,
            "flex": null,
            "flex_flow": null,
            "grid_area": null,
            "grid_auto_columns": null,
            "grid_auto_flow": null,
            "grid_auto_rows": null,
            "grid_column": null,
            "grid_gap": null,
            "grid_row": null,
            "grid_template_areas": null,
            "grid_template_columns": null,
            "grid_template_rows": null,
            "height": null,
            "justify_content": null,
            "justify_items": null,
            "left": null,
            "margin": null,
            "max_height": null,
            "max_width": null,
            "min_height": null,
            "min_width": null,
            "object_fit": null,
            "object_position": null,
            "order": null,
            "overflow": null,
            "overflow_x": null,
            "overflow_y": null,
            "padding": null,
            "right": null,
            "top": null,
            "visibility": null,
            "width": null
          }
        },
        "dd975231156a4c308a20fe1452833fdd": {
          "model_module": "@jupyter-widgets/base",
          "model_module_version": "1.2.0",
          "model_name": "LayoutModel",
          "state": {
            "_model_module": "@jupyter-widgets/base",
            "_model_module_version": "1.2.0",
            "_model_name": "LayoutModel",
            "_view_count": null,
            "_view_module": "@jupyter-widgets/base",
            "_view_module_version": "1.2.0",
            "_view_name": "LayoutView",
            "align_content": null,
            "align_items": null,
            "align_self": null,
            "border": null,
            "bottom": null,
            "display": null,
            "flex": null,
            "flex_flow": null,
            "grid_area": null,
            "grid_auto_columns": null,
            "grid_auto_flow": null,
            "grid_auto_rows": null,
            "grid_column": null,
            "grid_gap": null,
            "grid_row": null,
            "grid_template_areas": null,
            "grid_template_columns": null,
            "grid_template_rows": null,
            "height": null,
            "justify_content": null,
            "justify_items": null,
            "left": null,
            "margin": null,
            "max_height": null,
            "max_width": null,
            "min_height": null,
            "min_width": null,
            "object_fit": null,
            "object_position": null,
            "order": null,
            "overflow": null,
            "overflow_x": null,
            "overflow_y": null,
            "padding": null,
            "right": null,
            "top": null,
            "visibility": null,
            "width": null
          }
        },
        "dde795696ee54025bd4ae2af8f2f9769": {
          "model_module": "@jupyter-widgets/base",
          "model_module_version": "1.2.0",
          "model_name": "LayoutModel",
          "state": {
            "_model_module": "@jupyter-widgets/base",
            "_model_module_version": "1.2.0",
            "_model_name": "LayoutModel",
            "_view_count": null,
            "_view_module": "@jupyter-widgets/base",
            "_view_module_version": "1.2.0",
            "_view_name": "LayoutView",
            "align_content": null,
            "align_items": null,
            "align_self": null,
            "border": null,
            "bottom": null,
            "display": null,
            "flex": null,
            "flex_flow": null,
            "grid_area": null,
            "grid_auto_columns": null,
            "grid_auto_flow": null,
            "grid_auto_rows": null,
            "grid_column": null,
            "grid_gap": null,
            "grid_row": null,
            "grid_template_areas": null,
            "grid_template_columns": null,
            "grid_template_rows": null,
            "height": null,
            "justify_content": null,
            "justify_items": null,
            "left": null,
            "margin": null,
            "max_height": null,
            "max_width": null,
            "min_height": null,
            "min_width": null,
            "object_fit": null,
            "object_position": null,
            "order": null,
            "overflow": null,
            "overflow_x": null,
            "overflow_y": null,
            "padding": null,
            "right": null,
            "top": null,
            "visibility": null,
            "width": null
          }
        },
        "e0c4012f963b4acbab236d0fd9636c29": {
          "model_module": "@jupyter-widgets/controls",
          "model_module_version": "1.5.0",
          "model_name": "DescriptionStyleModel",
          "state": {
            "_model_module": "@jupyter-widgets/controls",
            "_model_module_version": "1.5.0",
            "_model_name": "DescriptionStyleModel",
            "_view_count": null,
            "_view_module": "@jupyter-widgets/base",
            "_view_module_version": "1.2.0",
            "_view_name": "StyleView",
            "description_width": ""
          }
        },
        "e238b9a06db84ba7b347e7dd8e8b6678": {
          "model_module": "@jupyter-widgets/base",
          "model_module_version": "1.2.0",
          "model_name": "LayoutModel",
          "state": {
            "_model_module": "@jupyter-widgets/base",
            "_model_module_version": "1.2.0",
            "_model_name": "LayoutModel",
            "_view_count": null,
            "_view_module": "@jupyter-widgets/base",
            "_view_module_version": "1.2.0",
            "_view_name": "LayoutView",
            "align_content": null,
            "align_items": null,
            "align_self": null,
            "border": null,
            "bottom": null,
            "display": null,
            "flex": null,
            "flex_flow": null,
            "grid_area": null,
            "grid_auto_columns": null,
            "grid_auto_flow": null,
            "grid_auto_rows": null,
            "grid_column": null,
            "grid_gap": null,
            "grid_row": null,
            "grid_template_areas": null,
            "grid_template_columns": null,
            "grid_template_rows": null,
            "height": null,
            "justify_content": null,
            "justify_items": null,
            "left": null,
            "margin": null,
            "max_height": null,
            "max_width": null,
            "min_height": null,
            "min_width": null,
            "object_fit": null,
            "object_position": null,
            "order": null,
            "overflow": null,
            "overflow_x": null,
            "overflow_y": null,
            "padding": null,
            "right": null,
            "top": null,
            "visibility": null,
            "width": null
          }
        },
        "e5e26a14479340149266da5170914ea3": {
          "model_module": "@jupyter-widgets/controls",
          "model_module_version": "1.5.0",
          "model_name": "FloatProgressModel",
          "state": {
            "_dom_classes": [],
            "_model_module": "@jupyter-widgets/controls",
            "_model_module_version": "1.5.0",
            "_model_name": "FloatProgressModel",
            "_view_count": null,
            "_view_module": "@jupyter-widgets/controls",
            "_view_module_version": "1.5.0",
            "_view_name": "ProgressView",
            "bar_style": "success",
            "description": "",
            "description_tooltip": null,
            "layout": "IPY_MODEL_dab22b9363cd4cce8ebc737f02f7af65",
            "max": 168,
            "min": 0,
            "orientation": "horizontal",
            "style": "IPY_MODEL_f5b5b102074344049ccfa3f61f4279f6",
            "value": 168
          }
        },
        "e74c034f42e545bcb8810c7abd46a8c0": {
          "model_module": "@jupyter-widgets/controls",
          "model_module_version": "1.5.0",
          "model_name": "DescriptionStyleModel",
          "state": {
            "_model_module": "@jupyter-widgets/controls",
            "_model_module_version": "1.5.0",
            "_model_name": "DescriptionStyleModel",
            "_view_count": null,
            "_view_module": "@jupyter-widgets/base",
            "_view_module_version": "1.2.0",
            "_view_name": "StyleView",
            "description_width": ""
          }
        },
        "e8081755e80e4631bee8465139d06e1c": {
          "model_module": "@jupyter-widgets/controls",
          "model_module_version": "1.5.0",
          "model_name": "DescriptionStyleModel",
          "state": {
            "_model_module": "@jupyter-widgets/controls",
            "_model_module_version": "1.5.0",
            "_model_name": "DescriptionStyleModel",
            "_view_count": null,
            "_view_module": "@jupyter-widgets/base",
            "_view_module_version": "1.2.0",
            "_view_name": "StyleView",
            "description_width": ""
          }
        },
        "f5b5b102074344049ccfa3f61f4279f6": {
          "model_module": "@jupyter-widgets/controls",
          "model_module_version": "1.5.0",
          "model_name": "ProgressStyleModel",
          "state": {
            "_model_module": "@jupyter-widgets/controls",
            "_model_module_version": "1.5.0",
            "_model_name": "ProgressStyleModel",
            "_view_count": null,
            "_view_module": "@jupyter-widgets/base",
            "_view_module_version": "1.2.0",
            "_view_name": "StyleView",
            "bar_color": null,
            "description_width": ""
          }
        },
        "f8dcf13bdf274e8a9bbc2109488b561a": {
          "model_module": "@jupyter-widgets/controls",
          "model_module_version": "1.5.0",
          "model_name": "HBoxModel",
          "state": {
            "_dom_classes": [],
            "_model_module": "@jupyter-widgets/controls",
            "_model_module_version": "1.5.0",
            "_model_name": "HBoxModel",
            "_view_count": null,
            "_view_module": "@jupyter-widgets/controls",
            "_view_module_version": "1.5.0",
            "_view_name": "HBoxView",
            "box_style": "",
            "children": [
              "IPY_MODEL_3a1cf2859554457f98054ecfcf1bbf1f",
              "IPY_MODEL_457d26dbad364ec2b656b73d5fcca87d",
              "IPY_MODEL_b838fbc47ecb482aa830e76b11b78564"
            ],
            "layout": "IPY_MODEL_be977537bd754e66aafa623be86a3ad5"
          }
        },
        "fabb6de6e80c4e1e979b3befd7008af7": {
          "model_module": "@jupyter-widgets/base",
          "model_module_version": "1.2.0",
          "model_name": "LayoutModel",
          "state": {
            "_model_module": "@jupyter-widgets/base",
            "_model_module_version": "1.2.0",
            "_model_name": "LayoutModel",
            "_view_count": null,
            "_view_module": "@jupyter-widgets/base",
            "_view_module_version": "1.2.0",
            "_view_name": "LayoutView",
            "align_content": null,
            "align_items": null,
            "align_self": null,
            "border": null,
            "bottom": null,
            "display": null,
            "flex": null,
            "flex_flow": null,
            "grid_area": null,
            "grid_auto_columns": null,
            "grid_auto_flow": null,
            "grid_auto_rows": null,
            "grid_column": null,
            "grid_gap": null,
            "grid_row": null,
            "grid_template_areas": null,
            "grid_template_columns": null,
            "grid_template_rows": null,
            "height": null,
            "justify_content": null,
            "justify_items": null,
            "left": null,
            "margin": null,
            "max_height": null,
            "max_width": null,
            "min_height": null,
            "min_width": null,
            "object_fit": null,
            "object_position": null,
            "order": null,
            "overflow": null,
            "overflow_x": null,
            "overflow_y": null,
            "padding": null,
            "right": null,
            "top": null,
            "visibility": null,
            "width": null
          }
        }
      }
    }
  },
  "nbformat": 4,
  "nbformat_minor": 0
}
