{
 "cells": [
  {
   "cell_type": "code",
   "execution_count": 216,
   "metadata": {},
   "outputs": [],
   "source": [
    "import numpy as np\n",
    "import pandas as pd\n",
    "import matplotlib.pyplot as plt\n",
    "import seaborn as sns\n",
    "import plotly.express as px\n",
    "from sklearn.preprocessing import LabelEncoder, MinMaxScaler, StandardScaler\n",
    "from sklearn.cluster import KMeans, DBSCAN\n",
    "from sklearn.metrics import pairwise_distances\n",
    "from scipy.spatial.distance import cdist, squareform, pdist"
   ]
  },
  {
   "cell_type": "code",
   "execution_count": 217,
   "metadata": {},
   "outputs": [],
   "source": [
    "data = pd.read_csv('data/countries.csv')"
   ]
  },
  {
   "cell_type": "code",
   "execution_count": 218,
   "metadata": {},
   "outputs": [],
   "source": [
    "data = data[['latitude', 'longitude', 'name']]"
   ]
  },
  {
   "cell_type": "code",
   "execution_count": 219,
   "metadata": {},
   "outputs": [
    {
     "data": {
      "text/plain": [
       "latitude     1\n",
       "longitude    1\n",
       "name         0\n",
       "dtype: int64"
      ]
     },
     "execution_count": 219,
     "metadata": {},
     "output_type": "execute_result"
    }
   ],
   "source": [
    "data.isna().sum()"
   ]
  },
  {
   "cell_type": "code",
   "execution_count": 220,
   "metadata": {},
   "outputs": [],
   "source": [
    "data = data.dropna()"
   ]
  },
  {
   "cell_type": "code",
   "execution_count": 221,
   "metadata": {},
   "outputs": [
    {
     "name": "stdout",
     "output_type": "stream",
     "text": [
      "<class 'pandas.core.frame.DataFrame'>\n",
      "Index: 244 entries, 0 to 244\n",
      "Data columns (total 3 columns):\n",
      " #   Column     Non-Null Count  Dtype  \n",
      "---  ------     --------------  -----  \n",
      " 0   latitude   244 non-null    float64\n",
      " 1   longitude  244 non-null    float64\n",
      " 2   name       244 non-null    object \n",
      "dtypes: float64(2), object(1)\n",
      "memory usage: 7.6+ KB\n"
     ]
    }
   ],
   "source": [
    "data.info()"
   ]
  },
  {
   "cell_type": "markdown",
   "metadata": {},
   "source": [
    "# 1. Data Visualization"
   ]
  },
  {
   "cell_type": "code",
   "execution_count": 234,
   "metadata": {},
   "outputs": [
    {
     "data": {
      "application/vnd.plotly.v1+json": {
       "config": {
        "plotlyServerURL": "https://plot.ly"
       },
       "data": [
        {
         "hovertemplate": "<b>%{hovertext}</b><br><br>latitude=%{lat}<br>longitude=%{lon}<extra></extra>",
         "hovertext": [
          "Andorra",
          "United Arab Emirates",
          "Afghanistan",
          "Antigua and Barbuda",
          "Anguilla",
          "Albania",
          "Armenia",
          "Netherlands Antilles",
          "Angola",
          "Antarctica",
          "Argentina",
          "American Samoa",
          "Austria",
          "Australia",
          "Aruba",
          "Azerbaijan",
          "Bosnia and Herzegovina",
          "Barbados",
          "Bangladesh",
          "Belgium",
          "Burkina Faso",
          "Bulgaria",
          "Bahrain",
          "Burundi",
          "Benin",
          "Bermuda",
          "Brunei",
          "Bolivia",
          "Brazil",
          "Bahamas",
          "Bhutan",
          "Bouvet Island",
          "Botswana",
          "Belarus",
          "Belize",
          "Canada",
          "Cocos [Keeling] Islands",
          "Congo [DRC]",
          "Central African Republic",
          "Congo [Republic]",
          "Switzerland",
          "Côte d'Ivoire",
          "Cook Islands",
          "Chile",
          "Cameroon",
          "China",
          "Colombia",
          "Costa Rica",
          "Cuba",
          "Cape Verde",
          "Christmas Island",
          "Cyprus",
          "Czech Republic",
          "Germany",
          "Djibouti",
          "Denmark",
          "Dominica",
          "Dominican Republic",
          "Algeria",
          "Ecuador",
          "Estonia",
          "Egypt",
          "Western Sahara",
          "Eritrea",
          "Spain",
          "Ethiopia",
          "Finland",
          "Fiji",
          "Falkland Islands [Islas Malvinas]",
          "Micronesia",
          "Faroe Islands",
          "France",
          "Gabon",
          "United Kingdom",
          "Grenada",
          "Georgia",
          "French Guiana",
          "Guernsey",
          "Ghana",
          "Gibraltar",
          "Greenland",
          "Gambia",
          "Guinea",
          "Guadeloupe",
          "Equatorial Guinea",
          "Greece",
          "South Georgia and the South Sandwich Islands",
          "Guatemala",
          "Guam",
          "Guinea-Bissau",
          "Guyana",
          "Gaza Strip",
          "Hong Kong",
          "Heard Island and McDonald Islands",
          "Honduras",
          "Croatia",
          "Haiti",
          "Hungary",
          "Indonesia",
          "Ireland",
          "Israel",
          "Isle of Man",
          "India",
          "British Indian Ocean Territory",
          "Iraq",
          "Iran",
          "Iceland",
          "Italy",
          "Jersey",
          "Jamaica",
          "Jordan",
          "Japan",
          "Kenya",
          "Kyrgyzstan",
          "Cambodia",
          "Kiribati",
          "Comoros",
          "Saint Kitts and Nevis",
          "North Korea",
          "South Korea",
          "Kuwait",
          "Cayman Islands",
          "Kazakhstan",
          "Laos",
          "Lebanon",
          "Saint Lucia",
          "Liechtenstein",
          "Sri Lanka",
          "Liberia",
          "Lesotho",
          "Lithuania",
          "Luxembourg",
          "Latvia",
          "Libya",
          "Morocco",
          "Monaco",
          "Moldova",
          "Montenegro",
          "Madagascar",
          "Marshall Islands",
          "Macedonia [FYROM]",
          "Mali",
          "Myanmar [Burma]",
          "Mongolia",
          "Macau",
          "Northern Mariana Islands",
          "Martinique",
          "Mauritania",
          "Montserrat",
          "Malta",
          "Mauritius",
          "Maldives",
          "Malawi",
          "Mexico",
          "Malaysia",
          "Mozambique",
          "Namibia",
          "New Caledonia",
          "Niger",
          "Norfolk Island",
          "Nigeria",
          "Nicaragua",
          "Netherlands",
          "Norway",
          "Nepal",
          "Nauru",
          "Niue",
          "New Zealand",
          "Oman",
          "Panama",
          "Peru",
          "French Polynesia",
          "Papua New Guinea",
          "Philippines",
          "Pakistan",
          "Poland",
          "Saint Pierre and Miquelon",
          "Pitcairn Islands",
          "Puerto Rico",
          "Palestinian Territories",
          "Portugal",
          "Palau",
          "Paraguay",
          "Qatar",
          "Réunion",
          "Romania",
          "Serbia",
          "Russia",
          "Rwanda",
          "Saudi Arabia",
          "Solomon Islands",
          "Seychelles",
          "Sudan",
          "Sweden",
          "Singapore",
          "Saint Helena",
          "Slovenia",
          "Svalbard and Jan Mayen",
          "Slovakia",
          "Sierra Leone",
          "San Marino",
          "Senegal",
          "Somalia",
          "Suriname",
          "São Tomé and Príncipe",
          "El Salvador",
          "Syria",
          "Swaziland",
          "Turks and Caicos Islands",
          "Chad",
          "French Southern Territories",
          "Togo",
          "Thailand",
          "Tajikistan",
          "Tokelau",
          "Timor-Leste",
          "Turkmenistan",
          "Tunisia",
          "Tonga",
          "Turkey",
          "Trinidad and Tobago",
          "Tuvalu",
          "Taiwan",
          "Tanzania",
          "Ukraine",
          "Uganda",
          "United States",
          "Uruguay",
          "Uzbekistan",
          "Vatican City",
          "Saint Vincent and the Grenadines",
          "Venezuela",
          "British Virgin Islands",
          "U.S. Virgin Islands",
          "Vietnam",
          "Vanuatu",
          "Wallis and Futuna",
          "Samoa",
          "Kosovo",
          "Yemen",
          "Mayotte",
          "South Africa",
          "Zambia",
          "Zimbabwe"
         ],
         "lat": [
          42.546245,
          23.424076,
          33.93911,
          17.060816,
          18.220554,
          41.153332,
          40.069099,
          12.226079,
          -11.202692,
          -75.250973,
          -38.416097,
          -14.270972,
          47.516231,
          -25.274398,
          12.52111,
          40.143105,
          43.915886,
          13.193887,
          23.684994,
          50.503887,
          12.238333,
          42.733883,
          25.930414,
          -3.373056,
          9.30769,
          32.321384,
          4.535277,
          -16.290154,
          -14.235004,
          25.03428,
          27.514162,
          -54.423199,
          -22.328474,
          53.709807,
          17.189877,
          56.130366,
          -12.164165,
          -4.038333,
          6.611111,
          -0.228021,
          46.818188,
          7.539989,
          -21.236736,
          -35.675147,
          7.369722,
          35.86166,
          4.570868,
          9.748917,
          21.521757,
          16.002082,
          -10.447525,
          35.126413,
          49.817492,
          51.165691,
          11.825138,
          56.26392,
          15.414999,
          18.735693,
          28.033886,
          -1.831239,
          58.595272,
          26.820553,
          24.215527,
          15.179384,
          40.463667,
          9.145,
          61.92411,
          -16.578193,
          -51.796253,
          7.425554,
          61.892635,
          46.227638,
          -0.803689,
          55.378051,
          12.262776,
          42.315407,
          3.933889,
          49.465691,
          7.946527,
          36.137741,
          71.706936,
          13.443182,
          9.945587,
          16.995971,
          1.650801,
          39.074208,
          -54.429579,
          15.783471,
          13.444304,
          11.803749,
          4.860416,
          31.354676,
          22.396428,
          -53.08181,
          15.199999,
          45.1,
          18.971187,
          47.162494,
          -0.789275,
          53.41291,
          31.046051,
          54.236107,
          20.593684,
          -6.343194,
          33.223191,
          32.427908,
          64.963051,
          41.87194,
          49.214439,
          18.109581,
          30.585164,
          36.204824,
          -0.023559,
          41.20438,
          12.565679,
          -3.370417,
          -11.875001,
          17.357822,
          40.339852,
          35.907757,
          29.31166,
          19.513469,
          48.019573,
          19.85627,
          33.854721,
          13.909444,
          47.166,
          7.873054,
          6.428055,
          -29.609988,
          55.169438,
          49.815273,
          56.879635,
          26.3351,
          31.791702,
          43.750298,
          47.411631,
          42.708678,
          -18.766947,
          7.131474,
          41.608635,
          17.570692,
          21.913965,
          46.862496,
          22.198745,
          17.33083,
          14.641528,
          21.00789,
          16.742498,
          35.937496,
          -20.348404,
          3.202778,
          -13.254308,
          23.634501,
          4.210484,
          -18.665695,
          -22.95764,
          -20.904305,
          17.607789,
          -29.040835,
          9.081999,
          12.865416,
          52.132633,
          60.472024,
          28.394857,
          -0.522778,
          -19.054445,
          -40.900557,
          21.512583,
          8.537981,
          -9.189967,
          -17.679742,
          -6.314993,
          12.879721,
          30.375321,
          51.919438,
          46.941936,
          -24.703615,
          18.220833,
          31.952162,
          39.399872,
          7.51498,
          -23.442503,
          25.354826,
          -21.115141,
          45.943161,
          44.016521,
          61.52401,
          -1.940278,
          23.885942,
          -9.64571,
          -4.679574,
          12.862807,
          60.128161,
          1.352083,
          -24.143474,
          46.151241,
          77.553604,
          48.669026,
          8.460555,
          43.94236,
          14.497401,
          5.152149,
          3.919305,
          0.18636,
          13.794185,
          34.802075,
          -26.522503,
          21.694025,
          15.454166,
          -49.280366,
          8.619543,
          15.870032,
          38.861034,
          -8.967363,
          -8.874217,
          38.969719,
          33.886917,
          -21.178986,
          38.963745,
          10.691803,
          -7.109535,
          23.69781,
          -6.369028,
          48.379433,
          1.373333,
          37.09024,
          -32.522779,
          41.377491,
          41.902916,
          12.984305,
          6.42375,
          18.420695,
          18.335765,
          14.058324,
          -15.376706,
          -13.768752,
          -13.759029,
          42.602636,
          15.552727,
          -12.8275,
          -30.559482,
          -13.133897,
          -19.015438
         ],
         "legendgroup": "",
         "lon": [
          1.601554,
          53.847818,
          67.709953,
          -61.796428,
          -63.068615,
          20.168331,
          45.038189,
          -69.060087,
          17.873887,
          -0.071389,
          -63.616672,
          -170.132217,
          14.550072,
          133.775136,
          -69.968338,
          47.576927,
          17.679076,
          -59.543198,
          90.356331,
          4.469936,
          -1.561593,
          25.48583,
          50.637772,
          29.918886,
          2.315834,
          -64.75737,
          114.727669,
          -63.588653,
          -51.92528,
          -77.39628,
          90.433601,
          3.413194,
          24.684866,
          27.953389,
          -88.49765,
          -106.346771,
          96.870956,
          21.758664,
          20.939444,
          15.827659,
          8.227512,
          -5.54708,
          -159.777671,
          -71.542969,
          12.354722,
          104.195397,
          -74.297333,
          -83.753428,
          -77.781167,
          -24.013197,
          105.690449,
          33.429859,
          15.472962,
          10.451526,
          42.590275,
          9.501785,
          -61.370976,
          -70.162651,
          1.659626,
          -78.183406,
          25.013607,
          30.802498,
          -12.885834,
          39.782334,
          -3.74922,
          40.489673,
          25.748151,
          179.414413,
          -59.523613,
          150.550812,
          -6.911806,
          2.213749,
          11.609444,
          -3.435973,
          -61.604171,
          43.356892,
          -53.125782,
          -2.585278,
          -1.023194,
          -5.345374,
          -42.604303,
          -15.310139,
          -9.696645,
          -62.067641,
          10.267895,
          21.824312,
          -36.587909,
          -90.230759,
          144.793731,
          -15.180413,
          -58.93018,
          34.308825,
          114.109497,
          73.504158,
          -86.241905,
          15.2,
          -72.285215,
          19.503304,
          113.921327,
          -8.24389,
          34.851612,
          -4.548056,
          78.96288,
          71.876519,
          43.679291,
          53.688046,
          -19.020835,
          12.56738,
          -2.13125,
          -77.297508,
          36.238414,
          138.252924,
          37.906193,
          74.766098,
          104.990963,
          -168.734039,
          43.872219,
          -62.782998,
          127.510093,
          127.766922,
          47.481766,
          -80.566956,
          66.923684,
          102.495496,
          35.862285,
          -60.978893,
          9.555373,
          80.771797,
          -9.429499,
          28.233608,
          23.881275,
          6.129583,
          24.603189,
          17.228331,
          -7.09262,
          7.412841,
          28.369885,
          19.37439,
          46.869107,
          171.184478,
          21.745275,
          -3.996166,
          95.956223,
          103.846656,
          113.543873,
          145.38469,
          -61.024174,
          -10.940835,
          -62.187366,
          14.375416,
          57.552152,
          73.22068,
          34.301525,
          -102.552784,
          101.975766,
          35.529562,
          18.49041,
          165.618042,
          8.081666,
          167.954712,
          8.675277,
          -85.207229,
          5.291266,
          8.468946,
          84.124008,
          166.931503,
          -169.867233,
          174.885971,
          55.923255,
          -80.782127,
          -75.015152,
          -149.406843,
          143.95555,
          121.774017,
          69.345116,
          19.145136,
          -56.27111,
          -127.439308,
          -66.590149,
          35.233154,
          -8.224454,
          134.58252,
          -58.443832,
          51.183884,
          55.536384,
          24.96676,
          21.005859,
          105.318756,
          29.873888,
          45.079162,
          160.156194,
          55.491977,
          30.217636,
          18.643501,
          103.819836,
          -10.030696,
          14.995463,
          23.670272,
          19.699024,
          -11.779889,
          12.457777,
          -14.452362,
          46.199616,
          -56.027783,
          6.613081,
          -88.89653,
          38.996815,
          31.465866,
          -71.797928,
          18.732207,
          69.348557,
          0.824782,
          100.992541,
          71.276093,
          -171.855881,
          125.727539,
          59.556278,
          9.537499,
          -175.198242,
          35.243322,
          -61.222503,
          177.64933,
          120.960515,
          34.888822,
          31.16558,
          32.290275,
          -95.712891,
          -55.765835,
          64.585262,
          12.453389,
          -61.287228,
          -66.58973,
          -64.639968,
          -64.896335,
          108.277199,
          166.959158,
          -177.156097,
          -172.104629,
          20.902977,
          48.516388,
          45.166244,
          22.937506,
          27.849332,
          29.154857
         ],
         "marker": {
          "color": "#636efa"
         },
         "mode": "markers",
         "name": "",
         "showlegend": false,
         "subplot": "mapbox",
         "type": "scattermapbox"
        }
       ],
       "layout": {
        "legend": {
         "tracegroupgap": 0
        },
        "mapbox": {
         "center": {
          "lat": 16.2531093647541,
          "lon": 13.294813586065574
         },
         "domain": {
          "x": [
           0,
           1
          ],
          "y": [
           0,
           1
          ]
         },
         "style": "carto-positron",
         "zoom": 1
        },
        "margin": {
         "b": 0,
         "l": 0,
         "r": 0,
         "t": 0
        },
        "template": {
         "data": {
          "bar": [
           {
            "error_x": {
             "color": "#2a3f5f"
            },
            "error_y": {
             "color": "#2a3f5f"
            },
            "marker": {
             "line": {
              "color": "#E5ECF6",
              "width": 0.5
             },
             "pattern": {
              "fillmode": "overlay",
              "size": 10,
              "solidity": 0.2
             }
            },
            "type": "bar"
           }
          ],
          "barpolar": [
           {
            "marker": {
             "line": {
              "color": "#E5ECF6",
              "width": 0.5
             },
             "pattern": {
              "fillmode": "overlay",
              "size": 10,
              "solidity": 0.2
             }
            },
            "type": "barpolar"
           }
          ],
          "carpet": [
           {
            "aaxis": {
             "endlinecolor": "#2a3f5f",
             "gridcolor": "white",
             "linecolor": "white",
             "minorgridcolor": "white",
             "startlinecolor": "#2a3f5f"
            },
            "baxis": {
             "endlinecolor": "#2a3f5f",
             "gridcolor": "white",
             "linecolor": "white",
             "minorgridcolor": "white",
             "startlinecolor": "#2a3f5f"
            },
            "type": "carpet"
           }
          ],
          "choropleth": [
           {
            "colorbar": {
             "outlinewidth": 0,
             "ticks": ""
            },
            "type": "choropleth"
           }
          ],
          "contour": [
           {
            "colorbar": {
             "outlinewidth": 0,
             "ticks": ""
            },
            "colorscale": [
             [
              0,
              "#0d0887"
             ],
             [
              0.1111111111111111,
              "#46039f"
             ],
             [
              0.2222222222222222,
              "#7201a8"
             ],
             [
              0.3333333333333333,
              "#9c179e"
             ],
             [
              0.4444444444444444,
              "#bd3786"
             ],
             [
              0.5555555555555556,
              "#d8576b"
             ],
             [
              0.6666666666666666,
              "#ed7953"
             ],
             [
              0.7777777777777778,
              "#fb9f3a"
             ],
             [
              0.8888888888888888,
              "#fdca26"
             ],
             [
              1,
              "#f0f921"
             ]
            ],
            "type": "contour"
           }
          ],
          "contourcarpet": [
           {
            "colorbar": {
             "outlinewidth": 0,
             "ticks": ""
            },
            "type": "contourcarpet"
           }
          ],
          "heatmap": [
           {
            "colorbar": {
             "outlinewidth": 0,
             "ticks": ""
            },
            "colorscale": [
             [
              0,
              "#0d0887"
             ],
             [
              0.1111111111111111,
              "#46039f"
             ],
             [
              0.2222222222222222,
              "#7201a8"
             ],
             [
              0.3333333333333333,
              "#9c179e"
             ],
             [
              0.4444444444444444,
              "#bd3786"
             ],
             [
              0.5555555555555556,
              "#d8576b"
             ],
             [
              0.6666666666666666,
              "#ed7953"
             ],
             [
              0.7777777777777778,
              "#fb9f3a"
             ],
             [
              0.8888888888888888,
              "#fdca26"
             ],
             [
              1,
              "#f0f921"
             ]
            ],
            "type": "heatmap"
           }
          ],
          "heatmapgl": [
           {
            "colorbar": {
             "outlinewidth": 0,
             "ticks": ""
            },
            "colorscale": [
             [
              0,
              "#0d0887"
             ],
             [
              0.1111111111111111,
              "#46039f"
             ],
             [
              0.2222222222222222,
              "#7201a8"
             ],
             [
              0.3333333333333333,
              "#9c179e"
             ],
             [
              0.4444444444444444,
              "#bd3786"
             ],
             [
              0.5555555555555556,
              "#d8576b"
             ],
             [
              0.6666666666666666,
              "#ed7953"
             ],
             [
              0.7777777777777778,
              "#fb9f3a"
             ],
             [
              0.8888888888888888,
              "#fdca26"
             ],
             [
              1,
              "#f0f921"
             ]
            ],
            "type": "heatmapgl"
           }
          ],
          "histogram": [
           {
            "marker": {
             "pattern": {
              "fillmode": "overlay",
              "size": 10,
              "solidity": 0.2
             }
            },
            "type": "histogram"
           }
          ],
          "histogram2d": [
           {
            "colorbar": {
             "outlinewidth": 0,
             "ticks": ""
            },
            "colorscale": [
             [
              0,
              "#0d0887"
             ],
             [
              0.1111111111111111,
              "#46039f"
             ],
             [
              0.2222222222222222,
              "#7201a8"
             ],
             [
              0.3333333333333333,
              "#9c179e"
             ],
             [
              0.4444444444444444,
              "#bd3786"
             ],
             [
              0.5555555555555556,
              "#d8576b"
             ],
             [
              0.6666666666666666,
              "#ed7953"
             ],
             [
              0.7777777777777778,
              "#fb9f3a"
             ],
             [
              0.8888888888888888,
              "#fdca26"
             ],
             [
              1,
              "#f0f921"
             ]
            ],
            "type": "histogram2d"
           }
          ],
          "histogram2dcontour": [
           {
            "colorbar": {
             "outlinewidth": 0,
             "ticks": ""
            },
            "colorscale": [
             [
              0,
              "#0d0887"
             ],
             [
              0.1111111111111111,
              "#46039f"
             ],
             [
              0.2222222222222222,
              "#7201a8"
             ],
             [
              0.3333333333333333,
              "#9c179e"
             ],
             [
              0.4444444444444444,
              "#bd3786"
             ],
             [
              0.5555555555555556,
              "#d8576b"
             ],
             [
              0.6666666666666666,
              "#ed7953"
             ],
             [
              0.7777777777777778,
              "#fb9f3a"
             ],
             [
              0.8888888888888888,
              "#fdca26"
             ],
             [
              1,
              "#f0f921"
             ]
            ],
            "type": "histogram2dcontour"
           }
          ],
          "mesh3d": [
           {
            "colorbar": {
             "outlinewidth": 0,
             "ticks": ""
            },
            "type": "mesh3d"
           }
          ],
          "parcoords": [
           {
            "line": {
             "colorbar": {
              "outlinewidth": 0,
              "ticks": ""
             }
            },
            "type": "parcoords"
           }
          ],
          "pie": [
           {
            "automargin": true,
            "type": "pie"
           }
          ],
          "scatter": [
           {
            "fillpattern": {
             "fillmode": "overlay",
             "size": 10,
             "solidity": 0.2
            },
            "type": "scatter"
           }
          ],
          "scatter3d": [
           {
            "line": {
             "colorbar": {
              "outlinewidth": 0,
              "ticks": ""
             }
            },
            "marker": {
             "colorbar": {
              "outlinewidth": 0,
              "ticks": ""
             }
            },
            "type": "scatter3d"
           }
          ],
          "scattercarpet": [
           {
            "marker": {
             "colorbar": {
              "outlinewidth": 0,
              "ticks": ""
             }
            },
            "type": "scattercarpet"
           }
          ],
          "scattergeo": [
           {
            "marker": {
             "colorbar": {
              "outlinewidth": 0,
              "ticks": ""
             }
            },
            "type": "scattergeo"
           }
          ],
          "scattergl": [
           {
            "marker": {
             "colorbar": {
              "outlinewidth": 0,
              "ticks": ""
             }
            },
            "type": "scattergl"
           }
          ],
          "scattermapbox": [
           {
            "marker": {
             "colorbar": {
              "outlinewidth": 0,
              "ticks": ""
             }
            },
            "type": "scattermapbox"
           }
          ],
          "scatterpolar": [
           {
            "marker": {
             "colorbar": {
              "outlinewidth": 0,
              "ticks": ""
             }
            },
            "type": "scatterpolar"
           }
          ],
          "scatterpolargl": [
           {
            "marker": {
             "colorbar": {
              "outlinewidth": 0,
              "ticks": ""
             }
            },
            "type": "scatterpolargl"
           }
          ],
          "scatterternary": [
           {
            "marker": {
             "colorbar": {
              "outlinewidth": 0,
              "ticks": ""
             }
            },
            "type": "scatterternary"
           }
          ],
          "surface": [
           {
            "colorbar": {
             "outlinewidth": 0,
             "ticks": ""
            },
            "colorscale": [
             [
              0,
              "#0d0887"
             ],
             [
              0.1111111111111111,
              "#46039f"
             ],
             [
              0.2222222222222222,
              "#7201a8"
             ],
             [
              0.3333333333333333,
              "#9c179e"
             ],
             [
              0.4444444444444444,
              "#bd3786"
             ],
             [
              0.5555555555555556,
              "#d8576b"
             ],
             [
              0.6666666666666666,
              "#ed7953"
             ],
             [
              0.7777777777777778,
              "#fb9f3a"
             ],
             [
              0.8888888888888888,
              "#fdca26"
             ],
             [
              1,
              "#f0f921"
             ]
            ],
            "type": "surface"
           }
          ],
          "table": [
           {
            "cells": {
             "fill": {
              "color": "#EBF0F8"
             },
             "line": {
              "color": "white"
             }
            },
            "header": {
             "fill": {
              "color": "#C8D4E3"
             },
             "line": {
              "color": "white"
             }
            },
            "type": "table"
           }
          ]
         },
         "layout": {
          "annotationdefaults": {
           "arrowcolor": "#2a3f5f",
           "arrowhead": 0,
           "arrowwidth": 1
          },
          "autotypenumbers": "strict",
          "coloraxis": {
           "colorbar": {
            "outlinewidth": 0,
            "ticks": ""
           }
          },
          "colorscale": {
           "diverging": [
            [
             0,
             "#8e0152"
            ],
            [
             0.1,
             "#c51b7d"
            ],
            [
             0.2,
             "#de77ae"
            ],
            [
             0.3,
             "#f1b6da"
            ],
            [
             0.4,
             "#fde0ef"
            ],
            [
             0.5,
             "#f7f7f7"
            ],
            [
             0.6,
             "#e6f5d0"
            ],
            [
             0.7,
             "#b8e186"
            ],
            [
             0.8,
             "#7fbc41"
            ],
            [
             0.9,
             "#4d9221"
            ],
            [
             1,
             "#276419"
            ]
           ],
           "sequential": [
            [
             0,
             "#0d0887"
            ],
            [
             0.1111111111111111,
             "#46039f"
            ],
            [
             0.2222222222222222,
             "#7201a8"
            ],
            [
             0.3333333333333333,
             "#9c179e"
            ],
            [
             0.4444444444444444,
             "#bd3786"
            ],
            [
             0.5555555555555556,
             "#d8576b"
            ],
            [
             0.6666666666666666,
             "#ed7953"
            ],
            [
             0.7777777777777778,
             "#fb9f3a"
            ],
            [
             0.8888888888888888,
             "#fdca26"
            ],
            [
             1,
             "#f0f921"
            ]
           ],
           "sequentialminus": [
            [
             0,
             "#0d0887"
            ],
            [
             0.1111111111111111,
             "#46039f"
            ],
            [
             0.2222222222222222,
             "#7201a8"
            ],
            [
             0.3333333333333333,
             "#9c179e"
            ],
            [
             0.4444444444444444,
             "#bd3786"
            ],
            [
             0.5555555555555556,
             "#d8576b"
            ],
            [
             0.6666666666666666,
             "#ed7953"
            ],
            [
             0.7777777777777778,
             "#fb9f3a"
            ],
            [
             0.8888888888888888,
             "#fdca26"
            ],
            [
             1,
             "#f0f921"
            ]
           ]
          },
          "colorway": [
           "#636efa",
           "#EF553B",
           "#00cc96",
           "#ab63fa",
           "#FFA15A",
           "#19d3f3",
           "#FF6692",
           "#B6E880",
           "#FF97FF",
           "#FECB52"
          ],
          "font": {
           "color": "#2a3f5f"
          },
          "geo": {
           "bgcolor": "white",
           "lakecolor": "white",
           "landcolor": "#E5ECF6",
           "showlakes": true,
           "showland": true,
           "subunitcolor": "white"
          },
          "hoverlabel": {
           "align": "left"
          },
          "hovermode": "closest",
          "mapbox": {
           "style": "light"
          },
          "paper_bgcolor": "white",
          "plot_bgcolor": "#E5ECF6",
          "polar": {
           "angularaxis": {
            "gridcolor": "white",
            "linecolor": "white",
            "ticks": ""
           },
           "bgcolor": "#E5ECF6",
           "radialaxis": {
            "gridcolor": "white",
            "linecolor": "white",
            "ticks": ""
           }
          },
          "scene": {
           "xaxis": {
            "backgroundcolor": "#E5ECF6",
            "gridcolor": "white",
            "gridwidth": 2,
            "linecolor": "white",
            "showbackground": true,
            "ticks": "",
            "zerolinecolor": "white"
           },
           "yaxis": {
            "backgroundcolor": "#E5ECF6",
            "gridcolor": "white",
            "gridwidth": 2,
            "linecolor": "white",
            "showbackground": true,
            "ticks": "",
            "zerolinecolor": "white"
           },
           "zaxis": {
            "backgroundcolor": "#E5ECF6",
            "gridcolor": "white",
            "gridwidth": 2,
            "linecolor": "white",
            "showbackground": true,
            "ticks": "",
            "zerolinecolor": "white"
           }
          },
          "shapedefaults": {
           "line": {
            "color": "#2a3f5f"
           }
          },
          "ternary": {
           "aaxis": {
            "gridcolor": "white",
            "linecolor": "white",
            "ticks": ""
           },
           "baxis": {
            "gridcolor": "white",
            "linecolor": "white",
            "ticks": ""
           },
           "bgcolor": "#E5ECF6",
           "caxis": {
            "gridcolor": "white",
            "linecolor": "white",
            "ticks": ""
           }
          },
          "title": {
           "x": 0.05
          },
          "xaxis": {
           "automargin": true,
           "gridcolor": "white",
           "linecolor": "white",
           "ticks": "",
           "title": {
            "standoff": 15
           },
           "zerolinecolor": "white",
           "zerolinewidth": 2
          },
          "yaxis": {
           "automargin": true,
           "gridcolor": "white",
           "linecolor": "white",
           "ticks": "",
           "title": {
            "standoff": 15
           },
           "zerolinecolor": "white",
           "zerolinewidth": 2
          }
         }
        }
       }
      }
     },
     "metadata": {},
     "output_type": "display_data"
    }
   ],
   "source": [
    "fig = px.scatter_mapbox(data, \n",
    "                        lat='latitude', \n",
    "                        lon='longitude', \n",
    "                        hover_name='name', \n",
    "                        mapbox_style='carto-positron', \n",
    "                        zoom=1)\n",
    "fig.update_layout(margin={\"r\":0,\"t\":0,\"l\":0,\"b\":0})\n",
    "fig.show()"
   ]
  },
  {
   "cell_type": "markdown",
   "metadata": {},
   "source": [
    "# Data Preprocessing"
   ]
  },
  {
   "cell_type": "code",
   "execution_count": 223,
   "metadata": {},
   "outputs": [],
   "source": [
    "data_train = data.copy()"
   ]
  },
  {
   "cell_type": "code",
   "execution_count": 224,
   "metadata": {},
   "outputs": [],
   "source": [
    "scaler = MinMaxScaler()\n",
    "data_scaled = scaler.fit_transform(data_train[['latitude', 'longitude']])"
   ]
  },
  {
   "cell_type": "code",
   "execution_count": 225,
   "metadata": {},
   "outputs": [
    {
     "data": {
      "text/plain": [
       "array([[0.77090111, 0.50132483],\n",
       "       [0.64575977, 0.64784919],\n",
       "       [0.71457338, 0.68672547],\n",
       "       [0.60411665, 0.32352555],\n",
       "       [0.61170633, 0.3199577 ],\n",
       "       [0.76178546, 0.55339525],\n",
       "       [0.75468991, 0.62314263],\n",
       "       [0.57247665, 0.30315466],\n",
       "       [0.41915159, 0.5469605 ],\n",
       "       [0.        , 0.49663307],\n",
       "       [0.24105872, 0.31842068],\n",
       "       [0.39907182, 0.01969843],\n",
       "       [0.80342622, 0.53763888],\n",
       "       [0.32706203, 0.8720049 ],\n",
       "       [0.57440742, 0.30060747],\n",
       "       [0.75517422, 0.63026251],\n",
       "       [0.77986446, 0.54641415],\n",
       "       [0.57881028, 0.32984472],\n",
       "       [0.6474673 , 0.75023711],\n",
       "       [0.82297836, 0.50936919],\n",
       "       [0.57255684, 0.4924538 ],\n",
       "       [0.77212907, 0.56830815],\n",
       "       [0.66216202, 0.63884663],\n",
       "       [0.47039113, 0.58074063],\n",
       "       [0.55337782, 0.50332803],\n",
       "       [0.70398648, 0.3152216 ],\n",
       "       [0.52214568, 0.81858639],\n",
       "       [0.38585768, 0.31849926],\n",
       "       [0.39930721, 0.35120913],\n",
       "       [0.65629744, 0.27977585],\n",
       "       [0.67252655, 0.75045381],\n",
       "       [0.13630334, 0.50640557],\n",
       "       [0.34634106, 0.56606185],\n",
       "       [0.84395888, 0.57522841],\n",
       "       [0.60496126, 0.24864212],\n",
       "       [0.85979976, 0.19858436],\n",
       "       [0.41285941, 0.76850734],\n",
       "       [0.46603735, 0.55785533],\n",
       "       [0.53573058, 0.55555784],\n",
       "       [0.4909732 , 0.54122186],\n",
       "       [0.79885801, 0.51990729],\n",
       "       [0.54180944, 0.48127653],\n",
       "       [0.35348573, 0.0487377 ],\n",
       "       [0.25899634, 0.29619143],\n",
       "       [0.54069516, 0.53148203],\n",
       "       [0.72715514, 0.78904869],\n",
       "       [0.5223786 , 0.28846683],\n",
       "       [0.55626534, 0.26194726],\n",
       "       [0.63331041, 0.27869644],\n",
       "       [0.59718797, 0.42948841],\n",
       "       [0.42409363, 0.79324156],\n",
       "       [0.72234345, 0.59058714],\n",
       "       [0.81848638, 0.54022712],\n",
       "       [0.82730941, 0.52614453],\n",
       "       [0.56985277, 0.61627747],\n",
       "       [0.86067378, 0.52348099],\n",
       "       [0.59334592, 0.32471872],\n",
       "       [0.61507756, 0.30006252],\n",
       "       [0.67592778, 0.50148769],\n",
       "       [0.48048125, 0.27756836],\n",
       "       [0.87593086, 0.5669838 ],\n",
       "       [0.66798736, 0.58321872],\n",
       "       [0.65093927, 0.46069503],\n",
       "       [0.59180398, 0.60840262],\n",
       "       [0.75727208, 0.48631862],\n",
       "       [0.55231312, 0.61038634],\n",
       "       [0.8977158 , 0.56904383],\n",
       "       [0.38397266, 1.        ],\n",
       "       [0.15349488, 0.32989964],\n",
       "       [0.54106054, 0.91905219],\n",
       "       [0.89750982, 0.47744916],\n",
       "       [0.79499327, 0.50304173],\n",
       "       [0.48720585, 0.5293919 ],\n",
       "       [0.85487638, 0.48719712],\n",
       "       [0.5727168 , 0.32406473],\n",
       "       [0.76939044, 0.61842744],\n",
       "       [0.51821001, 0.34784232],\n",
       "       [0.81618409, 0.48958289],\n",
       "       [0.54446995, 0.49396374],\n",
       "       [0.72896189, 0.48184221],\n",
       "       [0.96173761, 0.37734975],\n",
       "       [0.58044174, 0.45389608],\n",
       "       [0.55755241, 0.4696391 ],\n",
       "       [0.60369228, 0.32276493],\n",
       "       [0.50326879, 0.52562954],\n",
       "       [0.74817904, 0.55803944],\n",
       "       [0.13626159, 0.3942227 ],\n",
       "       [0.59575731, 0.24378162],\n",
       "       [0.58044909, 0.90290649],\n",
       "       [0.56971279, 0.4542599 ],\n",
       "       [0.52427349, 0.33156392],\n",
       "       [0.69766005, 0.59305219],\n",
       "       [0.63903453, 0.81685273],\n",
       "       [0.1450818 , 0.70297528],\n",
       "       [0.59193889, 0.25496834],\n",
       "       [0.78761367, 0.5394616 ],\n",
       "       [0.6166187 , 0.2941098 ],\n",
       "       [0.80111126, 0.55153019],\n",
       "       [0.48730018, 0.81632501],\n",
       "       [0.8420159 , 0.47371334],\n",
       "       [0.69564031, 0.59457443],\n",
       "       [0.84740315, 0.48407829],\n",
       "       [0.62723682, 0.71828424],\n",
       "       [0.45095363, 0.69841058],\n",
       "       [0.70988819, 0.61933161],\n",
       "       [0.70468361, 0.64740111],\n",
       "       [0.91760356, 0.44348946],\n",
       "       [0.76648825, 0.53207843],\n",
       "       [0.81453982, 0.4908562 ],\n",
       "       [0.61098009, 0.28005285],\n",
       "       [0.69262413, 0.59846371],\n",
       "       [0.72940091, 0.88456283],\n",
       "       [0.49231126, 0.60314099],\n",
       "       [0.76211953, 0.70651439],\n",
       "       [0.57469909, 0.79127985],\n",
       "       [0.4704084 , 0.02361961],\n",
       "       [0.41475179, 0.61987268],\n",
       "       [0.60606035, 0.32075872],\n",
       "       [0.7564618 , 0.85443463],\n",
       "       [0.72745681, 0.8551549 ],\n",
       "       [0.68428993, 0.62999563],\n",
       "       [0.62016756, 0.27088371],\n",
       "       [0.80672025, 0.68452038],\n",
       "       [0.62241096, 0.78428133],\n",
       "       [0.71402111, 0.59740886],\n",
       "       [0.5834931 , 0.32581832],\n",
       "       [0.8011342 , 0.52363127],\n",
       "       [0.54398912, 0.72335734],\n",
       "       [0.5345326 , 0.47038831],\n",
       "       [0.2986886 , 0.57601428],\n",
       "       [0.85351115, 0.56380818],\n",
       "       [0.81847186, 0.51402366],\n",
       "       [0.86470321, 0.56583279],\n",
       "       [0.66481041, 0.54515004],\n",
       "       [0.70052008, 0.47694207],\n",
       "       [0.7787808 , 0.51762255],\n",
       "       [0.80274169, 0.57639647],\n",
       "       [0.77196412, 0.55116865],\n",
       "       [0.36964878, 0.62827743],\n",
       "       [0.53913599, 0.97691919],\n",
       "       [0.7647651 , 0.55781778],\n",
       "       [0.60745343, 0.48562606],\n",
       "       [0.63587714, 0.76594197],\n",
       "       [0.79914798, 0.78807065],\n",
       "       [0.63774083, 0.81526644],\n",
       "       [0.6058837 , 0.90456383],\n",
       "       [0.58828409, 0.32569133],\n",
       "       [0.62994751, 0.46614977],\n",
       "       [0.60203348, 0.32242916],\n",
       "       [0.72765143, 0.53714906],\n",
       "       [0.35929924, 0.65823797],\n",
       "       [0.5134254 , 0.70218027],\n",
       "       [0.40572518, 0.59303172],\n",
       "       [0.64713686, 0.20922457],\n",
       "       [0.52002014, 0.78282375],\n",
       "       [0.37031141, 0.59647574],\n",
       "       [0.3422236 , 0.54868953],\n",
       "       [0.35566126, 0.96130815],\n",
       "       [0.60769621, 0.51949827],\n",
       "       [0.30241331, 0.96786133],\n",
       "       [0.55190082, 0.52116305],\n",
       "       [0.57666067, 0.25787009],\n",
       "       [0.83363737, 0.51167261],\n",
       "       [0.8882129 , 0.52058439],\n",
       "       [0.67829009, 0.73275859],\n",
       "       [0.48904422, 0.96499175],\n",
       "       [0.36776731, 0.02044158],\n",
       "       [0.22479965, 0.98730001],\n",
       "       [0.63325038, 0.65366974],\n",
       "       [0.5483406 , 0.27028026],\n",
       "       [0.43232348, 0.28645371],\n",
       "       [0.37676379, 0.07782263],\n",
       "       [0.45113819, 0.90055582],\n",
       "       [0.57675428, 0.83834783],\n",
       "       [0.69125085, 0.69131127],\n",
       "       [0.83224216, 0.55052571],\n",
       "       [0.79966786, 0.33902127],\n",
       "       [0.33079741, 0.13943046],\n",
       "       [0.61170816, 0.31008158],\n",
       "       [0.70157018, 0.59564447],\n",
       "       [0.75031028, 0.47376785],\n",
       "       [0.54164577, 0.87426921],\n",
       "       [0.33905051, 0.33292788],\n",
       "       [0.65839519, 0.6403782 ],\n",
       "       [0.35428148, 0.65258476],\n",
       "       [0.79313157, 0.56685242],\n",
       "       [0.78052305, 0.5557441 ],\n",
       "       [0.89509742, 0.79219914],\n",
       "       [0.47976766, 0.58061443],\n",
       "       [0.64878237, 0.62325754],\n",
       "       [0.42934095, 0.94599043],\n",
       "       [0.46184087, 0.65246022],\n",
       "       [0.57664359, 0.58157847],\n",
       "       [0.88596256, 0.54911888],\n",
       "       [0.50131388, 0.78799543],\n",
       "       [0.33446314, 0.46870225],\n",
       "       [0.79449331, 0.53888797],\n",
       "       [1.        , 0.56321643],\n",
       "       [0.81097047, 0.55207909],\n",
       "       [0.5478339 , 0.46379665],\n",
       "       [0.78003771, 0.53177105],\n",
       "       [0.58734088, 0.45630171],\n",
       "       [0.52618268, 0.62639985],\n",
       "       [0.51811457, 0.33970368],\n",
       "       [0.49368504, 0.51537963],\n",
       "       [0.58273881, 0.24752346],\n",
       "       [0.72022089, 0.60619963],\n",
       "       [0.31889405, 0.58507913],\n",
       "       [0.63443779, 0.2954764 ],\n",
       "       [0.59360224, 0.54936765],\n",
       "       [0.16995961, 0.69132092],\n",
       "       [0.54887437, 0.49914638],\n",
       "       [0.59632379, 0.7800663 ],\n",
       "       [0.74678396, 0.69672669],\n",
       "       [0.43378027, 0.01486443],\n",
       "       [0.43438984, 0.84943546],\n",
       "       [0.74749523, 0.66385853],\n",
       "       [0.71423181, 0.52358115],\n",
       "       [0.35386366, 0.00549079],\n",
       "       [0.74745613, 0.59567298],\n",
       "       [0.56243588, 0.32513512],\n",
       "       [0.44593846, 0.99504983],\n",
       "       [0.64755117, 0.83606637],\n",
       "       [0.45078457, 0.59467879],\n",
       "       [0.80907528, 0.58423698],\n",
       "       [0.50145295, 0.58739118],\n",
       "       [0.73519534, 0.22840702],\n",
       "       [0.2796264 , 0.34043831],\n",
       "       [0.76325243, 0.67796229],\n",
       "       [0.76669097, 0.53175874],\n",
       "       [0.57743871, 0.32495359],\n",
       "       [0.53450443, 0.31008276],\n",
       "       [0.61301611, 0.31555085],\n",
       "       [0.61246031, 0.31483187],\n",
       "       [0.58446742, 0.80049608],\n",
       "       [0.39183556, 0.96506931],\n",
       "       [0.4023585 , 0.        ],\n",
       "       [0.40242213, 0.01416681],\n",
       "       [0.77127015, 0.55545556],\n",
       "       [0.59424725, 0.63289722],\n",
       "       [0.40851835, 0.62350176],\n",
       "       [0.29247482, 0.56116139],\n",
       "       [0.40651319, 0.57493658],\n",
       "       [0.36802258, 0.57859792]])"
      ]
     },
     "execution_count": 225,
     "metadata": {},
     "output_type": "execute_result"
    }
   ],
   "source": [
    "data_scaled"
   ]
  },
  {
   "cell_type": "markdown",
   "metadata": {},
   "source": [
    "# 2. Clustering"
   ]
  },
  {
   "cell_type": "markdown",
   "metadata": {},
   "source": [
    "## 2.1 K-means"
   ]
  },
  {
   "cell_type": "code",
   "execution_count": 226,
   "metadata": {},
   "outputs": [],
   "source": [
    "model1 = KMeans(n_clusters=4, random_state=10)"
   ]
  },
  {
   "cell_type": "code",
   "execution_count": 227,
   "metadata": {},
   "outputs": [],
   "source": [
    "data_train['kmeans_group'] = model1.fit_predict(data_scaled)"
   ]
  },
  {
   "cell_type": "code",
   "execution_count": 228,
   "metadata": {},
   "outputs": [
    {
     "data": {
      "application/vnd.plotly.v1+json": {
       "config": {
        "plotlyServerURL": "https://plot.ly"
       },
       "data": [
        {
         "hovertemplate": "<b>%{hovertext}</b><br><br>latitude=%{lat}<br>longitude=%{lon}<br>kmeans_group=%{marker.color}<extra></extra>",
         "hovertext": [
          "Andorra",
          "United Arab Emirates",
          "Afghanistan",
          "Antigua and Barbuda",
          "Anguilla",
          "Albania",
          "Armenia",
          "Netherlands Antilles",
          "Angola",
          "Antarctica",
          "Argentina",
          "American Samoa",
          "Austria",
          "Australia",
          "Aruba",
          "Azerbaijan",
          "Bosnia and Herzegovina",
          "Barbados",
          "Bangladesh",
          "Belgium",
          "Burkina Faso",
          "Bulgaria",
          "Bahrain",
          "Burundi",
          "Benin",
          "Bermuda",
          "Brunei",
          "Bolivia",
          "Brazil",
          "Bahamas",
          "Bhutan",
          "Bouvet Island",
          "Botswana",
          "Belarus",
          "Belize",
          "Canada",
          "Cocos [Keeling] Islands",
          "Congo [DRC]",
          "Central African Republic",
          "Congo [Republic]",
          "Switzerland",
          "Côte d'Ivoire",
          "Cook Islands",
          "Chile",
          "Cameroon",
          "China",
          "Colombia",
          "Costa Rica",
          "Cuba",
          "Cape Verde",
          "Christmas Island",
          "Cyprus",
          "Czech Republic",
          "Germany",
          "Djibouti",
          "Denmark",
          "Dominica",
          "Dominican Republic",
          "Algeria",
          "Ecuador",
          "Estonia",
          "Egypt",
          "Western Sahara",
          "Eritrea",
          "Spain",
          "Ethiopia",
          "Finland",
          "Fiji",
          "Falkland Islands [Islas Malvinas]",
          "Micronesia",
          "Faroe Islands",
          "France",
          "Gabon",
          "United Kingdom",
          "Grenada",
          "Georgia",
          "French Guiana",
          "Guernsey",
          "Ghana",
          "Gibraltar",
          "Greenland",
          "Gambia",
          "Guinea",
          "Guadeloupe",
          "Equatorial Guinea",
          "Greece",
          "South Georgia and the South Sandwich Islands",
          "Guatemala",
          "Guam",
          "Guinea-Bissau",
          "Guyana",
          "Gaza Strip",
          "Hong Kong",
          "Heard Island and McDonald Islands",
          "Honduras",
          "Croatia",
          "Haiti",
          "Hungary",
          "Indonesia",
          "Ireland",
          "Israel",
          "Isle of Man",
          "India",
          "British Indian Ocean Territory",
          "Iraq",
          "Iran",
          "Iceland",
          "Italy",
          "Jersey",
          "Jamaica",
          "Jordan",
          "Japan",
          "Kenya",
          "Kyrgyzstan",
          "Cambodia",
          "Kiribati",
          "Comoros",
          "Saint Kitts and Nevis",
          "North Korea",
          "South Korea",
          "Kuwait",
          "Cayman Islands",
          "Kazakhstan",
          "Laos",
          "Lebanon",
          "Saint Lucia",
          "Liechtenstein",
          "Sri Lanka",
          "Liberia",
          "Lesotho",
          "Lithuania",
          "Luxembourg",
          "Latvia",
          "Libya",
          "Morocco",
          "Monaco",
          "Moldova",
          "Montenegro",
          "Madagascar",
          "Marshall Islands",
          "Macedonia [FYROM]",
          "Mali",
          "Myanmar [Burma]",
          "Mongolia",
          "Macau",
          "Northern Mariana Islands",
          "Martinique",
          "Mauritania",
          "Montserrat",
          "Malta",
          "Mauritius",
          "Maldives",
          "Malawi",
          "Mexico",
          "Malaysia",
          "Mozambique",
          "Namibia",
          "New Caledonia",
          "Niger",
          "Norfolk Island",
          "Nigeria",
          "Nicaragua",
          "Netherlands",
          "Norway",
          "Nepal",
          "Nauru",
          "Niue",
          "New Zealand",
          "Oman",
          "Panama",
          "Peru",
          "French Polynesia",
          "Papua New Guinea",
          "Philippines",
          "Pakistan",
          "Poland",
          "Saint Pierre and Miquelon",
          "Pitcairn Islands",
          "Puerto Rico",
          "Palestinian Territories",
          "Portugal",
          "Palau",
          "Paraguay",
          "Qatar",
          "Réunion",
          "Romania",
          "Serbia",
          "Russia",
          "Rwanda",
          "Saudi Arabia",
          "Solomon Islands",
          "Seychelles",
          "Sudan",
          "Sweden",
          "Singapore",
          "Saint Helena",
          "Slovenia",
          "Svalbard and Jan Mayen",
          "Slovakia",
          "Sierra Leone",
          "San Marino",
          "Senegal",
          "Somalia",
          "Suriname",
          "São Tomé and Príncipe",
          "El Salvador",
          "Syria",
          "Swaziland",
          "Turks and Caicos Islands",
          "Chad",
          "French Southern Territories",
          "Togo",
          "Thailand",
          "Tajikistan",
          "Tokelau",
          "Timor-Leste",
          "Turkmenistan",
          "Tunisia",
          "Tonga",
          "Turkey",
          "Trinidad and Tobago",
          "Tuvalu",
          "Taiwan",
          "Tanzania",
          "Ukraine",
          "Uganda",
          "United States",
          "Uruguay",
          "Uzbekistan",
          "Vatican City",
          "Saint Vincent and the Grenadines",
          "Venezuela",
          "British Virgin Islands",
          "U.S. Virgin Islands",
          "Vietnam",
          "Vanuatu",
          "Wallis and Futuna",
          "Samoa",
          "Kosovo",
          "Yemen",
          "Mayotte",
          "South Africa",
          "Zambia",
          "Zimbabwe"
         ],
         "lat": [
          42.546245,
          23.424076,
          33.93911,
          17.060816,
          18.220554,
          41.153332,
          40.069099,
          12.226079,
          -11.202692,
          -75.250973,
          -38.416097,
          -14.270972,
          47.516231,
          -25.274398,
          12.52111,
          40.143105,
          43.915886,
          13.193887,
          23.684994,
          50.503887,
          12.238333,
          42.733883,
          25.930414,
          -3.373056,
          9.30769,
          32.321384,
          4.535277,
          -16.290154,
          -14.235004,
          25.03428,
          27.514162,
          -54.423199,
          -22.328474,
          53.709807,
          17.189877,
          56.130366,
          -12.164165,
          -4.038333,
          6.611111,
          -0.228021,
          46.818188,
          7.539989,
          -21.236736,
          -35.675147,
          7.369722,
          35.86166,
          4.570868,
          9.748917,
          21.521757,
          16.002082,
          -10.447525,
          35.126413,
          49.817492,
          51.165691,
          11.825138,
          56.26392,
          15.414999,
          18.735693,
          28.033886,
          -1.831239,
          58.595272,
          26.820553,
          24.215527,
          15.179384,
          40.463667,
          9.145,
          61.92411,
          -16.578193,
          -51.796253,
          7.425554,
          61.892635,
          46.227638,
          -0.803689,
          55.378051,
          12.262776,
          42.315407,
          3.933889,
          49.465691,
          7.946527,
          36.137741,
          71.706936,
          13.443182,
          9.945587,
          16.995971,
          1.650801,
          39.074208,
          -54.429579,
          15.783471,
          13.444304,
          11.803749,
          4.860416,
          31.354676,
          22.396428,
          -53.08181,
          15.199999,
          45.1,
          18.971187,
          47.162494,
          -0.789275,
          53.41291,
          31.046051,
          54.236107,
          20.593684,
          -6.343194,
          33.223191,
          32.427908,
          64.963051,
          41.87194,
          49.214439,
          18.109581,
          30.585164,
          36.204824,
          -0.023559,
          41.20438,
          12.565679,
          -3.370417,
          -11.875001,
          17.357822,
          40.339852,
          35.907757,
          29.31166,
          19.513469,
          48.019573,
          19.85627,
          33.854721,
          13.909444,
          47.166,
          7.873054,
          6.428055,
          -29.609988,
          55.169438,
          49.815273,
          56.879635,
          26.3351,
          31.791702,
          43.750298,
          47.411631,
          42.708678,
          -18.766947,
          7.131474,
          41.608635,
          17.570692,
          21.913965,
          46.862496,
          22.198745,
          17.33083,
          14.641528,
          21.00789,
          16.742498,
          35.937496,
          -20.348404,
          3.202778,
          -13.254308,
          23.634501,
          4.210484,
          -18.665695,
          -22.95764,
          -20.904305,
          17.607789,
          -29.040835,
          9.081999,
          12.865416,
          52.132633,
          60.472024,
          28.394857,
          -0.522778,
          -19.054445,
          -40.900557,
          21.512583,
          8.537981,
          -9.189967,
          -17.679742,
          -6.314993,
          12.879721,
          30.375321,
          51.919438,
          46.941936,
          -24.703615,
          18.220833,
          31.952162,
          39.399872,
          7.51498,
          -23.442503,
          25.354826,
          -21.115141,
          45.943161,
          44.016521,
          61.52401,
          -1.940278,
          23.885942,
          -9.64571,
          -4.679574,
          12.862807,
          60.128161,
          1.352083,
          -24.143474,
          46.151241,
          77.553604,
          48.669026,
          8.460555,
          43.94236,
          14.497401,
          5.152149,
          3.919305,
          0.18636,
          13.794185,
          34.802075,
          -26.522503,
          21.694025,
          15.454166,
          -49.280366,
          8.619543,
          15.870032,
          38.861034,
          -8.967363,
          -8.874217,
          38.969719,
          33.886917,
          -21.178986,
          38.963745,
          10.691803,
          -7.109535,
          23.69781,
          -6.369028,
          48.379433,
          1.373333,
          37.09024,
          -32.522779,
          41.377491,
          41.902916,
          12.984305,
          6.42375,
          18.420695,
          18.335765,
          14.058324,
          -15.376706,
          -13.768752,
          -13.759029,
          42.602636,
          15.552727,
          -12.8275,
          -30.559482,
          -13.133897,
          -19.015438
         ],
         "legendgroup": "",
         "lon": [
          1.601554,
          53.847818,
          67.709953,
          -61.796428,
          -63.068615,
          20.168331,
          45.038189,
          -69.060087,
          17.873887,
          -0.071389,
          -63.616672,
          -170.132217,
          14.550072,
          133.775136,
          -69.968338,
          47.576927,
          17.679076,
          -59.543198,
          90.356331,
          4.469936,
          -1.561593,
          25.48583,
          50.637772,
          29.918886,
          2.315834,
          -64.75737,
          114.727669,
          -63.588653,
          -51.92528,
          -77.39628,
          90.433601,
          3.413194,
          24.684866,
          27.953389,
          -88.49765,
          -106.346771,
          96.870956,
          21.758664,
          20.939444,
          15.827659,
          8.227512,
          -5.54708,
          -159.777671,
          -71.542969,
          12.354722,
          104.195397,
          -74.297333,
          -83.753428,
          -77.781167,
          -24.013197,
          105.690449,
          33.429859,
          15.472962,
          10.451526,
          42.590275,
          9.501785,
          -61.370976,
          -70.162651,
          1.659626,
          -78.183406,
          25.013607,
          30.802498,
          -12.885834,
          39.782334,
          -3.74922,
          40.489673,
          25.748151,
          179.414413,
          -59.523613,
          150.550812,
          -6.911806,
          2.213749,
          11.609444,
          -3.435973,
          -61.604171,
          43.356892,
          -53.125782,
          -2.585278,
          -1.023194,
          -5.345374,
          -42.604303,
          -15.310139,
          -9.696645,
          -62.067641,
          10.267895,
          21.824312,
          -36.587909,
          -90.230759,
          144.793731,
          -15.180413,
          -58.93018,
          34.308825,
          114.109497,
          73.504158,
          -86.241905,
          15.2,
          -72.285215,
          19.503304,
          113.921327,
          -8.24389,
          34.851612,
          -4.548056,
          78.96288,
          71.876519,
          43.679291,
          53.688046,
          -19.020835,
          12.56738,
          -2.13125,
          -77.297508,
          36.238414,
          138.252924,
          37.906193,
          74.766098,
          104.990963,
          -168.734039,
          43.872219,
          -62.782998,
          127.510093,
          127.766922,
          47.481766,
          -80.566956,
          66.923684,
          102.495496,
          35.862285,
          -60.978893,
          9.555373,
          80.771797,
          -9.429499,
          28.233608,
          23.881275,
          6.129583,
          24.603189,
          17.228331,
          -7.09262,
          7.412841,
          28.369885,
          19.37439,
          46.869107,
          171.184478,
          21.745275,
          -3.996166,
          95.956223,
          103.846656,
          113.543873,
          145.38469,
          -61.024174,
          -10.940835,
          -62.187366,
          14.375416,
          57.552152,
          73.22068,
          34.301525,
          -102.552784,
          101.975766,
          35.529562,
          18.49041,
          165.618042,
          8.081666,
          167.954712,
          8.675277,
          -85.207229,
          5.291266,
          8.468946,
          84.124008,
          166.931503,
          -169.867233,
          174.885971,
          55.923255,
          -80.782127,
          -75.015152,
          -149.406843,
          143.95555,
          121.774017,
          69.345116,
          19.145136,
          -56.27111,
          -127.439308,
          -66.590149,
          35.233154,
          -8.224454,
          134.58252,
          -58.443832,
          51.183884,
          55.536384,
          24.96676,
          21.005859,
          105.318756,
          29.873888,
          45.079162,
          160.156194,
          55.491977,
          30.217636,
          18.643501,
          103.819836,
          -10.030696,
          14.995463,
          23.670272,
          19.699024,
          -11.779889,
          12.457777,
          -14.452362,
          46.199616,
          -56.027783,
          6.613081,
          -88.89653,
          38.996815,
          31.465866,
          -71.797928,
          18.732207,
          69.348557,
          0.824782,
          100.992541,
          71.276093,
          -171.855881,
          125.727539,
          59.556278,
          9.537499,
          -175.198242,
          35.243322,
          -61.222503,
          177.64933,
          120.960515,
          34.888822,
          31.16558,
          32.290275,
          -95.712891,
          -55.765835,
          64.585262,
          12.453389,
          -61.287228,
          -66.58973,
          -64.639968,
          -64.896335,
          108.277199,
          166.959158,
          -177.156097,
          -172.104629,
          20.902977,
          48.516388,
          45.166244,
          22.937506,
          27.849332,
          29.154857
         ],
         "marker": {
          "color": [
           1,
           1,
           1,
           3,
           3,
           1,
           1,
           3,
           0,
           0,
           3,
           3,
           1,
           2,
           3,
           1,
           1,
           3,
           2,
           1,
           0,
           1,
           1,
           0,
           0,
           3,
           2,
           3,
           3,
           3,
           2,
           0,
           0,
           1,
           3,
           3,
           2,
           0,
           0,
           0,
           1,
           0,
           3,
           3,
           0,
           2,
           3,
           3,
           3,
           3,
           2,
           1,
           1,
           1,
           0,
           1,
           3,
           3,
           1,
           3,
           1,
           1,
           1,
           0,
           1,
           0,
           1,
           2,
           0,
           2,
           1,
           1,
           0,
           1,
           3,
           1,
           3,
           1,
           0,
           1,
           1,
           0,
           0,
           3,
           0,
           1,
           0,
           3,
           2,
           0,
           3,
           1,
           2,
           0,
           3,
           1,
           3,
           1,
           2,
           1,
           1,
           1,
           2,
           0,
           1,
           1,
           1,
           1,
           1,
           3,
           1,
           2,
           0,
           1,
           2,
           3,
           0,
           3,
           2,
           2,
           1,
           3,
           1,
           2,
           1,
           3,
           1,
           2,
           0,
           0,
           1,
           1,
           1,
           1,
           1,
           1,
           1,
           1,
           0,
           2,
           1,
           0,
           2,
           1,
           2,
           2,
           3,
           1,
           3,
           1,
           0,
           2,
           0,
           3,
           2,
           0,
           0,
           2,
           0,
           2,
           0,
           3,
           1,
           1,
           2,
           2,
           3,
           2,
           1,
           3,
           3,
           3,
           2,
           2,
           1,
           1,
           1,
           3,
           3,
           1,
           1,
           2,
           3,
           1,
           0,
           1,
           1,
           1,
           0,
           1,
           2,
           0,
           0,
           1,
           2,
           0,
           1,
           1,
           1,
           0,
           1,
           0,
           0,
           3,
           0,
           3,
           1,
           0,
           3,
           0,
           0,
           0,
           2,
           1,
           3,
           2,
           1,
           1,
           3,
           1,
           3,
           2,
           2,
           0,
           1,
           0,
           3,
           3,
           1,
           1,
           3,
           3,
           3,
           3,
           2,
           2,
           3,
           3,
           1,
           0,
           0,
           0,
           0,
           0
          ],
          "coloraxis": "coloraxis"
         },
         "mode": "markers",
         "name": "",
         "showlegend": false,
         "subplot": "mapbox",
         "type": "scattermapbox"
        }
       ],
       "layout": {
        "coloraxis": {
         "colorbar": {
          "title": {
           "text": "kmeans_group"
          }
         },
         "colorscale": [
          [
           0,
           "#0d0887"
          ],
          [
           0.1111111111111111,
           "#46039f"
          ],
          [
           0.2222222222222222,
           "#7201a8"
          ],
          [
           0.3333333333333333,
           "#9c179e"
          ],
          [
           0.4444444444444444,
           "#bd3786"
          ],
          [
           0.5555555555555556,
           "#d8576b"
          ],
          [
           0.6666666666666666,
           "#ed7953"
          ],
          [
           0.7777777777777778,
           "#fb9f3a"
          ],
          [
           0.8888888888888888,
           "#fdca26"
          ],
          [
           1,
           "#f0f921"
          ]
         ]
        },
        "legend": {
         "tracegroupgap": 0
        },
        "mapbox": {
         "center": {
          "lat": 16.2531093647541,
          "lon": 13.294813586065574
         },
         "domain": {
          "x": [
           0,
           1
          ],
          "y": [
           0,
           1
          ]
         },
         "style": "carto-positron",
         "zoom": 1
        },
        "margin": {
         "b": 10,
         "l": 0,
         "r": 0,
         "t": 30
        },
        "template": {
         "data": {
          "bar": [
           {
            "error_x": {
             "color": "#2a3f5f"
            },
            "error_y": {
             "color": "#2a3f5f"
            },
            "marker": {
             "line": {
              "color": "#E5ECF6",
              "width": 0.5
             },
             "pattern": {
              "fillmode": "overlay",
              "size": 10,
              "solidity": 0.2
             }
            },
            "type": "bar"
           }
          ],
          "barpolar": [
           {
            "marker": {
             "line": {
              "color": "#E5ECF6",
              "width": 0.5
             },
             "pattern": {
              "fillmode": "overlay",
              "size": 10,
              "solidity": 0.2
             }
            },
            "type": "barpolar"
           }
          ],
          "carpet": [
           {
            "aaxis": {
             "endlinecolor": "#2a3f5f",
             "gridcolor": "white",
             "linecolor": "white",
             "minorgridcolor": "white",
             "startlinecolor": "#2a3f5f"
            },
            "baxis": {
             "endlinecolor": "#2a3f5f",
             "gridcolor": "white",
             "linecolor": "white",
             "minorgridcolor": "white",
             "startlinecolor": "#2a3f5f"
            },
            "type": "carpet"
           }
          ],
          "choropleth": [
           {
            "colorbar": {
             "outlinewidth": 0,
             "ticks": ""
            },
            "type": "choropleth"
           }
          ],
          "contour": [
           {
            "colorbar": {
             "outlinewidth": 0,
             "ticks": ""
            },
            "colorscale": [
             [
              0,
              "#0d0887"
             ],
             [
              0.1111111111111111,
              "#46039f"
             ],
             [
              0.2222222222222222,
              "#7201a8"
             ],
             [
              0.3333333333333333,
              "#9c179e"
             ],
             [
              0.4444444444444444,
              "#bd3786"
             ],
             [
              0.5555555555555556,
              "#d8576b"
             ],
             [
              0.6666666666666666,
              "#ed7953"
             ],
             [
              0.7777777777777778,
              "#fb9f3a"
             ],
             [
              0.8888888888888888,
              "#fdca26"
             ],
             [
              1,
              "#f0f921"
             ]
            ],
            "type": "contour"
           }
          ],
          "contourcarpet": [
           {
            "colorbar": {
             "outlinewidth": 0,
             "ticks": ""
            },
            "type": "contourcarpet"
           }
          ],
          "heatmap": [
           {
            "colorbar": {
             "outlinewidth": 0,
             "ticks": ""
            },
            "colorscale": [
             [
              0,
              "#0d0887"
             ],
             [
              0.1111111111111111,
              "#46039f"
             ],
             [
              0.2222222222222222,
              "#7201a8"
             ],
             [
              0.3333333333333333,
              "#9c179e"
             ],
             [
              0.4444444444444444,
              "#bd3786"
             ],
             [
              0.5555555555555556,
              "#d8576b"
             ],
             [
              0.6666666666666666,
              "#ed7953"
             ],
             [
              0.7777777777777778,
              "#fb9f3a"
             ],
             [
              0.8888888888888888,
              "#fdca26"
             ],
             [
              1,
              "#f0f921"
             ]
            ],
            "type": "heatmap"
           }
          ],
          "heatmapgl": [
           {
            "colorbar": {
             "outlinewidth": 0,
             "ticks": ""
            },
            "colorscale": [
             [
              0,
              "#0d0887"
             ],
             [
              0.1111111111111111,
              "#46039f"
             ],
             [
              0.2222222222222222,
              "#7201a8"
             ],
             [
              0.3333333333333333,
              "#9c179e"
             ],
             [
              0.4444444444444444,
              "#bd3786"
             ],
             [
              0.5555555555555556,
              "#d8576b"
             ],
             [
              0.6666666666666666,
              "#ed7953"
             ],
             [
              0.7777777777777778,
              "#fb9f3a"
             ],
             [
              0.8888888888888888,
              "#fdca26"
             ],
             [
              1,
              "#f0f921"
             ]
            ],
            "type": "heatmapgl"
           }
          ],
          "histogram": [
           {
            "marker": {
             "pattern": {
              "fillmode": "overlay",
              "size": 10,
              "solidity": 0.2
             }
            },
            "type": "histogram"
           }
          ],
          "histogram2d": [
           {
            "colorbar": {
             "outlinewidth": 0,
             "ticks": ""
            },
            "colorscale": [
             [
              0,
              "#0d0887"
             ],
             [
              0.1111111111111111,
              "#46039f"
             ],
             [
              0.2222222222222222,
              "#7201a8"
             ],
             [
              0.3333333333333333,
              "#9c179e"
             ],
             [
              0.4444444444444444,
              "#bd3786"
             ],
             [
              0.5555555555555556,
              "#d8576b"
             ],
             [
              0.6666666666666666,
              "#ed7953"
             ],
             [
              0.7777777777777778,
              "#fb9f3a"
             ],
             [
              0.8888888888888888,
              "#fdca26"
             ],
             [
              1,
              "#f0f921"
             ]
            ],
            "type": "histogram2d"
           }
          ],
          "histogram2dcontour": [
           {
            "colorbar": {
             "outlinewidth": 0,
             "ticks": ""
            },
            "colorscale": [
             [
              0,
              "#0d0887"
             ],
             [
              0.1111111111111111,
              "#46039f"
             ],
             [
              0.2222222222222222,
              "#7201a8"
             ],
             [
              0.3333333333333333,
              "#9c179e"
             ],
             [
              0.4444444444444444,
              "#bd3786"
             ],
             [
              0.5555555555555556,
              "#d8576b"
             ],
             [
              0.6666666666666666,
              "#ed7953"
             ],
             [
              0.7777777777777778,
              "#fb9f3a"
             ],
             [
              0.8888888888888888,
              "#fdca26"
             ],
             [
              1,
              "#f0f921"
             ]
            ],
            "type": "histogram2dcontour"
           }
          ],
          "mesh3d": [
           {
            "colorbar": {
             "outlinewidth": 0,
             "ticks": ""
            },
            "type": "mesh3d"
           }
          ],
          "parcoords": [
           {
            "line": {
             "colorbar": {
              "outlinewidth": 0,
              "ticks": ""
             }
            },
            "type": "parcoords"
           }
          ],
          "pie": [
           {
            "automargin": true,
            "type": "pie"
           }
          ],
          "scatter": [
           {
            "fillpattern": {
             "fillmode": "overlay",
             "size": 10,
             "solidity": 0.2
            },
            "type": "scatter"
           }
          ],
          "scatter3d": [
           {
            "line": {
             "colorbar": {
              "outlinewidth": 0,
              "ticks": ""
             }
            },
            "marker": {
             "colorbar": {
              "outlinewidth": 0,
              "ticks": ""
             }
            },
            "type": "scatter3d"
           }
          ],
          "scattercarpet": [
           {
            "marker": {
             "colorbar": {
              "outlinewidth": 0,
              "ticks": ""
             }
            },
            "type": "scattercarpet"
           }
          ],
          "scattergeo": [
           {
            "marker": {
             "colorbar": {
              "outlinewidth": 0,
              "ticks": ""
             }
            },
            "type": "scattergeo"
           }
          ],
          "scattergl": [
           {
            "marker": {
             "colorbar": {
              "outlinewidth": 0,
              "ticks": ""
             }
            },
            "type": "scattergl"
           }
          ],
          "scattermapbox": [
           {
            "marker": {
             "colorbar": {
              "outlinewidth": 0,
              "ticks": ""
             }
            },
            "type": "scattermapbox"
           }
          ],
          "scatterpolar": [
           {
            "marker": {
             "colorbar": {
              "outlinewidth": 0,
              "ticks": ""
             }
            },
            "type": "scatterpolar"
           }
          ],
          "scatterpolargl": [
           {
            "marker": {
             "colorbar": {
              "outlinewidth": 0,
              "ticks": ""
             }
            },
            "type": "scatterpolargl"
           }
          ],
          "scatterternary": [
           {
            "marker": {
             "colorbar": {
              "outlinewidth": 0,
              "ticks": ""
             }
            },
            "type": "scatterternary"
           }
          ],
          "surface": [
           {
            "colorbar": {
             "outlinewidth": 0,
             "ticks": ""
            },
            "colorscale": [
             [
              0,
              "#0d0887"
             ],
             [
              0.1111111111111111,
              "#46039f"
             ],
             [
              0.2222222222222222,
              "#7201a8"
             ],
             [
              0.3333333333333333,
              "#9c179e"
             ],
             [
              0.4444444444444444,
              "#bd3786"
             ],
             [
              0.5555555555555556,
              "#d8576b"
             ],
             [
              0.6666666666666666,
              "#ed7953"
             ],
             [
              0.7777777777777778,
              "#fb9f3a"
             ],
             [
              0.8888888888888888,
              "#fdca26"
             ],
             [
              1,
              "#f0f921"
             ]
            ],
            "type": "surface"
           }
          ],
          "table": [
           {
            "cells": {
             "fill": {
              "color": "#EBF0F8"
             },
             "line": {
              "color": "white"
             }
            },
            "header": {
             "fill": {
              "color": "#C8D4E3"
             },
             "line": {
              "color": "white"
             }
            },
            "type": "table"
           }
          ]
         },
         "layout": {
          "annotationdefaults": {
           "arrowcolor": "#2a3f5f",
           "arrowhead": 0,
           "arrowwidth": 1
          },
          "autotypenumbers": "strict",
          "coloraxis": {
           "colorbar": {
            "outlinewidth": 0,
            "ticks": ""
           }
          },
          "colorscale": {
           "diverging": [
            [
             0,
             "#8e0152"
            ],
            [
             0.1,
             "#c51b7d"
            ],
            [
             0.2,
             "#de77ae"
            ],
            [
             0.3,
             "#f1b6da"
            ],
            [
             0.4,
             "#fde0ef"
            ],
            [
             0.5,
             "#f7f7f7"
            ],
            [
             0.6,
             "#e6f5d0"
            ],
            [
             0.7,
             "#b8e186"
            ],
            [
             0.8,
             "#7fbc41"
            ],
            [
             0.9,
             "#4d9221"
            ],
            [
             1,
             "#276419"
            ]
           ],
           "sequential": [
            [
             0,
             "#0d0887"
            ],
            [
             0.1111111111111111,
             "#46039f"
            ],
            [
             0.2222222222222222,
             "#7201a8"
            ],
            [
             0.3333333333333333,
             "#9c179e"
            ],
            [
             0.4444444444444444,
             "#bd3786"
            ],
            [
             0.5555555555555556,
             "#d8576b"
            ],
            [
             0.6666666666666666,
             "#ed7953"
            ],
            [
             0.7777777777777778,
             "#fb9f3a"
            ],
            [
             0.8888888888888888,
             "#fdca26"
            ],
            [
             1,
             "#f0f921"
            ]
           ],
           "sequentialminus": [
            [
             0,
             "#0d0887"
            ],
            [
             0.1111111111111111,
             "#46039f"
            ],
            [
             0.2222222222222222,
             "#7201a8"
            ],
            [
             0.3333333333333333,
             "#9c179e"
            ],
            [
             0.4444444444444444,
             "#bd3786"
            ],
            [
             0.5555555555555556,
             "#d8576b"
            ],
            [
             0.6666666666666666,
             "#ed7953"
            ],
            [
             0.7777777777777778,
             "#fb9f3a"
            ],
            [
             0.8888888888888888,
             "#fdca26"
            ],
            [
             1,
             "#f0f921"
            ]
           ]
          },
          "colorway": [
           "#636efa",
           "#EF553B",
           "#00cc96",
           "#ab63fa",
           "#FFA15A",
           "#19d3f3",
           "#FF6692",
           "#B6E880",
           "#FF97FF",
           "#FECB52"
          ],
          "font": {
           "color": "#2a3f5f"
          },
          "geo": {
           "bgcolor": "white",
           "lakecolor": "white",
           "landcolor": "#E5ECF6",
           "showlakes": true,
           "showland": true,
           "subunitcolor": "white"
          },
          "hoverlabel": {
           "align": "left"
          },
          "hovermode": "closest",
          "mapbox": {
           "style": "light"
          },
          "paper_bgcolor": "white",
          "plot_bgcolor": "#E5ECF6",
          "polar": {
           "angularaxis": {
            "gridcolor": "white",
            "linecolor": "white",
            "ticks": ""
           },
           "bgcolor": "#E5ECF6",
           "radialaxis": {
            "gridcolor": "white",
            "linecolor": "white",
            "ticks": ""
           }
          },
          "scene": {
           "xaxis": {
            "backgroundcolor": "#E5ECF6",
            "gridcolor": "white",
            "gridwidth": 2,
            "linecolor": "white",
            "showbackground": true,
            "ticks": "",
            "zerolinecolor": "white"
           },
           "yaxis": {
            "backgroundcolor": "#E5ECF6",
            "gridcolor": "white",
            "gridwidth": 2,
            "linecolor": "white",
            "showbackground": true,
            "ticks": "",
            "zerolinecolor": "white"
           },
           "zaxis": {
            "backgroundcolor": "#E5ECF6",
            "gridcolor": "white",
            "gridwidth": 2,
            "linecolor": "white",
            "showbackground": true,
            "ticks": "",
            "zerolinecolor": "white"
           }
          },
          "shapedefaults": {
           "line": {
            "color": "#2a3f5f"
           }
          },
          "ternary": {
           "aaxis": {
            "gridcolor": "white",
            "linecolor": "white",
            "ticks": ""
           },
           "baxis": {
            "gridcolor": "white",
            "linecolor": "white",
            "ticks": ""
           },
           "bgcolor": "#E5ECF6",
           "caxis": {
            "gridcolor": "white",
            "linecolor": "white",
            "ticks": ""
           }
          },
          "title": {
           "x": 0.05
          },
          "xaxis": {
           "automargin": true,
           "gridcolor": "white",
           "linecolor": "white",
           "ticks": "",
           "title": {
            "standoff": 15
           },
           "zerolinecolor": "white",
           "zerolinewidth": 2
          },
          "yaxis": {
           "automargin": true,
           "gridcolor": "white",
           "linecolor": "white",
           "ticks": "",
           "title": {
            "standoff": 15
           },
           "zerolinecolor": "white",
           "zerolinewidth": 2
          }
         }
        },
        "title": {
         "text": "Clustering using KMeans with 4 cluster"
        }
       }
      }
     },
     "metadata": {},
     "output_type": "display_data"
    }
   ],
   "source": [
    "fig1 = px.scatter_mapbox(data_train, \n",
    "                        lat='latitude', \n",
    "                        lon='longitude', \n",
    "                        hover_name='name', \n",
    "                        color='kmeans_group',\n",
    "                        mapbox_style='carto-positron', \n",
    "                        zoom=1)\n",
    "fig1.update_layout(margin={\"r\":0,\"t\":30,\"l\":0,\"b\":10}, title='Clustering using KMeans with 4 cluster')\n",
    "fig1.show()"
   ]
  },
  {
   "cell_type": "markdown",
   "metadata": {},
   "source": [
    "## 2.2 DBSCAN"
   ]
  },
  {
   "cell_type": "code",
   "execution_count": 229,
   "metadata": {},
   "outputs": [],
   "source": [
    "dbscan = DBSCAN(eps=0.1, min_samples=3)\n",
    "data_train['dbscan_group'] = dbscan.fit_predict(data_scaled)"
   ]
  },
  {
   "cell_type": "code",
   "execution_count": 230,
   "metadata": {},
   "outputs": [
    {
     "data": {
      "application/vnd.plotly.v1+json": {
       "config": {
        "plotlyServerURL": "https://plot.ly"
       },
       "data": [
        {
         "hovertemplate": "<b>%{hovertext}</b><br><br>latitude=%{lat}<br>longitude=%{lon}<br>dbscan_group=%{marker.color}<extra></extra>",
         "hovertext": [
          "Andorra",
          "United Arab Emirates",
          "Afghanistan",
          "Antigua and Barbuda",
          "Anguilla",
          "Albania",
          "Armenia",
          "Netherlands Antilles",
          "Angola",
          "Antarctica",
          "Argentina",
          "American Samoa",
          "Austria",
          "Australia",
          "Aruba",
          "Azerbaijan",
          "Bosnia and Herzegovina",
          "Barbados",
          "Bangladesh",
          "Belgium",
          "Burkina Faso",
          "Bulgaria",
          "Bahrain",
          "Burundi",
          "Benin",
          "Bermuda",
          "Brunei",
          "Bolivia",
          "Brazil",
          "Bahamas",
          "Bhutan",
          "Bouvet Island",
          "Botswana",
          "Belarus",
          "Belize",
          "Canada",
          "Cocos [Keeling] Islands",
          "Congo [DRC]",
          "Central African Republic",
          "Congo [Republic]",
          "Switzerland",
          "Côte d'Ivoire",
          "Cook Islands",
          "Chile",
          "Cameroon",
          "China",
          "Colombia",
          "Costa Rica",
          "Cuba",
          "Cape Verde",
          "Christmas Island",
          "Cyprus",
          "Czech Republic",
          "Germany",
          "Djibouti",
          "Denmark",
          "Dominica",
          "Dominican Republic",
          "Algeria",
          "Ecuador",
          "Estonia",
          "Egypt",
          "Western Sahara",
          "Eritrea",
          "Spain",
          "Ethiopia",
          "Finland",
          "Fiji",
          "Falkland Islands [Islas Malvinas]",
          "Micronesia",
          "Faroe Islands",
          "France",
          "Gabon",
          "United Kingdom",
          "Grenada",
          "Georgia",
          "French Guiana",
          "Guernsey",
          "Ghana",
          "Gibraltar",
          "Greenland",
          "Gambia",
          "Guinea",
          "Guadeloupe",
          "Equatorial Guinea",
          "Greece",
          "South Georgia and the South Sandwich Islands",
          "Guatemala",
          "Guam",
          "Guinea-Bissau",
          "Guyana",
          "Gaza Strip",
          "Hong Kong",
          "Heard Island and McDonald Islands",
          "Honduras",
          "Croatia",
          "Haiti",
          "Hungary",
          "Indonesia",
          "Ireland",
          "Israel",
          "Isle of Man",
          "India",
          "British Indian Ocean Territory",
          "Iraq",
          "Iran",
          "Iceland",
          "Italy",
          "Jersey",
          "Jamaica",
          "Jordan",
          "Japan",
          "Kenya",
          "Kyrgyzstan",
          "Cambodia",
          "Kiribati",
          "Comoros",
          "Saint Kitts and Nevis",
          "North Korea",
          "South Korea",
          "Kuwait",
          "Cayman Islands",
          "Kazakhstan",
          "Laos",
          "Lebanon",
          "Saint Lucia",
          "Liechtenstein",
          "Sri Lanka",
          "Liberia",
          "Lesotho",
          "Lithuania",
          "Luxembourg",
          "Latvia",
          "Libya",
          "Morocco",
          "Monaco",
          "Moldova",
          "Montenegro",
          "Madagascar",
          "Marshall Islands",
          "Macedonia [FYROM]",
          "Mali",
          "Myanmar [Burma]",
          "Mongolia",
          "Macau",
          "Northern Mariana Islands",
          "Martinique",
          "Mauritania",
          "Montserrat",
          "Malta",
          "Mauritius",
          "Maldives",
          "Malawi",
          "Mexico",
          "Malaysia",
          "Mozambique",
          "Namibia",
          "New Caledonia",
          "Niger",
          "Norfolk Island",
          "Nigeria",
          "Nicaragua",
          "Netherlands",
          "Norway",
          "Nepal",
          "Nauru",
          "Niue",
          "New Zealand",
          "Oman",
          "Panama",
          "Peru",
          "French Polynesia",
          "Papua New Guinea",
          "Philippines",
          "Pakistan",
          "Poland",
          "Saint Pierre and Miquelon",
          "Pitcairn Islands",
          "Puerto Rico",
          "Palestinian Territories",
          "Portugal",
          "Palau",
          "Paraguay",
          "Qatar",
          "Réunion",
          "Romania",
          "Serbia",
          "Russia",
          "Rwanda",
          "Saudi Arabia",
          "Solomon Islands",
          "Seychelles",
          "Sudan",
          "Sweden",
          "Singapore",
          "Saint Helena",
          "Slovenia",
          "Svalbard and Jan Mayen",
          "Slovakia",
          "Sierra Leone",
          "San Marino",
          "Senegal",
          "Somalia",
          "Suriname",
          "São Tomé and Príncipe",
          "El Salvador",
          "Syria",
          "Swaziland",
          "Turks and Caicos Islands",
          "Chad",
          "French Southern Territories",
          "Togo",
          "Thailand",
          "Tajikistan",
          "Tokelau",
          "Timor-Leste",
          "Turkmenistan",
          "Tunisia",
          "Tonga",
          "Turkey",
          "Trinidad and Tobago",
          "Tuvalu",
          "Taiwan",
          "Tanzania",
          "Ukraine",
          "Uganda",
          "United States",
          "Uruguay",
          "Uzbekistan",
          "Vatican City",
          "Saint Vincent and the Grenadines",
          "Venezuela",
          "British Virgin Islands",
          "U.S. Virgin Islands",
          "Vietnam",
          "Vanuatu",
          "Wallis and Futuna",
          "Samoa",
          "Kosovo",
          "Yemen",
          "Mayotte",
          "South Africa",
          "Zambia",
          "Zimbabwe"
         ],
         "lat": [
          42.546245,
          23.424076,
          33.93911,
          17.060816,
          18.220554,
          41.153332,
          40.069099,
          12.226079,
          -11.202692,
          -75.250973,
          -38.416097,
          -14.270972,
          47.516231,
          -25.274398,
          12.52111,
          40.143105,
          43.915886,
          13.193887,
          23.684994,
          50.503887,
          12.238333,
          42.733883,
          25.930414,
          -3.373056,
          9.30769,
          32.321384,
          4.535277,
          -16.290154,
          -14.235004,
          25.03428,
          27.514162,
          -54.423199,
          -22.328474,
          53.709807,
          17.189877,
          56.130366,
          -12.164165,
          -4.038333,
          6.611111,
          -0.228021,
          46.818188,
          7.539989,
          -21.236736,
          -35.675147,
          7.369722,
          35.86166,
          4.570868,
          9.748917,
          21.521757,
          16.002082,
          -10.447525,
          35.126413,
          49.817492,
          51.165691,
          11.825138,
          56.26392,
          15.414999,
          18.735693,
          28.033886,
          -1.831239,
          58.595272,
          26.820553,
          24.215527,
          15.179384,
          40.463667,
          9.145,
          61.92411,
          -16.578193,
          -51.796253,
          7.425554,
          61.892635,
          46.227638,
          -0.803689,
          55.378051,
          12.262776,
          42.315407,
          3.933889,
          49.465691,
          7.946527,
          36.137741,
          71.706936,
          13.443182,
          9.945587,
          16.995971,
          1.650801,
          39.074208,
          -54.429579,
          15.783471,
          13.444304,
          11.803749,
          4.860416,
          31.354676,
          22.396428,
          -53.08181,
          15.199999,
          45.1,
          18.971187,
          47.162494,
          -0.789275,
          53.41291,
          31.046051,
          54.236107,
          20.593684,
          -6.343194,
          33.223191,
          32.427908,
          64.963051,
          41.87194,
          49.214439,
          18.109581,
          30.585164,
          36.204824,
          -0.023559,
          41.20438,
          12.565679,
          -3.370417,
          -11.875001,
          17.357822,
          40.339852,
          35.907757,
          29.31166,
          19.513469,
          48.019573,
          19.85627,
          33.854721,
          13.909444,
          47.166,
          7.873054,
          6.428055,
          -29.609988,
          55.169438,
          49.815273,
          56.879635,
          26.3351,
          31.791702,
          43.750298,
          47.411631,
          42.708678,
          -18.766947,
          7.131474,
          41.608635,
          17.570692,
          21.913965,
          46.862496,
          22.198745,
          17.33083,
          14.641528,
          21.00789,
          16.742498,
          35.937496,
          -20.348404,
          3.202778,
          -13.254308,
          23.634501,
          4.210484,
          -18.665695,
          -22.95764,
          -20.904305,
          17.607789,
          -29.040835,
          9.081999,
          12.865416,
          52.132633,
          60.472024,
          28.394857,
          -0.522778,
          -19.054445,
          -40.900557,
          21.512583,
          8.537981,
          -9.189967,
          -17.679742,
          -6.314993,
          12.879721,
          30.375321,
          51.919438,
          46.941936,
          -24.703615,
          18.220833,
          31.952162,
          39.399872,
          7.51498,
          -23.442503,
          25.354826,
          -21.115141,
          45.943161,
          44.016521,
          61.52401,
          -1.940278,
          23.885942,
          -9.64571,
          -4.679574,
          12.862807,
          60.128161,
          1.352083,
          -24.143474,
          46.151241,
          77.553604,
          48.669026,
          8.460555,
          43.94236,
          14.497401,
          5.152149,
          3.919305,
          0.18636,
          13.794185,
          34.802075,
          -26.522503,
          21.694025,
          15.454166,
          -49.280366,
          8.619543,
          15.870032,
          38.861034,
          -8.967363,
          -8.874217,
          38.969719,
          33.886917,
          -21.178986,
          38.963745,
          10.691803,
          -7.109535,
          23.69781,
          -6.369028,
          48.379433,
          1.373333,
          37.09024,
          -32.522779,
          41.377491,
          41.902916,
          12.984305,
          6.42375,
          18.420695,
          18.335765,
          14.058324,
          -15.376706,
          -13.768752,
          -13.759029,
          42.602636,
          15.552727,
          -12.8275,
          -30.559482,
          -13.133897,
          -19.015438
         ],
         "legendgroup": "",
         "lon": [
          1.601554,
          53.847818,
          67.709953,
          -61.796428,
          -63.068615,
          20.168331,
          45.038189,
          -69.060087,
          17.873887,
          -0.071389,
          -63.616672,
          -170.132217,
          14.550072,
          133.775136,
          -69.968338,
          47.576927,
          17.679076,
          -59.543198,
          90.356331,
          4.469936,
          -1.561593,
          25.48583,
          50.637772,
          29.918886,
          2.315834,
          -64.75737,
          114.727669,
          -63.588653,
          -51.92528,
          -77.39628,
          90.433601,
          3.413194,
          24.684866,
          27.953389,
          -88.49765,
          -106.346771,
          96.870956,
          21.758664,
          20.939444,
          15.827659,
          8.227512,
          -5.54708,
          -159.777671,
          -71.542969,
          12.354722,
          104.195397,
          -74.297333,
          -83.753428,
          -77.781167,
          -24.013197,
          105.690449,
          33.429859,
          15.472962,
          10.451526,
          42.590275,
          9.501785,
          -61.370976,
          -70.162651,
          1.659626,
          -78.183406,
          25.013607,
          30.802498,
          -12.885834,
          39.782334,
          -3.74922,
          40.489673,
          25.748151,
          179.414413,
          -59.523613,
          150.550812,
          -6.911806,
          2.213749,
          11.609444,
          -3.435973,
          -61.604171,
          43.356892,
          -53.125782,
          -2.585278,
          -1.023194,
          -5.345374,
          -42.604303,
          -15.310139,
          -9.696645,
          -62.067641,
          10.267895,
          21.824312,
          -36.587909,
          -90.230759,
          144.793731,
          -15.180413,
          -58.93018,
          34.308825,
          114.109497,
          73.504158,
          -86.241905,
          15.2,
          -72.285215,
          19.503304,
          113.921327,
          -8.24389,
          34.851612,
          -4.548056,
          78.96288,
          71.876519,
          43.679291,
          53.688046,
          -19.020835,
          12.56738,
          -2.13125,
          -77.297508,
          36.238414,
          138.252924,
          37.906193,
          74.766098,
          104.990963,
          -168.734039,
          43.872219,
          -62.782998,
          127.510093,
          127.766922,
          47.481766,
          -80.566956,
          66.923684,
          102.495496,
          35.862285,
          -60.978893,
          9.555373,
          80.771797,
          -9.429499,
          28.233608,
          23.881275,
          6.129583,
          24.603189,
          17.228331,
          -7.09262,
          7.412841,
          28.369885,
          19.37439,
          46.869107,
          171.184478,
          21.745275,
          -3.996166,
          95.956223,
          103.846656,
          113.543873,
          145.38469,
          -61.024174,
          -10.940835,
          -62.187366,
          14.375416,
          57.552152,
          73.22068,
          34.301525,
          -102.552784,
          101.975766,
          35.529562,
          18.49041,
          165.618042,
          8.081666,
          167.954712,
          8.675277,
          -85.207229,
          5.291266,
          8.468946,
          84.124008,
          166.931503,
          -169.867233,
          174.885971,
          55.923255,
          -80.782127,
          -75.015152,
          -149.406843,
          143.95555,
          121.774017,
          69.345116,
          19.145136,
          -56.27111,
          -127.439308,
          -66.590149,
          35.233154,
          -8.224454,
          134.58252,
          -58.443832,
          51.183884,
          55.536384,
          24.96676,
          21.005859,
          105.318756,
          29.873888,
          45.079162,
          160.156194,
          55.491977,
          30.217636,
          18.643501,
          103.819836,
          -10.030696,
          14.995463,
          23.670272,
          19.699024,
          -11.779889,
          12.457777,
          -14.452362,
          46.199616,
          -56.027783,
          6.613081,
          -88.89653,
          38.996815,
          31.465866,
          -71.797928,
          18.732207,
          69.348557,
          0.824782,
          100.992541,
          71.276093,
          -171.855881,
          125.727539,
          59.556278,
          9.537499,
          -175.198242,
          35.243322,
          -61.222503,
          177.64933,
          120.960515,
          34.888822,
          31.16558,
          32.290275,
          -95.712891,
          -55.765835,
          64.585262,
          12.453389,
          -61.287228,
          -66.58973,
          -64.639968,
          -64.896335,
          108.277199,
          166.959158,
          -177.156097,
          -172.104629,
          20.902977,
          48.516388,
          45.166244,
          22.937506,
          27.849332,
          29.154857
         ],
         "marker": {
          "color": [
           0,
           0,
           0,
           1,
           1,
           0,
           0,
           1,
           0,
           -1,
           1,
           2,
           0,
           0,
           1,
           0,
           0,
           1,
           0,
           0,
           0,
           0,
           0,
           0,
           0,
           1,
           0,
           1,
           1,
           1,
           0,
           -1,
           0,
           0,
           1,
           -1,
           0,
           0,
           0,
           0,
           0,
           0,
           2,
           1,
           0,
           0,
           1,
           1,
           1,
           0,
           0,
           0,
           0,
           0,
           0,
           0,
           1,
           1,
           0,
           1,
           0,
           0,
           0,
           0,
           0,
           0,
           0,
           0,
           1,
           0,
           0,
           0,
           0,
           0,
           1,
           0,
           1,
           0,
           0,
           0,
           0,
           0,
           0,
           1,
           0,
           0,
           1,
           1,
           0,
           0,
           1,
           0,
           0,
           -1,
           1,
           0,
           1,
           0,
           0,
           0,
           0,
           0,
           0,
           0,
           0,
           0,
           0,
           0,
           0,
           1,
           0,
           0,
           0,
           0,
           0,
           2,
           0,
           1,
           0,
           0,
           0,
           1,
           0,
           0,
           0,
           1,
           0,
           0,
           0,
           0,
           0,
           0,
           0,
           0,
           0,
           0,
           0,
           0,
           0,
           0,
           0,
           0,
           0,
           0,
           0,
           0,
           1,
           0,
           1,
           0,
           0,
           0,
           0,
           1,
           0,
           0,
           0,
           0,
           0,
           0,
           0,
           1,
           0,
           0,
           0,
           0,
           2,
           0,
           0,
           1,
           1,
           2,
           0,
           0,
           0,
           0,
           1,
           2,
           1,
           0,
           0,
           0,
           1,
           0,
           0,
           0,
           0,
           0,
           0,
           0,
           0,
           0,
           0,
           0,
           0,
           0,
           0,
           -1,
           0,
           0,
           0,
           0,
           0,
           1,
           0,
           1,
           0,
           0,
           1,
           0,
           -1,
           0,
           0,
           0,
           2,
           0,
           0,
           0,
           2,
           0,
           1,
           0,
           0,
           0,
           0,
           0,
           1,
           1,
           0,
           0,
           1,
           1,
           1,
           1,
           0,
           0,
           2,
           2,
           0,
           0,
           0,
           0,
           0,
           0
          ],
          "coloraxis": "coloraxis"
         },
         "mode": "markers",
         "name": "",
         "showlegend": false,
         "subplot": "mapbox",
         "type": "scattermapbox"
        }
       ],
       "layout": {
        "coloraxis": {
         "colorbar": {
          "title": {
           "text": "dbscan_group"
          }
         },
         "colorscale": [
          [
           0,
           "#0d0887"
          ],
          [
           0.1111111111111111,
           "#46039f"
          ],
          [
           0.2222222222222222,
           "#7201a8"
          ],
          [
           0.3333333333333333,
           "#9c179e"
          ],
          [
           0.4444444444444444,
           "#bd3786"
          ],
          [
           0.5555555555555556,
           "#d8576b"
          ],
          [
           0.6666666666666666,
           "#ed7953"
          ],
          [
           0.7777777777777778,
           "#fb9f3a"
          ],
          [
           0.8888888888888888,
           "#fdca26"
          ],
          [
           1,
           "#f0f921"
          ]
         ]
        },
        "legend": {
         "tracegroupgap": 0
        },
        "mapbox": {
         "center": {
          "lat": 16.2531093647541,
          "lon": 13.294813586065574
         },
         "domain": {
          "x": [
           0,
           1
          ],
          "y": [
           0,
           1
          ]
         },
         "style": "carto-positron",
         "zoom": 1
        },
        "margin": {
         "b": 10,
         "l": 0,
         "r": 0,
         "t": 30
        },
        "template": {
         "data": {
          "bar": [
           {
            "error_x": {
             "color": "#2a3f5f"
            },
            "error_y": {
             "color": "#2a3f5f"
            },
            "marker": {
             "line": {
              "color": "#E5ECF6",
              "width": 0.5
             },
             "pattern": {
              "fillmode": "overlay",
              "size": 10,
              "solidity": 0.2
             }
            },
            "type": "bar"
           }
          ],
          "barpolar": [
           {
            "marker": {
             "line": {
              "color": "#E5ECF6",
              "width": 0.5
             },
             "pattern": {
              "fillmode": "overlay",
              "size": 10,
              "solidity": 0.2
             }
            },
            "type": "barpolar"
           }
          ],
          "carpet": [
           {
            "aaxis": {
             "endlinecolor": "#2a3f5f",
             "gridcolor": "white",
             "linecolor": "white",
             "minorgridcolor": "white",
             "startlinecolor": "#2a3f5f"
            },
            "baxis": {
             "endlinecolor": "#2a3f5f",
             "gridcolor": "white",
             "linecolor": "white",
             "minorgridcolor": "white",
             "startlinecolor": "#2a3f5f"
            },
            "type": "carpet"
           }
          ],
          "choropleth": [
           {
            "colorbar": {
             "outlinewidth": 0,
             "ticks": ""
            },
            "type": "choropleth"
           }
          ],
          "contour": [
           {
            "colorbar": {
             "outlinewidth": 0,
             "ticks": ""
            },
            "colorscale": [
             [
              0,
              "#0d0887"
             ],
             [
              0.1111111111111111,
              "#46039f"
             ],
             [
              0.2222222222222222,
              "#7201a8"
             ],
             [
              0.3333333333333333,
              "#9c179e"
             ],
             [
              0.4444444444444444,
              "#bd3786"
             ],
             [
              0.5555555555555556,
              "#d8576b"
             ],
             [
              0.6666666666666666,
              "#ed7953"
             ],
             [
              0.7777777777777778,
              "#fb9f3a"
             ],
             [
              0.8888888888888888,
              "#fdca26"
             ],
             [
              1,
              "#f0f921"
             ]
            ],
            "type": "contour"
           }
          ],
          "contourcarpet": [
           {
            "colorbar": {
             "outlinewidth": 0,
             "ticks": ""
            },
            "type": "contourcarpet"
           }
          ],
          "heatmap": [
           {
            "colorbar": {
             "outlinewidth": 0,
             "ticks": ""
            },
            "colorscale": [
             [
              0,
              "#0d0887"
             ],
             [
              0.1111111111111111,
              "#46039f"
             ],
             [
              0.2222222222222222,
              "#7201a8"
             ],
             [
              0.3333333333333333,
              "#9c179e"
             ],
             [
              0.4444444444444444,
              "#bd3786"
             ],
             [
              0.5555555555555556,
              "#d8576b"
             ],
             [
              0.6666666666666666,
              "#ed7953"
             ],
             [
              0.7777777777777778,
              "#fb9f3a"
             ],
             [
              0.8888888888888888,
              "#fdca26"
             ],
             [
              1,
              "#f0f921"
             ]
            ],
            "type": "heatmap"
           }
          ],
          "heatmapgl": [
           {
            "colorbar": {
             "outlinewidth": 0,
             "ticks": ""
            },
            "colorscale": [
             [
              0,
              "#0d0887"
             ],
             [
              0.1111111111111111,
              "#46039f"
             ],
             [
              0.2222222222222222,
              "#7201a8"
             ],
             [
              0.3333333333333333,
              "#9c179e"
             ],
             [
              0.4444444444444444,
              "#bd3786"
             ],
             [
              0.5555555555555556,
              "#d8576b"
             ],
             [
              0.6666666666666666,
              "#ed7953"
             ],
             [
              0.7777777777777778,
              "#fb9f3a"
             ],
             [
              0.8888888888888888,
              "#fdca26"
             ],
             [
              1,
              "#f0f921"
             ]
            ],
            "type": "heatmapgl"
           }
          ],
          "histogram": [
           {
            "marker": {
             "pattern": {
              "fillmode": "overlay",
              "size": 10,
              "solidity": 0.2
             }
            },
            "type": "histogram"
           }
          ],
          "histogram2d": [
           {
            "colorbar": {
             "outlinewidth": 0,
             "ticks": ""
            },
            "colorscale": [
             [
              0,
              "#0d0887"
             ],
             [
              0.1111111111111111,
              "#46039f"
             ],
             [
              0.2222222222222222,
              "#7201a8"
             ],
             [
              0.3333333333333333,
              "#9c179e"
             ],
             [
              0.4444444444444444,
              "#bd3786"
             ],
             [
              0.5555555555555556,
              "#d8576b"
             ],
             [
              0.6666666666666666,
              "#ed7953"
             ],
             [
              0.7777777777777778,
              "#fb9f3a"
             ],
             [
              0.8888888888888888,
              "#fdca26"
             ],
             [
              1,
              "#f0f921"
             ]
            ],
            "type": "histogram2d"
           }
          ],
          "histogram2dcontour": [
           {
            "colorbar": {
             "outlinewidth": 0,
             "ticks": ""
            },
            "colorscale": [
             [
              0,
              "#0d0887"
             ],
             [
              0.1111111111111111,
              "#46039f"
             ],
             [
              0.2222222222222222,
              "#7201a8"
             ],
             [
              0.3333333333333333,
              "#9c179e"
             ],
             [
              0.4444444444444444,
              "#bd3786"
             ],
             [
              0.5555555555555556,
              "#d8576b"
             ],
             [
              0.6666666666666666,
              "#ed7953"
             ],
             [
              0.7777777777777778,
              "#fb9f3a"
             ],
             [
              0.8888888888888888,
              "#fdca26"
             ],
             [
              1,
              "#f0f921"
             ]
            ],
            "type": "histogram2dcontour"
           }
          ],
          "mesh3d": [
           {
            "colorbar": {
             "outlinewidth": 0,
             "ticks": ""
            },
            "type": "mesh3d"
           }
          ],
          "parcoords": [
           {
            "line": {
             "colorbar": {
              "outlinewidth": 0,
              "ticks": ""
             }
            },
            "type": "parcoords"
           }
          ],
          "pie": [
           {
            "automargin": true,
            "type": "pie"
           }
          ],
          "scatter": [
           {
            "fillpattern": {
             "fillmode": "overlay",
             "size": 10,
             "solidity": 0.2
            },
            "type": "scatter"
           }
          ],
          "scatter3d": [
           {
            "line": {
             "colorbar": {
              "outlinewidth": 0,
              "ticks": ""
             }
            },
            "marker": {
             "colorbar": {
              "outlinewidth": 0,
              "ticks": ""
             }
            },
            "type": "scatter3d"
           }
          ],
          "scattercarpet": [
           {
            "marker": {
             "colorbar": {
              "outlinewidth": 0,
              "ticks": ""
             }
            },
            "type": "scattercarpet"
           }
          ],
          "scattergeo": [
           {
            "marker": {
             "colorbar": {
              "outlinewidth": 0,
              "ticks": ""
             }
            },
            "type": "scattergeo"
           }
          ],
          "scattergl": [
           {
            "marker": {
             "colorbar": {
              "outlinewidth": 0,
              "ticks": ""
             }
            },
            "type": "scattergl"
           }
          ],
          "scattermapbox": [
           {
            "marker": {
             "colorbar": {
              "outlinewidth": 0,
              "ticks": ""
             }
            },
            "type": "scattermapbox"
           }
          ],
          "scatterpolar": [
           {
            "marker": {
             "colorbar": {
              "outlinewidth": 0,
              "ticks": ""
             }
            },
            "type": "scatterpolar"
           }
          ],
          "scatterpolargl": [
           {
            "marker": {
             "colorbar": {
              "outlinewidth": 0,
              "ticks": ""
             }
            },
            "type": "scatterpolargl"
           }
          ],
          "scatterternary": [
           {
            "marker": {
             "colorbar": {
              "outlinewidth": 0,
              "ticks": ""
             }
            },
            "type": "scatterternary"
           }
          ],
          "surface": [
           {
            "colorbar": {
             "outlinewidth": 0,
             "ticks": ""
            },
            "colorscale": [
             [
              0,
              "#0d0887"
             ],
             [
              0.1111111111111111,
              "#46039f"
             ],
             [
              0.2222222222222222,
              "#7201a8"
             ],
             [
              0.3333333333333333,
              "#9c179e"
             ],
             [
              0.4444444444444444,
              "#bd3786"
             ],
             [
              0.5555555555555556,
              "#d8576b"
             ],
             [
              0.6666666666666666,
              "#ed7953"
             ],
             [
              0.7777777777777778,
              "#fb9f3a"
             ],
             [
              0.8888888888888888,
              "#fdca26"
             ],
             [
              1,
              "#f0f921"
             ]
            ],
            "type": "surface"
           }
          ],
          "table": [
           {
            "cells": {
             "fill": {
              "color": "#EBF0F8"
             },
             "line": {
              "color": "white"
             }
            },
            "header": {
             "fill": {
              "color": "#C8D4E3"
             },
             "line": {
              "color": "white"
             }
            },
            "type": "table"
           }
          ]
         },
         "layout": {
          "annotationdefaults": {
           "arrowcolor": "#2a3f5f",
           "arrowhead": 0,
           "arrowwidth": 1
          },
          "autotypenumbers": "strict",
          "coloraxis": {
           "colorbar": {
            "outlinewidth": 0,
            "ticks": ""
           }
          },
          "colorscale": {
           "diverging": [
            [
             0,
             "#8e0152"
            ],
            [
             0.1,
             "#c51b7d"
            ],
            [
             0.2,
             "#de77ae"
            ],
            [
             0.3,
             "#f1b6da"
            ],
            [
             0.4,
             "#fde0ef"
            ],
            [
             0.5,
             "#f7f7f7"
            ],
            [
             0.6,
             "#e6f5d0"
            ],
            [
             0.7,
             "#b8e186"
            ],
            [
             0.8,
             "#7fbc41"
            ],
            [
             0.9,
             "#4d9221"
            ],
            [
             1,
             "#276419"
            ]
           ],
           "sequential": [
            [
             0,
             "#0d0887"
            ],
            [
             0.1111111111111111,
             "#46039f"
            ],
            [
             0.2222222222222222,
             "#7201a8"
            ],
            [
             0.3333333333333333,
             "#9c179e"
            ],
            [
             0.4444444444444444,
             "#bd3786"
            ],
            [
             0.5555555555555556,
             "#d8576b"
            ],
            [
             0.6666666666666666,
             "#ed7953"
            ],
            [
             0.7777777777777778,
             "#fb9f3a"
            ],
            [
             0.8888888888888888,
             "#fdca26"
            ],
            [
             1,
             "#f0f921"
            ]
           ],
           "sequentialminus": [
            [
             0,
             "#0d0887"
            ],
            [
             0.1111111111111111,
             "#46039f"
            ],
            [
             0.2222222222222222,
             "#7201a8"
            ],
            [
             0.3333333333333333,
             "#9c179e"
            ],
            [
             0.4444444444444444,
             "#bd3786"
            ],
            [
             0.5555555555555556,
             "#d8576b"
            ],
            [
             0.6666666666666666,
             "#ed7953"
            ],
            [
             0.7777777777777778,
             "#fb9f3a"
            ],
            [
             0.8888888888888888,
             "#fdca26"
            ],
            [
             1,
             "#f0f921"
            ]
           ]
          },
          "colorway": [
           "#636efa",
           "#EF553B",
           "#00cc96",
           "#ab63fa",
           "#FFA15A",
           "#19d3f3",
           "#FF6692",
           "#B6E880",
           "#FF97FF",
           "#FECB52"
          ],
          "font": {
           "color": "#2a3f5f"
          },
          "geo": {
           "bgcolor": "white",
           "lakecolor": "white",
           "landcolor": "#E5ECF6",
           "showlakes": true,
           "showland": true,
           "subunitcolor": "white"
          },
          "hoverlabel": {
           "align": "left"
          },
          "hovermode": "closest",
          "mapbox": {
           "style": "light"
          },
          "paper_bgcolor": "white",
          "plot_bgcolor": "#E5ECF6",
          "polar": {
           "angularaxis": {
            "gridcolor": "white",
            "linecolor": "white",
            "ticks": ""
           },
           "bgcolor": "#E5ECF6",
           "radialaxis": {
            "gridcolor": "white",
            "linecolor": "white",
            "ticks": ""
           }
          },
          "scene": {
           "xaxis": {
            "backgroundcolor": "#E5ECF6",
            "gridcolor": "white",
            "gridwidth": 2,
            "linecolor": "white",
            "showbackground": true,
            "ticks": "",
            "zerolinecolor": "white"
           },
           "yaxis": {
            "backgroundcolor": "#E5ECF6",
            "gridcolor": "white",
            "gridwidth": 2,
            "linecolor": "white",
            "showbackground": true,
            "ticks": "",
            "zerolinecolor": "white"
           },
           "zaxis": {
            "backgroundcolor": "#E5ECF6",
            "gridcolor": "white",
            "gridwidth": 2,
            "linecolor": "white",
            "showbackground": true,
            "ticks": "",
            "zerolinecolor": "white"
           }
          },
          "shapedefaults": {
           "line": {
            "color": "#2a3f5f"
           }
          },
          "ternary": {
           "aaxis": {
            "gridcolor": "white",
            "linecolor": "white",
            "ticks": ""
           },
           "baxis": {
            "gridcolor": "white",
            "linecolor": "white",
            "ticks": ""
           },
           "bgcolor": "#E5ECF6",
           "caxis": {
            "gridcolor": "white",
            "linecolor": "white",
            "ticks": ""
           }
          },
          "title": {
           "x": 0.05
          },
          "xaxis": {
           "automargin": true,
           "gridcolor": "white",
           "linecolor": "white",
           "ticks": "",
           "title": {
            "standoff": 15
           },
           "zerolinecolor": "white",
           "zerolinewidth": 2
          },
          "yaxis": {
           "automargin": true,
           "gridcolor": "white",
           "linecolor": "white",
           "ticks": "",
           "title": {
            "standoff": 15
           },
           "zerolinecolor": "white",
           "zerolinewidth": 2
          }
         }
        },
        "title": {
         "text": "Clustering using DBScan"
        }
       }
      }
     },
     "metadata": {},
     "output_type": "display_data"
    }
   ],
   "source": [
    "fig2 = px.scatter_mapbox(data_train, \n",
    "                        lat='latitude', \n",
    "                        lon='longitude', \n",
    "                        hover_name='name', \n",
    "                        color='dbscan_group',\n",
    "                        mapbox_style='carto-positron', \n",
    "                        zoom=1)\n",
    "fig2.update_layout(margin={\"r\":0,\"t\":30,\"l\":0,\"b\":10}, title='Clustering using DBScan')\n",
    "fig2.show()"
   ]
  },
  {
   "cell_type": "markdown",
   "metadata": {},
   "source": [
    "## 2.3 Divisive Partitioning Clustering (DPC) "
   ]
  },
  {
   "cell_type": "code",
   "execution_count": 231,
   "metadata": {},
   "outputs": [],
   "source": [
    "def dpc_clustering(data, max_clusters):\n",
    "    def split_cluster(points):\n",
    "        if len(points) <= 1:\n",
    "            return [points]\n",
    "        # Tính toán ma trận khoảng cách giữa các điểm\n",
    "        distances = squareform(pdist(data[points], 'euclidean'))\n",
    "        # Tìm hai điểm xa nhất trong cụm\n",
    "        farthest_points = np.unravel_index(np.argmax(distances), distances.shape)\n",
    "        # Gán điểm xa nhất vào hai cụm ban đầu\n",
    "        cluster1 = [points[farthest_points[0]]]\n",
    "        cluster2 = [points[farthest_points[1]]]\n",
    "        # Gán các điểm còn lại vào cụm gần nhất\n",
    "        for i in range(len(points)):\n",
    "            if i != farthest_points[0] and i != farthest_points[1]:\n",
    "                if distances[farthest_points[0], i] < distances[farthest_points[1], i]:\n",
    "                    cluster1.append(points[i])\n",
    "                else:\n",
    "                    cluster2.append(points[i])\n",
    "        return [cluster1, cluster2]\n",
    "\n",
    "    # Khởi tạo cụm lớn bao gồm tất cả các điểm\n",
    "    clusters = [list(range(len(data)))]\n",
    "    while len(clusters) < max_clusters:\n",
    "        # Tìm cụm lớn nhất và phân chia nó nếu có nhiều hơn một điểm\n",
    "        largest_cluster = max(clusters, key=len)\n",
    "        if len(largest_cluster) <= 1:\n",
    "            break\n",
    "        clusters.remove(largest_cluster)\n",
    "        split = split_cluster(largest_cluster)\n",
    "        clusters.extend(split)\n",
    "\n",
    "    # Tạo nhãn cụm cho mỗi điểm\n",
    "    cluster_labels = np.zeros(len(data), dtype=int)\n",
    "    for cluster_id, cluster in enumerate(clusters):\n",
    "        for index in cluster:\n",
    "            cluster_labels[index] = cluster_id\n",
    "\n",
    "    return cluster_labels"
   ]
  },
  {
   "cell_type": "code",
   "execution_count": 232,
   "metadata": {},
   "outputs": [],
   "source": [
    "data_train['dpc_group'] = dpc_clustering(data_scaled, max_clusters=4)"
   ]
  },
  {
   "cell_type": "code",
   "execution_count": 233,
   "metadata": {},
   "outputs": [
    {
     "data": {
      "application/vnd.plotly.v1+json": {
       "config": {
        "plotlyServerURL": "https://plot.ly"
       },
       "data": [
        {
         "hovertemplate": "<b>%{hovertext}</b><br><br>latitude=%{lat}<br>longitude=%{lon}<br>dpc_group=%{marker.color}<extra></extra>",
         "hovertext": [
          "Andorra",
          "United Arab Emirates",
          "Afghanistan",
          "Antigua and Barbuda",
          "Anguilla",
          "Albania",
          "Armenia",
          "Netherlands Antilles",
          "Angola",
          "Antarctica",
          "Argentina",
          "American Samoa",
          "Austria",
          "Australia",
          "Aruba",
          "Azerbaijan",
          "Bosnia and Herzegovina",
          "Barbados",
          "Bangladesh",
          "Belgium",
          "Burkina Faso",
          "Bulgaria",
          "Bahrain",
          "Burundi",
          "Benin",
          "Bermuda",
          "Brunei",
          "Bolivia",
          "Brazil",
          "Bahamas",
          "Bhutan",
          "Bouvet Island",
          "Botswana",
          "Belarus",
          "Belize",
          "Canada",
          "Cocos [Keeling] Islands",
          "Congo [DRC]",
          "Central African Republic",
          "Congo [Republic]",
          "Switzerland",
          "Côte d'Ivoire",
          "Cook Islands",
          "Chile",
          "Cameroon",
          "China",
          "Colombia",
          "Costa Rica",
          "Cuba",
          "Cape Verde",
          "Christmas Island",
          "Cyprus",
          "Czech Republic",
          "Germany",
          "Djibouti",
          "Denmark",
          "Dominica",
          "Dominican Republic",
          "Algeria",
          "Ecuador",
          "Estonia",
          "Egypt",
          "Western Sahara",
          "Eritrea",
          "Spain",
          "Ethiopia",
          "Finland",
          "Fiji",
          "Falkland Islands [Islas Malvinas]",
          "Micronesia",
          "Faroe Islands",
          "France",
          "Gabon",
          "United Kingdom",
          "Grenada",
          "Georgia",
          "French Guiana",
          "Guernsey",
          "Ghana",
          "Gibraltar",
          "Greenland",
          "Gambia",
          "Guinea",
          "Guadeloupe",
          "Equatorial Guinea",
          "Greece",
          "South Georgia and the South Sandwich Islands",
          "Guatemala",
          "Guam",
          "Guinea-Bissau",
          "Guyana",
          "Gaza Strip",
          "Hong Kong",
          "Heard Island and McDonald Islands",
          "Honduras",
          "Croatia",
          "Haiti",
          "Hungary",
          "Indonesia",
          "Ireland",
          "Israel",
          "Isle of Man",
          "India",
          "British Indian Ocean Territory",
          "Iraq",
          "Iran",
          "Iceland",
          "Italy",
          "Jersey",
          "Jamaica",
          "Jordan",
          "Japan",
          "Kenya",
          "Kyrgyzstan",
          "Cambodia",
          "Kiribati",
          "Comoros",
          "Saint Kitts and Nevis",
          "North Korea",
          "South Korea",
          "Kuwait",
          "Cayman Islands",
          "Kazakhstan",
          "Laos",
          "Lebanon",
          "Saint Lucia",
          "Liechtenstein",
          "Sri Lanka",
          "Liberia",
          "Lesotho",
          "Lithuania",
          "Luxembourg",
          "Latvia",
          "Libya",
          "Morocco",
          "Monaco",
          "Moldova",
          "Montenegro",
          "Madagascar",
          "Marshall Islands",
          "Macedonia [FYROM]",
          "Mali",
          "Myanmar [Burma]",
          "Mongolia",
          "Macau",
          "Northern Mariana Islands",
          "Martinique",
          "Mauritania",
          "Montserrat",
          "Malta",
          "Mauritius",
          "Maldives",
          "Malawi",
          "Mexico",
          "Malaysia",
          "Mozambique",
          "Namibia",
          "New Caledonia",
          "Niger",
          "Norfolk Island",
          "Nigeria",
          "Nicaragua",
          "Netherlands",
          "Norway",
          "Nepal",
          "Nauru",
          "Niue",
          "New Zealand",
          "Oman",
          "Panama",
          "Peru",
          "French Polynesia",
          "Papua New Guinea",
          "Philippines",
          "Pakistan",
          "Poland",
          "Saint Pierre and Miquelon",
          "Pitcairn Islands",
          "Puerto Rico",
          "Palestinian Territories",
          "Portugal",
          "Palau",
          "Paraguay",
          "Qatar",
          "Réunion",
          "Romania",
          "Serbia",
          "Russia",
          "Rwanda",
          "Saudi Arabia",
          "Solomon Islands",
          "Seychelles",
          "Sudan",
          "Sweden",
          "Singapore",
          "Saint Helena",
          "Slovenia",
          "Svalbard and Jan Mayen",
          "Slovakia",
          "Sierra Leone",
          "San Marino",
          "Senegal",
          "Somalia",
          "Suriname",
          "São Tomé and Príncipe",
          "El Salvador",
          "Syria",
          "Swaziland",
          "Turks and Caicos Islands",
          "Chad",
          "French Southern Territories",
          "Togo",
          "Thailand",
          "Tajikistan",
          "Tokelau",
          "Timor-Leste",
          "Turkmenistan",
          "Tunisia",
          "Tonga",
          "Turkey",
          "Trinidad and Tobago",
          "Tuvalu",
          "Taiwan",
          "Tanzania",
          "Ukraine",
          "Uganda",
          "United States",
          "Uruguay",
          "Uzbekistan",
          "Vatican City",
          "Saint Vincent and the Grenadines",
          "Venezuela",
          "British Virgin Islands",
          "U.S. Virgin Islands",
          "Vietnam",
          "Vanuatu",
          "Wallis and Futuna",
          "Samoa",
          "Kosovo",
          "Yemen",
          "Mayotte",
          "South Africa",
          "Zambia",
          "Zimbabwe"
         ],
         "lat": [
          42.546245,
          23.424076,
          33.93911,
          17.060816,
          18.220554,
          41.153332,
          40.069099,
          12.226079,
          -11.202692,
          -75.250973,
          -38.416097,
          -14.270972,
          47.516231,
          -25.274398,
          12.52111,
          40.143105,
          43.915886,
          13.193887,
          23.684994,
          50.503887,
          12.238333,
          42.733883,
          25.930414,
          -3.373056,
          9.30769,
          32.321384,
          4.535277,
          -16.290154,
          -14.235004,
          25.03428,
          27.514162,
          -54.423199,
          -22.328474,
          53.709807,
          17.189877,
          56.130366,
          -12.164165,
          -4.038333,
          6.611111,
          -0.228021,
          46.818188,
          7.539989,
          -21.236736,
          -35.675147,
          7.369722,
          35.86166,
          4.570868,
          9.748917,
          21.521757,
          16.002082,
          -10.447525,
          35.126413,
          49.817492,
          51.165691,
          11.825138,
          56.26392,
          15.414999,
          18.735693,
          28.033886,
          -1.831239,
          58.595272,
          26.820553,
          24.215527,
          15.179384,
          40.463667,
          9.145,
          61.92411,
          -16.578193,
          -51.796253,
          7.425554,
          61.892635,
          46.227638,
          -0.803689,
          55.378051,
          12.262776,
          42.315407,
          3.933889,
          49.465691,
          7.946527,
          36.137741,
          71.706936,
          13.443182,
          9.945587,
          16.995971,
          1.650801,
          39.074208,
          -54.429579,
          15.783471,
          13.444304,
          11.803749,
          4.860416,
          31.354676,
          22.396428,
          -53.08181,
          15.199999,
          45.1,
          18.971187,
          47.162494,
          -0.789275,
          53.41291,
          31.046051,
          54.236107,
          20.593684,
          -6.343194,
          33.223191,
          32.427908,
          64.963051,
          41.87194,
          49.214439,
          18.109581,
          30.585164,
          36.204824,
          -0.023559,
          41.20438,
          12.565679,
          -3.370417,
          -11.875001,
          17.357822,
          40.339852,
          35.907757,
          29.31166,
          19.513469,
          48.019573,
          19.85627,
          33.854721,
          13.909444,
          47.166,
          7.873054,
          6.428055,
          -29.609988,
          55.169438,
          49.815273,
          56.879635,
          26.3351,
          31.791702,
          43.750298,
          47.411631,
          42.708678,
          -18.766947,
          7.131474,
          41.608635,
          17.570692,
          21.913965,
          46.862496,
          22.198745,
          17.33083,
          14.641528,
          21.00789,
          16.742498,
          35.937496,
          -20.348404,
          3.202778,
          -13.254308,
          23.634501,
          4.210484,
          -18.665695,
          -22.95764,
          -20.904305,
          17.607789,
          -29.040835,
          9.081999,
          12.865416,
          52.132633,
          60.472024,
          28.394857,
          -0.522778,
          -19.054445,
          -40.900557,
          21.512583,
          8.537981,
          -9.189967,
          -17.679742,
          -6.314993,
          12.879721,
          30.375321,
          51.919438,
          46.941936,
          -24.703615,
          18.220833,
          31.952162,
          39.399872,
          7.51498,
          -23.442503,
          25.354826,
          -21.115141,
          45.943161,
          44.016521,
          61.52401,
          -1.940278,
          23.885942,
          -9.64571,
          -4.679574,
          12.862807,
          60.128161,
          1.352083,
          -24.143474,
          46.151241,
          77.553604,
          48.669026,
          8.460555,
          43.94236,
          14.497401,
          5.152149,
          3.919305,
          0.18636,
          13.794185,
          34.802075,
          -26.522503,
          21.694025,
          15.454166,
          -49.280366,
          8.619543,
          15.870032,
          38.861034,
          -8.967363,
          -8.874217,
          38.969719,
          33.886917,
          -21.178986,
          38.963745,
          10.691803,
          -7.109535,
          23.69781,
          -6.369028,
          48.379433,
          1.373333,
          37.09024,
          -32.522779,
          41.377491,
          41.902916,
          12.984305,
          6.42375,
          18.420695,
          18.335765,
          14.058324,
          -15.376706,
          -13.768752,
          -13.759029,
          42.602636,
          15.552727,
          -12.8275,
          -30.559482,
          -13.133897,
          -19.015438
         ],
         "legendgroup": "",
         "lon": [
          1.601554,
          53.847818,
          67.709953,
          -61.796428,
          -63.068615,
          20.168331,
          45.038189,
          -69.060087,
          17.873887,
          -0.071389,
          -63.616672,
          -170.132217,
          14.550072,
          133.775136,
          -69.968338,
          47.576927,
          17.679076,
          -59.543198,
          90.356331,
          4.469936,
          -1.561593,
          25.48583,
          50.637772,
          29.918886,
          2.315834,
          -64.75737,
          114.727669,
          -63.588653,
          -51.92528,
          -77.39628,
          90.433601,
          3.413194,
          24.684866,
          27.953389,
          -88.49765,
          -106.346771,
          96.870956,
          21.758664,
          20.939444,
          15.827659,
          8.227512,
          -5.54708,
          -159.777671,
          -71.542969,
          12.354722,
          104.195397,
          -74.297333,
          -83.753428,
          -77.781167,
          -24.013197,
          105.690449,
          33.429859,
          15.472962,
          10.451526,
          42.590275,
          9.501785,
          -61.370976,
          -70.162651,
          1.659626,
          -78.183406,
          25.013607,
          30.802498,
          -12.885834,
          39.782334,
          -3.74922,
          40.489673,
          25.748151,
          179.414413,
          -59.523613,
          150.550812,
          -6.911806,
          2.213749,
          11.609444,
          -3.435973,
          -61.604171,
          43.356892,
          -53.125782,
          -2.585278,
          -1.023194,
          -5.345374,
          -42.604303,
          -15.310139,
          -9.696645,
          -62.067641,
          10.267895,
          21.824312,
          -36.587909,
          -90.230759,
          144.793731,
          -15.180413,
          -58.93018,
          34.308825,
          114.109497,
          73.504158,
          -86.241905,
          15.2,
          -72.285215,
          19.503304,
          113.921327,
          -8.24389,
          34.851612,
          -4.548056,
          78.96288,
          71.876519,
          43.679291,
          53.688046,
          -19.020835,
          12.56738,
          -2.13125,
          -77.297508,
          36.238414,
          138.252924,
          37.906193,
          74.766098,
          104.990963,
          -168.734039,
          43.872219,
          -62.782998,
          127.510093,
          127.766922,
          47.481766,
          -80.566956,
          66.923684,
          102.495496,
          35.862285,
          -60.978893,
          9.555373,
          80.771797,
          -9.429499,
          28.233608,
          23.881275,
          6.129583,
          24.603189,
          17.228331,
          -7.09262,
          7.412841,
          28.369885,
          19.37439,
          46.869107,
          171.184478,
          21.745275,
          -3.996166,
          95.956223,
          103.846656,
          113.543873,
          145.38469,
          -61.024174,
          -10.940835,
          -62.187366,
          14.375416,
          57.552152,
          73.22068,
          34.301525,
          -102.552784,
          101.975766,
          35.529562,
          18.49041,
          165.618042,
          8.081666,
          167.954712,
          8.675277,
          -85.207229,
          5.291266,
          8.468946,
          84.124008,
          166.931503,
          -169.867233,
          174.885971,
          55.923255,
          -80.782127,
          -75.015152,
          -149.406843,
          143.95555,
          121.774017,
          69.345116,
          19.145136,
          -56.27111,
          -127.439308,
          -66.590149,
          35.233154,
          -8.224454,
          134.58252,
          -58.443832,
          51.183884,
          55.536384,
          24.96676,
          21.005859,
          105.318756,
          29.873888,
          45.079162,
          160.156194,
          55.491977,
          30.217636,
          18.643501,
          103.819836,
          -10.030696,
          14.995463,
          23.670272,
          19.699024,
          -11.779889,
          12.457777,
          -14.452362,
          46.199616,
          -56.027783,
          6.613081,
          -88.89653,
          38.996815,
          31.465866,
          -71.797928,
          18.732207,
          69.348557,
          0.824782,
          100.992541,
          71.276093,
          -171.855881,
          125.727539,
          59.556278,
          9.537499,
          -175.198242,
          35.243322,
          -61.222503,
          177.64933,
          120.960515,
          34.888822,
          31.16558,
          32.290275,
          -95.712891,
          -55.765835,
          64.585262,
          12.453389,
          -61.287228,
          -66.58973,
          -64.639968,
          -64.896335,
          108.277199,
          166.959158,
          -177.156097,
          -172.104629,
          20.902977,
          48.516388,
          45.166244,
          22.937506,
          27.849332,
          29.154857
         ],
         "marker": {
          "color": [
           3,
           2,
           2,
           1,
           1,
           3,
           3,
           1,
           0,
           0,
           1,
           1,
           3,
           0,
           1,
           3,
           3,
           1,
           0,
           3,
           2,
           3,
           2,
           0,
           2,
           1,
           0,
           1,
           1,
           1,
           0,
           0,
           0,
           3,
           1,
           1,
           0,
           0,
           2,
           2,
           3,
           2,
           1,
           1,
           2,
           0,
           1,
           1,
           1,
           2,
           0,
           2,
           3,
           3,
           0,
           3,
           1,
           1,
           2,
           1,
           3,
           2,
           2,
           2,
           3,
           0,
           3,
           0,
           0,
           0,
           3,
           3,
           2,
           3,
           1,
           3,
           1,
           3,
           2,
           2,
           3,
           2,
           2,
           1,
           2,
           3,
           0,
           1,
           0,
           2,
           1,
           2,
           0,
           0,
           1,
           3,
           1,
           3,
           0,
           3,
           2,
           3,
           0,
           0,
           2,
           2,
           3,
           3,
           3,
           1,
           2,
           0,
           0,
           3,
           0,
           1,
           0,
           1,
           0,
           0,
           2,
           1,
           3,
           0,
           2,
           1,
           3,
           0,
           2,
           0,
           3,
           3,
           3,
           2,
           2,
           3,
           3,
           3,
           0,
           0,
           3,
           2,
           0,
           3,
           0,
           0,
           1,
           2,
           1,
           2,
           0,
           0,
           0,
           1,
           0,
           0,
           0,
           0,
           2,
           0,
           2,
           1,
           3,
           3,
           0,
           0,
           1,
           0,
           2,
           1,
           1,
           1,
           0,
           0,
           2,
           3,
           3,
           1,
           1,
           2,
           3,
           0,
           1,
           2,
           0,
           3,
           3,
           3,
           0,
           2,
           0,
           0,
           2,
           3,
           0,
           0,
           3,
           3,
           3,
           2,
           3,
           2,
           0,
           1,
           2,
           1,
           2,
           0,
           1,
           2,
           0,
           2,
           0,
           3,
           1,
           0,
           3,
           2,
           1,
           3,
           1,
           0,
           0,
           0,
           3,
           0,
           1,
           1,
           3,
           3,
           1,
           1,
           1,
           1,
           0,
           0,
           1,
           1,
           3,
           2,
           0,
           0,
           0,
           0
          ],
          "coloraxis": "coloraxis"
         },
         "mode": "markers",
         "name": "",
         "showlegend": false,
         "subplot": "mapbox",
         "type": "scattermapbox"
        }
       ],
       "layout": {
        "coloraxis": {
         "colorbar": {
          "title": {
           "text": "dpc_group"
          }
         },
         "colorscale": [
          [
           0,
           "#0d0887"
          ],
          [
           0.1111111111111111,
           "#46039f"
          ],
          [
           0.2222222222222222,
           "#7201a8"
          ],
          [
           0.3333333333333333,
           "#9c179e"
          ],
          [
           0.4444444444444444,
           "#bd3786"
          ],
          [
           0.5555555555555556,
           "#d8576b"
          ],
          [
           0.6666666666666666,
           "#ed7953"
          ],
          [
           0.7777777777777778,
           "#fb9f3a"
          ],
          [
           0.8888888888888888,
           "#fdca26"
          ],
          [
           1,
           "#f0f921"
          ]
         ]
        },
        "legend": {
         "tracegroupgap": 0
        },
        "mapbox": {
         "center": {
          "lat": 16.2531093647541,
          "lon": 13.294813586065574
         },
         "domain": {
          "x": [
           0,
           1
          ],
          "y": [
           0,
           1
          ]
         },
         "style": "carto-positron",
         "zoom": 1
        },
        "margin": {
         "b": 10,
         "l": 0,
         "r": 0,
         "t": 30
        },
        "template": {
         "data": {
          "bar": [
           {
            "error_x": {
             "color": "#2a3f5f"
            },
            "error_y": {
             "color": "#2a3f5f"
            },
            "marker": {
             "line": {
              "color": "#E5ECF6",
              "width": 0.5
             },
             "pattern": {
              "fillmode": "overlay",
              "size": 10,
              "solidity": 0.2
             }
            },
            "type": "bar"
           }
          ],
          "barpolar": [
           {
            "marker": {
             "line": {
              "color": "#E5ECF6",
              "width": 0.5
             },
             "pattern": {
              "fillmode": "overlay",
              "size": 10,
              "solidity": 0.2
             }
            },
            "type": "barpolar"
           }
          ],
          "carpet": [
           {
            "aaxis": {
             "endlinecolor": "#2a3f5f",
             "gridcolor": "white",
             "linecolor": "white",
             "minorgridcolor": "white",
             "startlinecolor": "#2a3f5f"
            },
            "baxis": {
             "endlinecolor": "#2a3f5f",
             "gridcolor": "white",
             "linecolor": "white",
             "minorgridcolor": "white",
             "startlinecolor": "#2a3f5f"
            },
            "type": "carpet"
           }
          ],
          "choropleth": [
           {
            "colorbar": {
             "outlinewidth": 0,
             "ticks": ""
            },
            "type": "choropleth"
           }
          ],
          "contour": [
           {
            "colorbar": {
             "outlinewidth": 0,
             "ticks": ""
            },
            "colorscale": [
             [
              0,
              "#0d0887"
             ],
             [
              0.1111111111111111,
              "#46039f"
             ],
             [
              0.2222222222222222,
              "#7201a8"
             ],
             [
              0.3333333333333333,
              "#9c179e"
             ],
             [
              0.4444444444444444,
              "#bd3786"
             ],
             [
              0.5555555555555556,
              "#d8576b"
             ],
             [
              0.6666666666666666,
              "#ed7953"
             ],
             [
              0.7777777777777778,
              "#fb9f3a"
             ],
             [
              0.8888888888888888,
              "#fdca26"
             ],
             [
              1,
              "#f0f921"
             ]
            ],
            "type": "contour"
           }
          ],
          "contourcarpet": [
           {
            "colorbar": {
             "outlinewidth": 0,
             "ticks": ""
            },
            "type": "contourcarpet"
           }
          ],
          "heatmap": [
           {
            "colorbar": {
             "outlinewidth": 0,
             "ticks": ""
            },
            "colorscale": [
             [
              0,
              "#0d0887"
             ],
             [
              0.1111111111111111,
              "#46039f"
             ],
             [
              0.2222222222222222,
              "#7201a8"
             ],
             [
              0.3333333333333333,
              "#9c179e"
             ],
             [
              0.4444444444444444,
              "#bd3786"
             ],
             [
              0.5555555555555556,
              "#d8576b"
             ],
             [
              0.6666666666666666,
              "#ed7953"
             ],
             [
              0.7777777777777778,
              "#fb9f3a"
             ],
             [
              0.8888888888888888,
              "#fdca26"
             ],
             [
              1,
              "#f0f921"
             ]
            ],
            "type": "heatmap"
           }
          ],
          "heatmapgl": [
           {
            "colorbar": {
             "outlinewidth": 0,
             "ticks": ""
            },
            "colorscale": [
             [
              0,
              "#0d0887"
             ],
             [
              0.1111111111111111,
              "#46039f"
             ],
             [
              0.2222222222222222,
              "#7201a8"
             ],
             [
              0.3333333333333333,
              "#9c179e"
             ],
             [
              0.4444444444444444,
              "#bd3786"
             ],
             [
              0.5555555555555556,
              "#d8576b"
             ],
             [
              0.6666666666666666,
              "#ed7953"
             ],
             [
              0.7777777777777778,
              "#fb9f3a"
             ],
             [
              0.8888888888888888,
              "#fdca26"
             ],
             [
              1,
              "#f0f921"
             ]
            ],
            "type": "heatmapgl"
           }
          ],
          "histogram": [
           {
            "marker": {
             "pattern": {
              "fillmode": "overlay",
              "size": 10,
              "solidity": 0.2
             }
            },
            "type": "histogram"
           }
          ],
          "histogram2d": [
           {
            "colorbar": {
             "outlinewidth": 0,
             "ticks": ""
            },
            "colorscale": [
             [
              0,
              "#0d0887"
             ],
             [
              0.1111111111111111,
              "#46039f"
             ],
             [
              0.2222222222222222,
              "#7201a8"
             ],
             [
              0.3333333333333333,
              "#9c179e"
             ],
             [
              0.4444444444444444,
              "#bd3786"
             ],
             [
              0.5555555555555556,
              "#d8576b"
             ],
             [
              0.6666666666666666,
              "#ed7953"
             ],
             [
              0.7777777777777778,
              "#fb9f3a"
             ],
             [
              0.8888888888888888,
              "#fdca26"
             ],
             [
              1,
              "#f0f921"
             ]
            ],
            "type": "histogram2d"
           }
          ],
          "histogram2dcontour": [
           {
            "colorbar": {
             "outlinewidth": 0,
             "ticks": ""
            },
            "colorscale": [
             [
              0,
              "#0d0887"
             ],
             [
              0.1111111111111111,
              "#46039f"
             ],
             [
              0.2222222222222222,
              "#7201a8"
             ],
             [
              0.3333333333333333,
              "#9c179e"
             ],
             [
              0.4444444444444444,
              "#bd3786"
             ],
             [
              0.5555555555555556,
              "#d8576b"
             ],
             [
              0.6666666666666666,
              "#ed7953"
             ],
             [
              0.7777777777777778,
              "#fb9f3a"
             ],
             [
              0.8888888888888888,
              "#fdca26"
             ],
             [
              1,
              "#f0f921"
             ]
            ],
            "type": "histogram2dcontour"
           }
          ],
          "mesh3d": [
           {
            "colorbar": {
             "outlinewidth": 0,
             "ticks": ""
            },
            "type": "mesh3d"
           }
          ],
          "parcoords": [
           {
            "line": {
             "colorbar": {
              "outlinewidth": 0,
              "ticks": ""
             }
            },
            "type": "parcoords"
           }
          ],
          "pie": [
           {
            "automargin": true,
            "type": "pie"
           }
          ],
          "scatter": [
           {
            "fillpattern": {
             "fillmode": "overlay",
             "size": 10,
             "solidity": 0.2
            },
            "type": "scatter"
           }
          ],
          "scatter3d": [
           {
            "line": {
             "colorbar": {
              "outlinewidth": 0,
              "ticks": ""
             }
            },
            "marker": {
             "colorbar": {
              "outlinewidth": 0,
              "ticks": ""
             }
            },
            "type": "scatter3d"
           }
          ],
          "scattercarpet": [
           {
            "marker": {
             "colorbar": {
              "outlinewidth": 0,
              "ticks": ""
             }
            },
            "type": "scattercarpet"
           }
          ],
          "scattergeo": [
           {
            "marker": {
             "colorbar": {
              "outlinewidth": 0,
              "ticks": ""
             }
            },
            "type": "scattergeo"
           }
          ],
          "scattergl": [
           {
            "marker": {
             "colorbar": {
              "outlinewidth": 0,
              "ticks": ""
             }
            },
            "type": "scattergl"
           }
          ],
          "scattermapbox": [
           {
            "marker": {
             "colorbar": {
              "outlinewidth": 0,
              "ticks": ""
             }
            },
            "type": "scattermapbox"
           }
          ],
          "scatterpolar": [
           {
            "marker": {
             "colorbar": {
              "outlinewidth": 0,
              "ticks": ""
             }
            },
            "type": "scatterpolar"
           }
          ],
          "scatterpolargl": [
           {
            "marker": {
             "colorbar": {
              "outlinewidth": 0,
              "ticks": ""
             }
            },
            "type": "scatterpolargl"
           }
          ],
          "scatterternary": [
           {
            "marker": {
             "colorbar": {
              "outlinewidth": 0,
              "ticks": ""
             }
            },
            "type": "scatterternary"
           }
          ],
          "surface": [
           {
            "colorbar": {
             "outlinewidth": 0,
             "ticks": ""
            },
            "colorscale": [
             [
              0,
              "#0d0887"
             ],
             [
              0.1111111111111111,
              "#46039f"
             ],
             [
              0.2222222222222222,
              "#7201a8"
             ],
             [
              0.3333333333333333,
              "#9c179e"
             ],
             [
              0.4444444444444444,
              "#bd3786"
             ],
             [
              0.5555555555555556,
              "#d8576b"
             ],
             [
              0.6666666666666666,
              "#ed7953"
             ],
             [
              0.7777777777777778,
              "#fb9f3a"
             ],
             [
              0.8888888888888888,
              "#fdca26"
             ],
             [
              1,
              "#f0f921"
             ]
            ],
            "type": "surface"
           }
          ],
          "table": [
           {
            "cells": {
             "fill": {
              "color": "#EBF0F8"
             },
             "line": {
              "color": "white"
             }
            },
            "header": {
             "fill": {
              "color": "#C8D4E3"
             },
             "line": {
              "color": "white"
             }
            },
            "type": "table"
           }
          ]
         },
         "layout": {
          "annotationdefaults": {
           "arrowcolor": "#2a3f5f",
           "arrowhead": 0,
           "arrowwidth": 1
          },
          "autotypenumbers": "strict",
          "coloraxis": {
           "colorbar": {
            "outlinewidth": 0,
            "ticks": ""
           }
          },
          "colorscale": {
           "diverging": [
            [
             0,
             "#8e0152"
            ],
            [
             0.1,
             "#c51b7d"
            ],
            [
             0.2,
             "#de77ae"
            ],
            [
             0.3,
             "#f1b6da"
            ],
            [
             0.4,
             "#fde0ef"
            ],
            [
             0.5,
             "#f7f7f7"
            ],
            [
             0.6,
             "#e6f5d0"
            ],
            [
             0.7,
             "#b8e186"
            ],
            [
             0.8,
             "#7fbc41"
            ],
            [
             0.9,
             "#4d9221"
            ],
            [
             1,
             "#276419"
            ]
           ],
           "sequential": [
            [
             0,
             "#0d0887"
            ],
            [
             0.1111111111111111,
             "#46039f"
            ],
            [
             0.2222222222222222,
             "#7201a8"
            ],
            [
             0.3333333333333333,
             "#9c179e"
            ],
            [
             0.4444444444444444,
             "#bd3786"
            ],
            [
             0.5555555555555556,
             "#d8576b"
            ],
            [
             0.6666666666666666,
             "#ed7953"
            ],
            [
             0.7777777777777778,
             "#fb9f3a"
            ],
            [
             0.8888888888888888,
             "#fdca26"
            ],
            [
             1,
             "#f0f921"
            ]
           ],
           "sequentialminus": [
            [
             0,
             "#0d0887"
            ],
            [
             0.1111111111111111,
             "#46039f"
            ],
            [
             0.2222222222222222,
             "#7201a8"
            ],
            [
             0.3333333333333333,
             "#9c179e"
            ],
            [
             0.4444444444444444,
             "#bd3786"
            ],
            [
             0.5555555555555556,
             "#d8576b"
            ],
            [
             0.6666666666666666,
             "#ed7953"
            ],
            [
             0.7777777777777778,
             "#fb9f3a"
            ],
            [
             0.8888888888888888,
             "#fdca26"
            ],
            [
             1,
             "#f0f921"
            ]
           ]
          },
          "colorway": [
           "#636efa",
           "#EF553B",
           "#00cc96",
           "#ab63fa",
           "#FFA15A",
           "#19d3f3",
           "#FF6692",
           "#B6E880",
           "#FF97FF",
           "#FECB52"
          ],
          "font": {
           "color": "#2a3f5f"
          },
          "geo": {
           "bgcolor": "white",
           "lakecolor": "white",
           "landcolor": "#E5ECF6",
           "showlakes": true,
           "showland": true,
           "subunitcolor": "white"
          },
          "hoverlabel": {
           "align": "left"
          },
          "hovermode": "closest",
          "mapbox": {
           "style": "light"
          },
          "paper_bgcolor": "white",
          "plot_bgcolor": "#E5ECF6",
          "polar": {
           "angularaxis": {
            "gridcolor": "white",
            "linecolor": "white",
            "ticks": ""
           },
           "bgcolor": "#E5ECF6",
           "radialaxis": {
            "gridcolor": "white",
            "linecolor": "white",
            "ticks": ""
           }
          },
          "scene": {
           "xaxis": {
            "backgroundcolor": "#E5ECF6",
            "gridcolor": "white",
            "gridwidth": 2,
            "linecolor": "white",
            "showbackground": true,
            "ticks": "",
            "zerolinecolor": "white"
           },
           "yaxis": {
            "backgroundcolor": "#E5ECF6",
            "gridcolor": "white",
            "gridwidth": 2,
            "linecolor": "white",
            "showbackground": true,
            "ticks": "",
            "zerolinecolor": "white"
           },
           "zaxis": {
            "backgroundcolor": "#E5ECF6",
            "gridcolor": "white",
            "gridwidth": 2,
            "linecolor": "white",
            "showbackground": true,
            "ticks": "",
            "zerolinecolor": "white"
           }
          },
          "shapedefaults": {
           "line": {
            "color": "#2a3f5f"
           }
          },
          "ternary": {
           "aaxis": {
            "gridcolor": "white",
            "linecolor": "white",
            "ticks": ""
           },
           "baxis": {
            "gridcolor": "white",
            "linecolor": "white",
            "ticks": ""
           },
           "bgcolor": "#E5ECF6",
           "caxis": {
            "gridcolor": "white",
            "linecolor": "white",
            "ticks": ""
           }
          },
          "title": {
           "x": 0.05
          },
          "xaxis": {
           "automargin": true,
           "gridcolor": "white",
           "linecolor": "white",
           "ticks": "",
           "title": {
            "standoff": 15
           },
           "zerolinecolor": "white",
           "zerolinewidth": 2
          },
          "yaxis": {
           "automargin": true,
           "gridcolor": "white",
           "linecolor": "white",
           "ticks": "",
           "title": {
            "standoff": 15
           },
           "zerolinecolor": "white",
           "zerolinewidth": 2
          }
         }
        },
        "title": {
         "text": "Clustering using DPC with 4 cluster"
        }
       }
      }
     },
     "metadata": {},
     "output_type": "display_data"
    }
   ],
   "source": [
    "fig3 = px.scatter_mapbox(data_train, \n",
    "                        lat='latitude', \n",
    "                        lon='longitude', \n",
    "                        hover_name='name', \n",
    "                        color='dpc_group',\n",
    "                        mapbox_style='carto-positron', \n",
    "                        zoom=1)\n",
    "fig3.update_layout(margin={\"r\":0,\"t\":30,\"l\":0,\"b\":10}, title='Clustering using DPC with 4 cluster')\n",
    "fig3.show()"
   ]
  },
  {
   "cell_type": "markdown",
   "metadata": {},
   "source": [
    "# 3. So sánh và nhận xét\n",
    "- K-means: Thường tạo ra các cụm có kích thước và hình dạng đồng nhất. Khi áp dụng với dữ liệu địa lý như các tọa độ vĩ độ và kinh độ, các cụm sẽ có xu hướng có hình dạng tròn. Các cụm nằm gần nhau về mặt địa lý sẽ được nhóm lại, nhưng các điểm ngoại lai hoặc cụm không đều sẽ không được xử lý tốt.\n",
    "- DBSCAN: Phù hợp hơn với dữ liệu địa lý vì có thể phát hiện và loại bỏ các điểm ngoại lai. Các cụm có thể có hình dạng bất kỳ, chẳng hạn như các cụm quốc gia theo khu vực địa lý.\n",
    "- DPC: DPC có thể bắt đầu với việc phân chia các quốc gia thành các khu vực lớn và sau đó phân chia thêm nếu cần thiết. Điều này có thể tạo ra các cụm mang tính chất phân cấp, nhưng cũng có thể gặp khó khăn trong việc xác định số lượng cụm hoặc tiêu chí dừng phù hợp."
   ]
  }
 ],
 "metadata": {
  "kernelspec": {
   "display_name": "py_venv",
   "language": "python",
   "name": "python3"
  },
  "language_info": {
   "codemirror_mode": {
    "name": "ipython",
    "version": 3
   },
   "file_extension": ".py",
   "mimetype": "text/x-python",
   "name": "python",
   "nbconvert_exporter": "python",
   "pygments_lexer": "ipython3",
   "version": "3.12.4"
  }
 },
 "nbformat": 4,
 "nbformat_minor": 2
}
